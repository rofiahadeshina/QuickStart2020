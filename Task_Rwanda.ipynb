{
  "nbformat": 4,
  "nbformat_minor": 0,
  "metadata": {
    "colab": {
      "name": "Task_Rwanda.ipynb",
      "provenance": [],
      "collapsed_sections": [],
      "include_colab_link": true
    },
    "kernelspec": {
      "display_name": "Python 3",
      "language": "python",
      "name": "python3"
    },
    "language_info": {
      "codemirror_mode": {
        "name": "ipython",
        "version": 3
      },
      "file_extension": ".py",
      "mimetype": "text/x-python",
      "name": "python",
      "nbconvert_exporter": "python",
      "pygments_lexer": "ipython3",
      "version": "3.7.1"
    }
  },
  "cells": [
    {
      "cell_type": "markdown",
      "metadata": {
        "id": "view-in-github",
        "colab_type": "text"
      },
      "source": [
        "<a href=\"https://colab.research.google.com/github/rofiahadeshina/QuickStart2020/blob/master/Task_Rwanda.ipynb\" target=\"_parent\"><img src=\"https://colab.research.google.com/assets/colab-badge.svg\" alt=\"Open In Colab\"/></a>"
      ]
    },
    {
      "cell_type": "markdown",
      "metadata": {
        "colab_type": "text",
        "id": "M8uZMIoTeAPk"
      },
      "source": [
        "[![Open In Colab](https://colab.research.google.com/assets/colab-badge.svg)](https://colab.research.google.com/github/Priesemann-Group/covid19_inference/blob/model_cleanup/scripts/interactive/example_one_bundesland.ipynb)"
      ]
    },
    {
      "cell_type": "markdown",
      "metadata": {
        "colab_type": "text",
        "id": "T4NnhtgBez_S"
      },
      "source": [
        "# **RWANDA** \n",
        "\n",
        "In this project we used Bayesian inference technique to estimate the SIR model parameters, and apply Bayesian model comparison to select models that best fit the observed data; Rwanda COVID19 reported cases. The workflow of the project is informed by [this article](https://science.sciencemag.org/content/sci/369/6500/eabb9789.full.pdf) published by a team of researchers in Germany for the German COVID19 cases."
      ]
    },
    {
      "cell_type": "code",
      "metadata": {
        "ExecuteTime": {
          "end_time": "2020-08-06T09:57:01.192866Z",
          "start_time": "2020-08-06T09:55:38.850712Z"
        },
        "colab_type": "code",
        "id": "HT3gaZodeAPx",
        "colab": {
          "base_uri": "https://localhost:8080/",
          "height": 463
        },
        "outputId": "4b975b3c-e3cc-4f86-d3a5-f0ca16a6669a"
      },
      "source": [
        "!pip install git+https://github.com/Priesemann-Group/covid19_inference.git      #cloning the project git repository"
      ],
      "execution_count": 2,
      "outputs": [
        {
          "output_type": "stream",
          "text": [
            "Collecting git+https://github.com/Priesemann-Group/covid19_inference.git\n",
            "  Cloning https://github.com/Priesemann-Group/covid19_inference.git to /tmp/pip-req-build-dy0j_q69\n",
            "  Running command git clone -q https://github.com/Priesemann-Group/covid19_inference.git /tmp/pip-req-build-dy0j_q69\n",
            "Requirement already satisfied (use --upgrade to upgrade): covid19-inference==0.1.8a0 from git+https://github.com/Priesemann-Group/covid19_inference.git in /usr/local/lib/python3.6/dist-packages\n",
            "Requirement already satisfied: pymc3 in /usr/local/lib/python3.6/dist-packages (from covid19-inference==0.1.8a0) (3.7)\n",
            "Requirement already satisfied: matplotlib in /usr/local/lib/python3.6/dist-packages (from covid19-inference==0.1.8a0) (3.2.2)\n",
            "Requirement already satisfied: numpy in /usr/local/lib/python3.6/dist-packages (from covid19-inference==0.1.8a0) (1.18.5)\n",
            "Requirement already satisfied: pandas in /usr/local/lib/python3.6/dist-packages (from covid19-inference==0.1.8a0) (1.0.5)\n",
            "Requirement already satisfied: theano in /usr/local/lib/python3.6/dist-packages (from covid19-inference==0.1.8a0) (1.0.5)\n",
            "Requirement already satisfied: patsy>=0.4.0 in /usr/local/lib/python3.6/dist-packages (from pymc3->covid19-inference==0.1.8a0) (0.5.1)\n",
            "Requirement already satisfied: h5py>=2.7.0 in /usr/local/lib/python3.6/dist-packages (from pymc3->covid19-inference==0.1.8a0) (2.10.0)\n",
            "Requirement already satisfied: scipy>=0.18.1 in /usr/local/lib/python3.6/dist-packages (from pymc3->covid19-inference==0.1.8a0) (1.4.1)\n",
            "Requirement already satisfied: tqdm>=4.8.4 in /usr/local/lib/python3.6/dist-packages (from pymc3->covid19-inference==0.1.8a0) (4.41.1)\n",
            "Requirement already satisfied: kiwisolver>=1.0.1 in /usr/local/lib/python3.6/dist-packages (from matplotlib->covid19-inference==0.1.8a0) (1.2.0)\n",
            "Requirement already satisfied: pyparsing!=2.0.4,!=2.1.2,!=2.1.6,>=2.0.1 in /usr/local/lib/python3.6/dist-packages (from matplotlib->covid19-inference==0.1.8a0) (2.4.7)\n",
            "Requirement already satisfied: python-dateutil>=2.1 in /usr/local/lib/python3.6/dist-packages (from matplotlib->covid19-inference==0.1.8a0) (2.8.1)\n",
            "Requirement already satisfied: cycler>=0.10 in /usr/local/lib/python3.6/dist-packages (from matplotlib->covid19-inference==0.1.8a0) (0.10.0)\n",
            "Requirement already satisfied: pytz>=2017.2 in /usr/local/lib/python3.6/dist-packages (from pandas->covid19-inference==0.1.8a0) (2018.9)\n",
            "Requirement already satisfied: six>=1.9.0 in /usr/local/lib/python3.6/dist-packages (from theano->covid19-inference==0.1.8a0) (1.15.0)\n",
            "Building wheels for collected packages: covid19-inference\n",
            "  Building wheel for covid19-inference (setup.py) ... \u001b[?25l\u001b[?25hdone\n",
            "  Created wheel for covid19-inference: filename=covid19_inference-0.1.8a0-cp36-none-any.whl size=103637 sha256=484e197782a24480ca29821e5b9853c0465d14ada6d96331261e1cfb89d53030\n",
            "  Stored in directory: /tmp/pip-ephem-wheel-cache-cw7sg8n8/wheels/da/f1/e7/da56ba4fe019b70927b4bb10088f02f672b31b69fd54a6e613\n",
            "Successfully built covid19-inference\n"
          ],
          "name": "stdout"
        }
      ]
    },
    {
      "cell_type": "markdown",
      "metadata": {
        "colab_type": "text",
        "id": "XSsMGFPOeARG"
      },
      "source": [
        "\n",
        "\n",
        "#### importing libraries\n"
      ]
    },
    {
      "cell_type": "code",
      "metadata": {
        "ExecuteTime": {
          "end_time": "2020-08-06T09:57:20.857561Z",
          "start_time": "2020-08-06T09:57:20.847565Z"
        },
        "colab_type": "code",
        "id": "rpvQa04heARP",
        "colab": {}
      },
      "source": [
        "import datetime\n",
        "import time as time_module\n",
        "import sys\n",
        "import pandas as pd\n",
        "import numpy as np\n",
        "import matplotlib as mpl\n",
        "import matplotlib.pyplot as plt\n",
        "import scipy.stats\n",
        "import theano\n",
        "import theano.tensor as tt\n",
        "import pymc3 as pm"
      ],
      "execution_count": 22,
      "outputs": []
    },
    {
      "cell_type": "markdown",
      "metadata": {
        "colab_type": "text",
        "id": "JET4-cz1gvIO"
      },
      "source": [
        "importing the module we need for the model from the git repository"
      ]
    },
    {
      "cell_type": "code",
      "metadata": {
        "ExecuteTime": {
          "end_time": "2020-08-06T10:02:04.040184Z",
          "start_time": "2020-08-06T10:02:04.029191Z"
        },
        "colab_type": "code",
        "id": "2-QZfegZeAR7",
        "colab": {}
      },
      "source": [
        "# Now to the fun stuff, we import our module!\n",
        "try:\n",
        "    import covid19_inference as cov19\n",
        "except ModuleNotFoundError:\n",
        "    sys.path.append(\"../../\")\n",
        "    import covid19_inference as cov19"
      ],
      "execution_count": 23,
      "outputs": []
    },
    {
      "cell_type": "markdown",
      "metadata": {
        "colab_type": "text",
        "id": "MXPNhT89eASq"
      },
      "source": [
        "## Evidence = P(Data|Model)\n",
        "\n",
        "##      $P(\\theta|Data,Model) ~=~ P(Data|\\theta,Model)P(\\theta)$\n"
      ]
    },
    {
      "cell_type": "markdown",
      "metadata": {
        "colab_type": "text",
        "id": "uuvL4gJ0eATh"
      },
      "source": [
        "\n",
        "## Data retrieval\n",
        "\n",
        "The next thing we want to do is load a dataset from somewhere.\n",
        "There are multiple download sources which can be found [here](https://covid19-inference.readthedocs.io/en/latest/doc/data_retrieval.html).\n",
        "In this example we will use the JHU dataset which is the database for covid19 cases in the world being managed by researchers at the John Hopkins University in the United States of America.\n"
      ]
    },
    {
      "cell_type": "code",
      "metadata": {
        "ExecuteTime": {
          "end_time": "2020-08-06T10:02:22.490576Z",
          "start_time": "2020-08-06T10:02:22.323672Z"
        },
        "colab_type": "code",
        "id": "hdfCNSireAT0",
        "colab": {
          "base_uri": "https://localhost:8080/",
          "height": 34
        },
        "outputId": "6b5a03f8-d9cc-42ab-9ba0-7eae9425c15b"
      },
      "source": [
        "jhu = cov19.data_retrieval.JHU()\n",
        "jhu.download_all_available_data()\n",
        "\n"
      ],
      "execution_count": 24,
      "outputs": [
        {
          "output_type": "stream",
          "text": [
            "INFO     [covid19_inference.data_retrieval._JHU] Successfully loaded data from local\n"
          ],
          "name": "stderr"
        }
      ]
    },
    {
      "cell_type": "code",
      "metadata": {
        "ExecuteTime": {
          "end_time": "2020-08-06T09:58:56.250718Z",
          "start_time": "2020-08-06T09:58:56.206749Z"
        },
        "colab_type": "code",
        "id": "p1G1fE3jeAUy",
        "colab": {
          "base_uri": "https://localhost:8080/",
          "height": 294
        },
        "outputId": "8c9dde82-2e34-44c3-de58-12287315c7e8"
      },
      "source": [
        "df = jhu.confirmed.Rwanda\n",
        "df.columns = ['value']\n",
        "df.plot()"
      ],
      "execution_count": 25,
      "outputs": [
        {
          "output_type": "execute_result",
          "data": {
            "text/plain": [
              "<matplotlib.axes._subplots.AxesSubplot at 0x7f1be6b2ae48>"
            ]
          },
          "metadata": {
            "tags": []
          },
          "execution_count": 25
        },
        {
          "output_type": "display_data",
          "data": {
            "image/png": "[encoded data removed]",
            "text/plain": [
              "<Figure size 432x288 with 1 Axes>"
            ]
          },
          "metadata": {
            "tags": [],
            "needs_background": "light"
          }
        }
      ]
    },
    {
      "cell_type": "markdown",
      "metadata": {
        "colab_type": "text",
        "id": "mQJCQaEKhWEg"
      },
      "source": [
        "#### Dropping Null Values\n",
        "\n"
      ]
    },
    {
      "cell_type": "code",
      "metadata": {
        "colab_type": "code",
        "id": "uudCoGRjeAVB",
        "colab": {
          "base_uri": "https://localhost:8080/",
          "height": 406
        },
        "outputId": "97382788-1949-4247-9e56-2f620582dde6"
      },
      "source": [
        "df = df.dropna()\n",
        "df.columns = ['confirmed_cases']\n",
        "df = df[df['confirmed_cases']>=100]\n",
        "df"
      ],
      "execution_count": 26,
      "outputs": [
        {
          "output_type": "execute_result",
          "data": {
            "text/html": [
              "<div>\n",
              "<style scoped>\n",
              "    .dataframe tbody tr th:only-of-type {\n",
              "        vertical-align: middle;\n",
              "    }\n",
              "\n",
              "    .dataframe tbody tr th {\n",
              "        vertical-align: top;\n",
              "    }\n",
              "\n",
              "    .dataframe thead th {\n",
              "        text-align: right;\n",
              "    }\n",
              "</style>\n",
              "<table border=\"1\" class=\"dataframe\">\n",
              "  <thead>\n",
              "    <tr style=\"text-align: right;\">\n",
              "      <th></th>\n",
              "      <th>confirmed_cases</th>\n",
              "    </tr>\n",
              "  </thead>\n",
              "  <tbody>\n",
              "    <tr>\n",
              "      <th>2020-04-04</th>\n",
              "      <td>102</td>\n",
              "    </tr>\n",
              "    <tr>\n",
              "      <th>2020-04-05</th>\n",
              "      <td>104</td>\n",
              "    </tr>\n",
              "    <tr>\n",
              "      <th>2020-04-06</th>\n",
              "      <td>105</td>\n",
              "    </tr>\n",
              "    <tr>\n",
              "      <th>2020-04-07</th>\n",
              "      <td>105</td>\n",
              "    </tr>\n",
              "    <tr>\n",
              "      <th>2020-04-08</th>\n",
              "      <td>110</td>\n",
              "    </tr>\n",
              "    <tr>\n",
              "      <th>...</th>\n",
              "      <td>...</td>\n",
              "    </tr>\n",
              "    <tr>\n",
              "      <th>2020-08-03</th>\n",
              "      <td>2092</td>\n",
              "    </tr>\n",
              "    <tr>\n",
              "      <th>2020-08-04</th>\n",
              "      <td>2099</td>\n",
              "    </tr>\n",
              "    <tr>\n",
              "      <th>2020-08-05</th>\n",
              "      <td>2104</td>\n",
              "    </tr>\n",
              "    <tr>\n",
              "      <th>2020-08-06</th>\n",
              "      <td>2111</td>\n",
              "    </tr>\n",
              "    <tr>\n",
              "      <th>2020-08-07</th>\n",
              "      <td>2128</td>\n",
              "    </tr>\n",
              "  </tbody>\n",
              "</table>\n",
              "<p>126 rows × 1 columns</p>\n",
              "</div>"
            ],
            "text/plain": [
              "            confirmed_cases\n",
              "2020-04-04              102\n",
              "2020-04-05              104\n",
              "2020-04-06              105\n",
              "2020-04-07              105\n",
              "2020-04-08              110\n",
              "...                     ...\n",
              "2020-08-03             2092\n",
              "2020-08-04             2099\n",
              "2020-08-05             2104\n",
              "2020-08-06             2111\n",
              "2020-08-07             2128\n",
              "\n",
              "[126 rows x 1 columns]"
            ]
          },
          "metadata": {
            "tags": []
          },
          "execution_count": 26
        }
      ]
    },
    {
      "cell_type": "markdown",
      "metadata": {
        "colab_type": "text",
        "id": "f21IqMcgeAVn"
      },
      "source": [
        "\n",
        "\n",
        "We can now access this downloaded data by the attribute\n",
        "```\n",
        "jhu.data\n",
        "```\n",
        "but normally one would use the build in filter methods,\n",
        "these can be found [here](https://covid19-inference.readthedocs.io/en/latest/doc/data_retrieval.html#covid19_inference.data_retrieval.JHU.get_new).\n",
        "\n",
        "Next we retrieve the filtered data from our source in this example we will get all new cases and the total (cumulative) cases the country.\n"
      ]
    },
    {
      "cell_type": "markdown",
      "metadata": {
        "colab_type": "text",
        "id": "A-r6NMe4iE5Q"
      },
      "source": [
        "#### Choosing Start Date and End Date time\n",
        "\n",
        "We chose the start date by noting when the first hundred cases was reported in the country and used it as the start date. We decided to use the end date uptil the present day. \n",
        "\n"
      ]
    },
    {
      "cell_type": "code",
      "metadata": {
        "colab_type": "code",
        "id": "Dz5WjsHEeAVw",
        "colab": {}
      },
      "source": [
        "bd = datetime.datetime(2020, 4, 4)  # For the date filter\n",
        "ed = datetime.datetime.now()"
      ],
      "execution_count": 27,
      "outputs": []
    },
    {
      "cell_type": "code",
      "metadata": {
        "colab_type": "code",
        "id": "TmAwxds1eAV_",
        "colab": {}
      },
      "source": [
        "total_cases_obs = jhu.get_total(\n",
        "    value=\"confirmed\", country='Rwanda', data_begin=bd, data_end=ed\n",
        ")\n",
        "new_cases_obs = jhu.get_new(\n",
        "    value=\"confirmed\", country='Rwanda', data_begin=bd, data_end=ed\n",
        ")\n",
        "\n",
        "total_cases_obs = total_cases_obs[total_cases_obs>100]     #to filter for cases over 100\n"
      ],
      "execution_count": 28,
      "outputs": []
    },
    {
      "cell_type": "code",
      "metadata": {
        "colab_type": "code",
        "id": "MnaOgvVes318",
        "colab": {
          "base_uri": "https://localhost:8080/",
          "height": 34
        },
        "outputId": "0e58d573-c284-4a7d-dae5-17552ff78e96"
      },
      "source": [
        "total_cases_obs[total_cases_obs.isnull()]    # to verify that no null value is present in the dataset"
      ],
      "execution_count": 29,
      "outputs": [
        {
          "output_type": "execute_result",
          "data": {
            "text/plain": [
              "Series([], Name: confirmed, dtype: int64)"
            ]
          },
          "metadata": {
            "tags": []
          },
          "execution_count": 29
        }
      ]
    },
    {
      "cell_type": "code",
      "metadata": {
        "colab_type": "code",
        "id": "zE711v92tYB7",
        "colab": {
          "base_uri": "https://localhost:8080/",
          "height": 34
        },
        "outputId": "a04b9267-acfb-40f1-9a08-727947e808dd"
      },
      "source": [
        "new_cases_obs[new_cases_obs.isnull()]     # to verify that no null value is present in the dataset"
      ],
      "execution_count": 30,
      "outputs": [
        {
          "output_type": "execute_result",
          "data": {
            "text/plain": [
              "Series([], Name: confirmed, dtype: int64)"
            ]
          },
          "metadata": {
            "tags": []
          },
          "execution_count": 30
        }
      ]
    },
    {
      "cell_type": "code",
      "metadata": {
        "colab_type": "code",
        "id": "JhBWODV0eAWJ",
        "colab": {
          "base_uri": "https://localhost:8080/",
          "height": 141
        },
        "outputId": "8015f436-5491-4cbe-dbeb-7a83fd51c4e2"
      },
      "source": [
        "new_cases_obs.head()      #preview of the loaded data with the 5 starting entries"
      ],
      "execution_count": 31,
      "outputs": [
        {
          "output_type": "execute_result",
          "data": {
            "text/plain": [
              "date\n",
              "2020-04-04    13\n",
              "2020-04-05     2\n",
              "2020-04-06     1\n",
              "2020-04-07     0\n",
              "2020-04-08     5\n",
              "Name: confirmed, dtype: int64"
            ]
          },
          "metadata": {
            "tags": []
          },
          "execution_count": 31
        }
      ]
    },
    {
      "cell_type": "markdown",
      "metadata": {
        "colab_type": "text",
        "id": "n0T4DzS1jjrG"
      },
      "source": [
        "#### Splitting into Training and Validating Set\n",
        "\n",
        "To ensure that after creating the model, we can test for the accuracy, we divided the dataset into a validating set and training set. The training set is to set up the model while the validating set will be used to check for accuracy of the forecast of the the training set.\n",
        "\n",
        "To put simply:\n",
        "\n",
        "The Training set includes all dates from the time the community\n",
        "transmission reaches 100 to July 25 2020.\n",
        "\n",
        "Validation set includes dates from 25 July 2020 to one final date in\n",
        "the covid19 cases data."
      ]
    },
    {
      "cell_type": "code",
      "metadata": {
        "colab_type": "code",
        "id": "oAj_gmuJr1Qs",
        "colab": {}
      },
      "source": [
        "train_set = new_cases_obs[new_cases_obs.index <= '2020-07-25']\n",
        "val_set = new_cases_obs[new_cases_obs.index > '2020-07-25']"
      ],
      "execution_count": 32,
      "outputs": []
    },
    {
      "cell_type": "markdown",
      "metadata": {
        "colab_type": "text",
        "id": "3-YopQuCeAWa"
      },
      "source": [
        "\n",
        "\n",
        "## Create the model\n",
        "\n",
        "First we need to set the priors for the change points and other configs.\n",
        "\n",
        "The number of days for forecast we chose is 10. "
      ]
    },
    {
      "cell_type": "code",
      "metadata": {
        "colab_type": "code",
        "id": "wkqxSH37eAWg",
        "colab": {}
      },
      "source": [
        "diff_data_sim = 16  # should be significantly larger than the expected delay, in\n",
        "# order to always fit the same number of data points.\n",
        "num_days_forecast = 10"
      ],
      "execution_count": 33,
      "outputs": []
    },
    {
      "cell_type": "markdown",
      "metadata": {
        "colab_type": "text",
        "id": "GxlxsC_H0wfm"
      },
      "source": [
        "#### Choosing Change Points\n",
        "\n",
        "The three point we chose are:\n",
        "*   20 April 2020, mandatory wearing of masks\n",
        "*   30 April 2020, loosed lockdown and instituting an 8pm to 5am curfew, while allowing free movement within each province during the day and hotels, restaurants opened till 7pm;\n",
        "*    4 May 2020 (contact ban) a gradual easing of lockdown measures was introduced with selected businesses allowed to resume operations while adhering to health guidelines. Domestic movement restrictions were partially relaxed but strict physical distancing measures mandated in public buses. Bars remain closed, and schools will only re-open in September\n",
        "\n",
        "\n",
        "\n"
      ]
    },
    {
      "cell_type": "code",
      "metadata": {
        "colab_type": "code",
        "id": "thVq_Gi-eAXL",
        "colab": {}
      },
      "source": [
        "# We set the priors for the changepoints here\n",
        "prior_date_mild_dist_begin = datetime.datetime(2020, 4, 20)\n",
        "prior_date_strong_dist_begin = datetime.datetime(2020, 4, 30)\n",
        "prior_date_contact_ban_begin = datetime.datetime(2020, 5, 4)"
      ],
      "execution_count": 34,
      "outputs": []
    },
    {
      "cell_type": "code",
      "metadata": {
        "colab_type": "code",
        "id": "eMTRSzMXeAXx",
        "colab": {}
      },
      "source": [
        "change_points = [\n",
        "    dict(\n",
        "        pr_mean_date_transient=prior_date_mild_dist_begin,\n",
        "        pr_sigma_date_transient=3,\n",
        "        pr_median_lambda=0.2,\n",
        "        pr_sigma_lambda=1,\n",
        "    ),\n",
        "    dict(\n",
        "        pr_mean_date_transient=prior_date_strong_dist_begin,\n",
        "        pr_sigma_date_transient=1.5,\n",
        "        pr_median_lambda=1 / 8,\n",
        "        pr_sigma_lambda=1,\n",
        "    ),\n",
        "    dict(\n",
        "        pr_mean_date_transient=prior_date_contact_ban_begin,\n",
        "        pr_sigma_date_transient=1.5,\n",
        "        pr_median_lambda=1 / 8 / 2,\n",
        "        pr_sigma_lambda=1,\n",
        "    ),\n",
        "]"
      ],
      "execution_count": 35,
      "outputs": []
    },
    {
      "cell_type": "markdown",
      "metadata": {
        "colab_type": "text",
        "id": "N60GQgzAeAYK"
      },
      "source": [
        "\n",
        "\n",
        "Next, we create the model! There are default values for most of the function arguments,\n",
        "but we will try to explicitly set all kwargs for the sake of this example.\n"
      ]
    },
    {
      "cell_type": "code",
      "metadata": {
        "colab_type": "code",
        "id": "4WCLvX8GeAYN",
        "colab": {}
      },
      "source": [
        "params_model = dict(\n",
        "    new_cases_obs=train_set[:],\n",
        "    data_begin=bd,\n",
        "    fcast_len=num_days_forecast,\n",
        "    diff_data_sim=diff_data_sim,\n",
        "    N_population=12.9e6, #population of Rwanda\n",
        ")\n",
        "# Median of the prior for the delay in case reporting, we assume 10 days\n",
        "pr_delay = 10"
      ],
      "execution_count": 36,
      "outputs": []
    },
    {
      "cell_type": "markdown",
      "metadata": {
        "colab_type": "text",
        "id": "MJWGV26VeAYl"
      },
      "source": [
        "\n",
        "\n",
        "The model is specified in a context. Each function in this context\n",
        "has access to the model parameters set.\n"
      ]
    },
    {
      "cell_type": "code",
      "metadata": {
        "colab_type": "code",
        "id": "oKvsXA_heAYo",
        "colab": {
          "base_uri": "https://localhost:8080/",
          "height": 318
        },
        "outputId": "7c3148c5-ec90-4e04-d71b-76bbab67090a"
      },
      "source": [
        "with cov19.model.Cov19Model(**params_model) as this_model:\n",
        "    # Create the an array of the time dependent infection rate lambda\n",
        "    lambda_t_log = cov19.model.lambda_t_with_sigmoids(\n",
        "        pr_median_lambda_0=0.4,\n",
        "        pr_sigma_lambda_0=0.5,\n",
        "        change_points_list=change_points,  # The change point priors we constructed earlier\n",
        "        name_lambda_t=\"lambda_t\",  # Name for the variable in the trace (see later)\n",
        "    )\n",
        "\n",
        "    # set prior distribution for the recovery rate\n",
        "    mu = pm.Lognormal(name=\"mu\", mu=np.log(1 / 8), sigma=0.2)\n",
        "\n",
        "    # This builds a decorrelated prior for I_begin for faster inference.\n",
        "    # It is not necessary to use it, one can simply remove it and use the default argument\n",
        "    # for pr_I_begin in cov19.SIR\n",
        "    prior_I = cov19.model.uncorrelated_prior_I(\n",
        "        lambda_t_log=lambda_t_log,\n",
        "        mu=mu,\n",
        "        pr_median_delay=pr_delay,\n",
        "        name_I_begin=\"I_begin\",\n",
        "        name_I_begin_ratio_log=\"I_begin_ratio_log\",\n",
        "        pr_sigma_I_begin=2,\n",
        "        n_data_points_used=5,\n",
        "    )\n",
        "\n",
        "    # Use lambda_t_log and mu to run the SIR model\n",
        "    new_cases = cov19.model.SIR(\n",
        "        lambda_t_log=lambda_t_log,\n",
        "        mu=mu,\n",
        "        name_new_I_t=\"new_I_t\",\n",
        "        name_I_t=\"I_t\",\n",
        "        name_I_begin=\"I_begin\",\n",
        "        pr_I_begin=prior_I,\n",
        "    )\n",
        "\n",
        "    # Delay the cases by a lognormal reporting delay\n",
        "    new_cases = cov19.model.delay_cases(\n",
        "        cases=new_cases,\n",
        "        name_cases=\"delayed_cases\",\n",
        "        name_delay=\"delay\",\n",
        "        name_width=\"delay-width\",\n",
        "        pr_mean_of_median=pr_delay,\n",
        "        pr_sigma_of_median=0.2,\n",
        "        pr_median_of_width=0.3,\n",
        "    )\n",
        "\n",
        "    # Modulate the inferred cases by a abs(sin(x)) function, to account for weekend effects\n",
        "    # Also adds the \"new_cases\" variable to the trace that has all model features.\n",
        "    new_cases = cov19.model.week_modulation(\n",
        "        cases=new_cases,\n",
        "        name_cases=\"new_cases\",\n",
        "        name_weekend_factor=\"weekend_factor\",\n",
        "        name_offset_modulation=\"offset_modulation\",\n",
        "        week_modulation_type=\"abs_sine\",\n",
        "        pr_mean_weekend_factor=0.3,\n",
        "        pr_sigma_weekend_factor=0.5,\n",
        "        weekend_days=(6, 7),\n",
        "    )\n",
        "\n",
        "    # Define the likelihood, uses the new_cases_obs set as model parameter\n",
        "    cov19.model.student_t_likelihood(new_cases)"
      ],
      "execution_count": 37,
      "outputs": [
        {
          "output_type": "stream",
          "text": [
            "INFO     [covid19_inference.model.spreading_rate] Lambda_t with sigmoids\n",
            "INFO     [covid19_inference.model.model] pr_median_transient_len was set to default value 4\n",
            "INFO     [covid19_inference.model.model] pr_sigma_transient_len was set to default value 0.5\n",
            "INFO     [covid19_inference.model.model] relative_to_previous was set to default value False\n",
            "INFO     [covid19_inference.model.model] pr_factor_to_previous was set to default value 1\n",
            "INFO     [covid19_inference.model.model] pr_median_transient_len was set to default value 4\n",
            "INFO     [covid19_inference.model.model] pr_sigma_transient_len was set to default value 0.5\n",
            "INFO     [covid19_inference.model.model] relative_to_previous was set to default value False\n",
            "INFO     [covid19_inference.model.model] pr_factor_to_previous was set to default value 1\n",
            "INFO     [covid19_inference.model.model] pr_median_transient_len was set to default value 4\n",
            "INFO     [covid19_inference.model.model] pr_sigma_transient_len was set to default value 0.5\n",
            "INFO     [covid19_inference.model.model] relative_to_previous was set to default value False\n",
            "INFO     [covid19_inference.model.model] pr_factor_to_previous was set to default value 1\n",
            "INFO     [covid19_inference.model.compartmental_models] Uncorrelated prior_I\n",
            "INFO     [covid19_inference.model.compartmental_models] SIR\n",
            "INFO     [covid19_inference.model.delay] Delaying cases\n",
            "INFO     [covid19_inference.model.week_modulation] Week modulation\n"
          ],
          "name": "stderr"
        }
      ]
    },
    {
      "cell_type": "markdown",
      "metadata": {
        "colab_type": "text",
        "id": "goZQSGiceAY4"
      },
      "source": [
        "\n",
        "## MCMC sampling\n",
        "\n",
        "After the model is built, it is sampled using an MCMC sampler.\n",
        "The number of parallel runs can be set with the argument `cores=`.\n",
        "In particular, due to a bug in Theano, Windows users should set `cores=1`.\n",
        "The sampling can take a long time.\n"
      ]
    },
    {
      "cell_type": "code",
      "metadata": {
        "colab_type": "code",
        "id": "s4TFU5qeeAY6",
        "colab": {
          "base_uri": "https://localhost:8080/",
          "height": 516
        },
        "outputId": "ddc96659-aa85-4fc5-e18b-61c85dadf817"
      },
      "source": [
        "trace = pm.sample(model=this_model, tune=500, draws=100, init=\"advi+adapt_diag\")"
      ],
      "execution_count": 38,
      "outputs": [
        {
          "output_type": "stream",
          "text": [
            "Only 100 samples in chain.\n",
            "WARNING  [pymc3] Only 100 samples in chain.\n",
            "Auto-assigning NUTS sampler...\n",
            "INFO     [pymc3] Auto-assigning NUTS sampler...\n",
            "Initializing NUTS using advi+adapt_diag...\n",
            "INFO     [pymc3] Initializing NUTS using advi+adapt_diag...\n",
            "Average Loss = 539.94:  10%|▉         | 19099/200000 [02:45<26:04, 115.61it/s]\n",
            "Convergence achieved at 19100\n",
            "INFO     [pymc3.variational.inference] Convergence achieved at 19100\n",
            "Interrupted at 19,099 [9%]: Average Loss = 564.38\n",
            "INFO     [pymc3.variational.inference] Interrupted at 19,099 [9%]: Average Loss = 564.38\n",
            "Sequential sampling (2 chains in 1 job)\n",
            "INFO     [pymc3] Sequential sampling (2 chains in 1 job)\n",
            "NUTS: [sigma_obs, offset_modulation_rad, weekend_factor_log, delay_log, I_begin_ratio_log, mu, transient_len_3_log_, transient_len_2_log_, transient_len_1_log_, transient_day_3, transient_day_2, transient_day_1, lambda_3_log_, lambda_2_log_, lambda_1_log_, lambda_0_log_]\n",
            "INFO     [pymc3] NUTS: [sigma_obs, offset_modulation_rad, weekend_factor_log, delay_log, I_begin_ratio_log, mu, transient_len_3_log_, transient_len_2_log_, transient_len_1_log_, transient_day_3, transient_day_2, transient_day_1, lambda_3_log_, lambda_2_log_, lambda_1_log_, lambda_0_log_]\n",
            "100%|██████████| 600/600 [54:44<00:00,  5.47s/it]\n",
            "100%|██████████| 600/600 [37:08<00:00,  3.71s/it]\n",
            "The chain reached the maximum tree depth. Increase max_treedepth, increase target_accept or reparameterize.\n",
            "WARNING  [pymc3] The chain reached the maximum tree depth. Increase max_treedepth, increase target_accept or reparameterize.\n",
            "The acceptance probability does not match the target. It is 0.9079665354808281, but should be close to 0.8. Try to increase the number of tuning steps.\n",
            "WARNING  [pymc3] The acceptance probability does not match the target. It is 0.9079665354808281, but should be close to 0.8. Try to increase the number of tuning steps.\n",
            "The chain reached the maximum tree depth. Increase max_treedepth, increase target_accept or reparameterize.\n",
            "WARNING  [pymc3] The chain reached the maximum tree depth. Increase max_treedepth, increase target_accept or reparameterize.\n",
            "The gelman-rubin statistic is larger than 1.05 for some parameters. This indicates slight problems during sampling.\n",
            "INFO     [pymc3] The gelman-rubin statistic is larger than 1.05 for some parameters. This indicates slight problems during sampling.\n",
            "The number of effective samples is smaller than 25% for some parameters.\n",
            "INFO     [pymc3] The number of effective samples is smaller than 25% for some parameters.\n"
          ],
          "name": "stderr"
        }
      ]
    },
    {
      "cell_type": "markdown",
      "metadata": {
        "colab_type": "text",
        "id": "pYDGlo_AeAZH"
      },
      "source": [
        "\n",
        "## Plotting\n",
        "Plotting tools are rudimentary right now. But one can always write custom plotting function\n",
        "by accessing the samples stored in the trace.\n",
        "\n",
        "### Distributions\n"
      ]
    },
    {
      "cell_type": "code",
      "metadata": {
        "id": "9-Uk_wHo0xHO",
        "colab_type": "code",
        "colab": {
          "base_uri": "https://localhost:8080/",
          "height": 455
        },
        "outputId": "f6f660ff-b254-4815-b50d-909d483fe870"
      },
      "source": [
        "fig, axes = plt.subplots(6, 3, figsize=(6, 6.4))\n",
        "varnames = this_model.untransformed_freeRVs\n",
        "print(\"Possible varnames are :\")\n",
        "print(varnames)"
      ],
      "execution_count": 39,
      "outputs": [
        {
          "output_type": "stream",
          "text": [
            "Possible varnames are :\n",
            "['lambda_0_log_', 'lambda_1_log_', 'lambda_2_log_', 'lambda_3_log_', 'transient_day_1', 'transient_day_2', 'transient_day_3', 'transient_len_1_log_', 'transient_len_2_log_', 'transient_len_3_log_', 'mu', 'I_begin_ratio_log', 'delay_log', 'weekend_factor_log', 'offset_modulation_rad_circular__', 'sigma_obs']\n"
          ],
          "name": "stdout"
        },
        {
          "output_type": "display_data",
          "data": {
            "image/png": "[encoded data removed]",
            "text/plain": [
              "<Figure size 432x460.8 with 18 Axes>"
            ]
          },
          "metadata": {
            "tags": [],
            "needs_background": "light"
          }
        }
      ]
    },
    {
      "cell_type": "code",
      "metadata": {
        "id": "Cu9cjOQx18ow",
        "colab_type": "code",
        "colab": {}
      },
      "source": [
        "for i, key in enumerate(\n",
        "    # left column\n",
        "    [\"weekend_factor\", \"mu\", \"lambda_0\", \"lambda_1\", \"lambda_2\", \"lambda_3\"]\n",
        "):\n",
        "    cov19.plot._distribution(this_model, trace, key, ax=axes[i, 0])"
      ],
      "execution_count": 40,
      "outputs": []
    },
    {
      "cell_type": "code",
      "metadata": {
        "colab_type": "code",
        "id": "7qXzreN_eAZw",
        "colab": {}
      },
      "source": [
        "for i, key in enumerate(\n",
        "    # mid column\n",
        "    [\n",
        "        \"offset_modulation\",\n",
        "        \"sigma_obs\",\n",
        "        \"I_begin\",\n",
        "        \"transient_day_1\",\n",
        "        \"transient_day_2\",\n",
        "        \"transient_day_3\",\n",
        "    ]\n",
        "):\n",
        "    cov19.plot._distribution(this_model, trace, key, ax=axes[i, 1])"
      ],
      "execution_count": 41,
      "outputs": []
    },
    {
      "cell_type": "code",
      "metadata": {
        "id": "6nnx1ciQ1FHy",
        "colab_type": "code",
        "colab": {}
      },
      "source": [
        "for i, key in enumerate(\n",
        "    # right column\n",
        "    [\"delay\", \"transient_len_1\", \"transient_len_2\", \"transient_len_3\",]\n",
        "):\n",
        "    cov19.plot._distribution(this_model, trace, key, ax=axes[i + 2, 2])"
      ],
      "execution_count": 42,
      "outputs": []
    },
    {
      "cell_type": "code",
      "metadata": {
        "colab_type": "code",
        "id": "_D3z7GhWeAba",
        "colab": {
          "base_uri": "https://localhost:8080/",
          "height": 470
        },
        "outputId": "5780aa4f-8ecf-4760-a037-eece46f90c07"
      },
      "source": [
        "fig.tight_layout()\n",
        "fig #To print in jupyter notebook"
      ],
      "execution_count": 43,
      "outputs": [
        {
          "output_type": "execute_result",
          "data": {
            "image/png": "[encoded data removed]",
            "text/plain": [
              "<Figure size 432x460.8 with 18 Axes>"
            ]
          },
          "metadata": {
            "tags": []
          },
          "execution_count": 43
        }
      ]
    },
    {
      "cell_type": "markdown",
      "metadata": {
        "colab_type": "text",
        "id": "XZNDKwtCeAbn"
      },
      "source": [
        "### Timeseries for Train Data\n",
        "timeseries overview, for now needs an offset variable to get cumulative cases\n"
      ]
    },
    {
      "cell_type": "code",
      "metadata": {
        "colab_type": "code",
        "id": "faBgBGZxeAbo",
        "colab": {}
      },
      "source": [
        "fig, axes = cov19.plot.timeseries_overview(this_model, trace, offset=-3000)"
      ],
      "execution_count": null,
      "outputs": []
    },
    {
      "cell_type": "code",
      "metadata": {
        "colab_type": "code",
        "id": "7EaEYSNCeAb1",
        "colab": {}
      },
      "source": [
        "fig, axes = cov19.plot.timeseries_overview(this_model, trace, offset=total_cases_obs[0])"
      ],
      "execution_count": null,
      "outputs": []
    },
    {
      "cell_type": "code",
      "metadata": {
        "colab_type": "code",
        "id": "Wr8T6jei9BH-",
        "colab": {}
      },
      "source": [
        ""
      ],
      "execution_count": null,
      "outputs": []
    },
    {
      "cell_type": "markdown",
      "metadata": {
        "colab_type": "text",
        "id": "Rtx2KcWI9B1_"
      },
      "source": [
        "## Validating Dataset\n",
        "\n",
        "Using the Validating data to check how accurate the model is by reeastablishng model and using a the whole date range of data collected."
      ]
    },
    {
      "cell_type": "code",
      "metadata": {
        "id": "81rp4LqFYTYv",
        "colab_type": "code",
        "colab": {}
      },
      "source": [
        "diff_data_sim = 16  # should be significantly larger than the expected delay, in\n",
        "# order to always fit the same number of data points.\n",
        "num_days_forecast = 15"
      ],
      "execution_count": 44,
      "outputs": []
    },
    {
      "cell_type": "code",
      "metadata": {
        "colab_type": "code",
        "id": "NErlN05p9L3f",
        "colab": {}
      },
      "source": [
        "params_model = dict(\n",
        "    new_cases_obs=train_set[:],    ##using the new_cases_obs\n",
        "    data_begin=bd,\n",
        "    fcast_len=num_days_forecast,\n",
        "    diff_data_sim=diff_data_sim,\n",
        "    N_population=12.9e6,  #Rwanda's population\n",
        ")\n",
        "# Median of the prior for the delay in case reporting, we assume 10 days\n",
        "pr_delay = 10"
      ],
      "execution_count": 45,
      "outputs": []
    },
    {
      "cell_type": "code",
      "metadata": {
        "colab_type": "code",
        "id": "OsX7iF6-93BX",
        "scrolled": true,
        "colab": {
          "base_uri": "https://localhost:8080/",
          "height": 105
        },
        "outputId": "c3d91054-0ed3-4244-89c5-b52ef5551cf3"
      },
      "source": [
        "with cov19.model.Cov19Model(**params_model) as this_model:\n",
        "    # Create the an array of the time dependent infection rate lambda\n",
        "    lambda_t_log = cov19.model.lambda_t_with_sigmoids(\n",
        "        pr_median_lambda_0=0.4,\n",
        "        pr_sigma_lambda_0=0.5,\n",
        "        change_points_list=change_points,  # The change point priors we constructed earlier\n",
        "        name_lambda_t=\"lambda_t\",  # Name for the variable in the trace (see later)\n",
        "    )\n",
        "\n",
        "    # set prior distribution for the recovery rate\n",
        "    mu = pm.Lognormal(name=\"mu\", mu=np.log(1 / 8), sigma=0.2)\n",
        "\n",
        "    # This builds a decorrelated prior for I_begin for faster inference.\n",
        "    # It is not necessary to use it, one can simply remove it and use the default argument\n",
        "    # for pr_I_begin in cov19.SIR\n",
        "    prior_I = cov19.model.uncorrelated_prior_I(\n",
        "        lambda_t_log=lambda_t_log,\n",
        "        mu=mu,\n",
        "        pr_median_delay=pr_delay,\n",
        "        name_I_begin=\"I_begin\",\n",
        "        name_I_begin_ratio_log=\"I_begin_ratio_log\",\n",
        "        pr_sigma_I_begin=2,\n",
        "        n_data_points_used=5,\n",
        "    )\n",
        "\n",
        "    # Use lambda_t_log and mu to run the SIR model\n",
        "    new_cases = cov19.model.SIR(\n",
        "        lambda_t_log=lambda_t_log,\n",
        "        mu=mu,\n",
        "        name_new_I_t=\"new_I_t\",\n",
        "        name_I_t=\"I_t\",\n",
        "        name_I_begin=\"I_begin\",\n",
        "        pr_I_begin=prior_I,\n",
        "    )\n",
        "\n",
        "    # Delay the cases by a lognormal reporting delay\n",
        "    new_cases = cov19.model.delay_cases(\n",
        "        cases=new_cases,\n",
        "        name_cases=\"delayed_cases\",\n",
        "        name_delay=\"delay\",\n",
        "        name_width=\"delay-width\",\n",
        "        pr_mean_of_median=pr_delay,\n",
        "        pr_sigma_of_median=0.2,\n",
        "        pr_median_of_width=0.3,\n",
        "    )\n",
        "\n",
        "    # Modulate the inferred cases by a abs(sin(x)) function, to account for weekend effects\n",
        "    # Also adds the \"new_cases\" variable to the trace that has all model features.\n",
        "    new_cases = cov19.model.week_modulation(\n",
        "        cases=new_cases,\n",
        "        name_cases=\"new_cases\",\n",
        "        name_weekend_factor=\"weekend_factor\",\n",
        "        name_offset_modulation=\"offset_modulation\",\n",
        "        week_modulation_type=\"abs_sine\",\n",
        "        pr_mean_weekend_factor=0.3,\n",
        "        pr_sigma_weekend_factor=0.5,\n",
        "        weekend_days=(6, 7),\n",
        "    )\n",
        "\n",
        "    # Define the likelihood, uses the new_cases_obs set as model parameter\n",
        "    cov19.model.student_t_likelihood(new_cases)"
      ],
      "execution_count": 46,
      "outputs": [
        {
          "output_type": "stream",
          "text": [
            "INFO     [covid19_inference.model.spreading_rate] Lambda_t with sigmoids\n",
            "INFO     [covid19_inference.model.compartmental_models] Uncorrelated prior_I\n",
            "INFO     [covid19_inference.model.compartmental_models] SIR\n",
            "INFO     [covid19_inference.model.delay] Delaying cases\n",
            "INFO     [covid19_inference.model.week_modulation] Week modulation\n"
          ],
          "name": "stderr"
        }
      ]
    },
    {
      "cell_type": "markdown",
      "metadata": {
        "id": "wMpIc0LLbDup",
        "colab_type": "text"
      },
      "source": [
        "## MCMC sampling"
      ]
    },
    {
      "cell_type": "code",
      "metadata": {
        "colab_type": "code",
        "id": "hQWHCHW8-DoK",
        "colab": {
          "base_uri": "https://localhost:8080/",
          "height": 338
        },
        "outputId": "7d189e41-7df0-4f1c-ce1a-f6a852ab9957"
      },
      "source": [
        "trace = pm.sample(model=this_model, tune=500, draws=100, init=\"advi+adapt_diag\")"
      ],
      "execution_count": null,
      "outputs": [
        {
          "output_type": "stream",
          "text": [
            "Only 100 samples in chain.\n",
            "WARNING  [pymc3] Only 100 samples in chain.\n",
            "Auto-assigning NUTS sampler...\n",
            "INFO     [pymc3] Auto-assigning NUTS sampler...\n",
            "Initializing NUTS using advi+adapt_diag...\n",
            "INFO     [pymc3] Initializing NUTS using advi+adapt_diag...\n",
            "Average Loss = 540.45:  10%|▉         | 19398/200000 [02:51<26:32, 113.41it/s]\n",
            "Convergence achieved at 19400\n",
            "INFO     [pymc3.variational.inference] Convergence achieved at 19400\n",
            "Interrupted at 19,399 [9%]: Average Loss = 564.45\n",
            "INFO     [pymc3.variational.inference] Interrupted at 19,399 [9%]: Average Loss = 564.45\n",
            "Sequential sampling (2 chains in 1 job)\n",
            "INFO     [pymc3] Sequential sampling (2 chains in 1 job)\n",
            "NUTS: [sigma_obs, offset_modulation_rad, weekend_factor_log, delay_log, I_begin_ratio_log, mu, transient_len_3_log_, transient_len_2_log_, transient_len_1_log_, transient_day_3, transient_day_2, transient_day_1, lambda_3_log_, lambda_2_log_, lambda_1_log_, lambda_0_log_]\n",
            "INFO     [pymc3] NUTS: [sigma_obs, offset_modulation_rad, weekend_factor_log, delay_log, I_begin_ratio_log, mu, transient_len_3_log_, transient_len_2_log_, transient_len_1_log_, transient_day_3, transient_day_2, transient_day_1, lambda_3_log_, lambda_2_log_, lambda_1_log_, lambda_0_log_]\n",
            "100%|██████████| 600/600 [27:51<00:00,  2.79s/it]\n",
            " 47%|████▋     | 280/600 [35:27<42:27,  7.96s/it]"
          ],
          "name": "stderr"
        }
      ]
    },
    {
      "cell_type": "code",
      "metadata": {
        "colab_type": "code",
        "id": "ZiygKTElEmim",
        "colab": {}
      },
      "source": [
        "fig, axes = cov19.plot.timeseries_overview(this_model, trace, offset=-3000)"
      ],
      "execution_count": null,
      "outputs": []
    },
    {
      "cell_type": "markdown",
      "metadata": {
        "colab_type": "text",
        "id": "xjmpsvHaApx4"
      },
      "source": [
        "The forecast of our model does not fit perfectly but it stil gives a reasonable description of what to expect and can be of immense value to government and policy makers. \n",
        "\n"
      ]
    }
  ]
}