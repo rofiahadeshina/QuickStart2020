{
  "nbformat": 4,
  "nbformat_minor": 0,
  "metadata": {
    "kernelspec": {
      "display_name": "Python 3",
      "language": "python",
      "name": "python3"
    },
    "language_info": {
      "codemirror_mode": {
        "name": "ipython",
        "version": 3
      },
      "file_extension": ".py",
      "mimetype": "text/x-python",
      "name": "python",
      "nbconvert_exporter": "python",
      "pygments_lexer": "ipython3",
      "version": "3.7.3"
    },
    "colab": {
      "name": "WEEK 4 final code.ipynb",
      "provenance": [],
      "include_colab_link": true
    }
  },
  "cells": [
    {
      "cell_type": "markdown",
      "metadata": {
        "id": "view-in-github",
        "colab_type": "text"
      },
      "source": [
        "<a href=\"https://colab.research.google.com/github/rofiahadeshina/QuickStart2020/blob/master/WEEK_4_final_code.ipynb\" target=\"_parent\"><img src=\"https://colab.research.google.com/assets/colab-badge.svg\" alt=\"Open In Colab\"/></a>"
      ]
    },
    {
      "cell_type": "code",
      "metadata": {
        "id": "1zi3ly8jJFXV",
        "colab_type": "code",
        "colab": {}
      },
      "source": [
        "import pandas as pd\n",
        "import numpy as np\n",
        "import matplotlib.pyplot as plt \n",
        "import seaborn as sns\n",
        "sns.set()"
      ],
      "execution_count": null,
      "outputs": []
    },
    {
      "cell_type": "code",
      "metadata": {
        "id": "gUzWwI0yJFX7",
        "colab_type": "code",
        "colab": {},
        "outputId": "eead9bbf-b8fe-4e82-cc4f-2bac57ae4b3f"
      },
      "source": [
        "data = pd.read_csv(r'C:\\Users\\HP\\Desktop\\CV, P.Statement and others\\10 Academy\\AdSmartABdata.csv')\n",
        "data.head()"
      ],
      "execution_count": null,
      "outputs": [
        {
          "output_type": "execute_result",
          "data": {
            "text/html": [
              "<div>\n",
              "<style scoped>\n",
              "    .dataframe tbody tr th:only-of-type {\n",
              "        vertical-align: middle;\n",
              "    }\n",
              "\n",
              "    .dataframe tbody tr th {\n",
              "        vertical-align: top;\n",
              "    }\n",
              "\n",
              "    .dataframe thead th {\n",
              "        text-align: right;\n",
              "    }\n",
              "</style>\n",
              "<table border=\"1\" class=\"dataframe\">\n",
              "  <thead>\n",
              "    <tr style=\"text-align: right;\">\n",
              "      <th></th>\n",
              "      <th>auction_id</th>\n",
              "      <th>experiment</th>\n",
              "      <th>date</th>\n",
              "      <th>hour</th>\n",
              "      <th>device_make</th>\n",
              "      <th>platform_os</th>\n",
              "      <th>browser</th>\n",
              "      <th>yes</th>\n",
              "      <th>no</th>\n",
              "    </tr>\n",
              "  </thead>\n",
              "  <tbody>\n",
              "    <tr>\n",
              "      <th>0</th>\n",
              "      <td>0008ef63-77a7-448b-bd1e-075f42c55e39</td>\n",
              "      <td>exposed</td>\n",
              "      <td>2020-07-10</td>\n",
              "      <td>8</td>\n",
              "      <td>Generic Smartphone</td>\n",
              "      <td>6</td>\n",
              "      <td>Chrome Mobile</td>\n",
              "      <td>0</td>\n",
              "      <td>0</td>\n",
              "    </tr>\n",
              "    <tr>\n",
              "      <th>1</th>\n",
              "      <td>000eabc5-17ce-4137-8efe-44734d914446</td>\n",
              "      <td>exposed</td>\n",
              "      <td>2020-07-07</td>\n",
              "      <td>10</td>\n",
              "      <td>Generic Smartphone</td>\n",
              "      <td>6</td>\n",
              "      <td>Chrome Mobile</td>\n",
              "      <td>0</td>\n",
              "      <td>0</td>\n",
              "    </tr>\n",
              "    <tr>\n",
              "      <th>2</th>\n",
              "      <td>0016d14a-ae18-4a02-a204-6ba53b52f2ed</td>\n",
              "      <td>exposed</td>\n",
              "      <td>2020-07-05</td>\n",
              "      <td>2</td>\n",
              "      <td>E5823</td>\n",
              "      <td>6</td>\n",
              "      <td>Chrome Mobile WebView</td>\n",
              "      <td>0</td>\n",
              "      <td>1</td>\n",
              "    </tr>\n",
              "    <tr>\n",
              "      <th>3</th>\n",
              "      <td>00187412-2932-4542-a8ef-3633901c98d9</td>\n",
              "      <td>control</td>\n",
              "      <td>2020-07-03</td>\n",
              "      <td>15</td>\n",
              "      <td>Samsung SM-A705FN</td>\n",
              "      <td>6</td>\n",
              "      <td>Facebook</td>\n",
              "      <td>0</td>\n",
              "      <td>0</td>\n",
              "    </tr>\n",
              "    <tr>\n",
              "      <th>4</th>\n",
              "      <td>001a7785-d3fe-4e11-a344-c8735acacc2c</td>\n",
              "      <td>control</td>\n",
              "      <td>2020-07-03</td>\n",
              "      <td>15</td>\n",
              "      <td>Generic Smartphone</td>\n",
              "      <td>6</td>\n",
              "      <td>Chrome Mobile</td>\n",
              "      <td>0</td>\n",
              "      <td>0</td>\n",
              "    </tr>\n",
              "  </tbody>\n",
              "</table>\n",
              "</div>"
            ],
            "text/plain": [
              "                             auction_id experiment        date  hour  \\\n",
              "0  0008ef63-77a7-448b-bd1e-075f42c55e39    exposed  2020-07-10     8   \n",
              "1  000eabc5-17ce-4137-8efe-44734d914446    exposed  2020-07-07    10   \n",
              "2  0016d14a-ae18-4a02-a204-6ba53b52f2ed    exposed  2020-07-05     2   \n",
              "3  00187412-2932-4542-a8ef-3633901c98d9    control  2020-07-03    15   \n",
              "4  001a7785-d3fe-4e11-a344-c8735acacc2c    control  2020-07-03    15   \n",
              "\n",
              "          device_make  platform_os                browser  yes  no  \n",
              "0  Generic Smartphone            6          Chrome Mobile    0   0  \n",
              "1  Generic Smartphone            6          Chrome Mobile    0   0  \n",
              "2               E5823            6  Chrome Mobile WebView    0   1  \n",
              "3   Samsung SM-A705FN            6               Facebook    0   0  \n",
              "4  Generic Smartphone            6          Chrome Mobile    0   0  "
            ]
          },
          "metadata": {
            "tags": []
          },
          "execution_count": 204
        }
      ]
    },
    {
      "cell_type": "code",
      "metadata": {
        "id": "qLFKqSs0JFYp",
        "colab_type": "code",
        "colab": {},
        "outputId": "095a96c7-ae9b-4ea8-b726-1d78a81422b0"
      },
      "source": [
        "data.info()"
      ],
      "execution_count": null,
      "outputs": [
        {
          "output_type": "stream",
          "text": [
            "<class 'pandas.core.frame.DataFrame'>\n",
            "RangeIndex: 8077 entries, 0 to 8076\n",
            "Data columns (total 9 columns):\n",
            "auction_id     8077 non-null object\n",
            "experiment     8077 non-null object\n",
            "date           8077 non-null object\n",
            "hour           8077 non-null int64\n",
            "device_make    8077 non-null object\n",
            "platform_os    8077 non-null int64\n",
            "browser        8077 non-null object\n",
            "yes            8077 non-null int64\n",
            "no             8077 non-null int64\n",
            "dtypes: int64(4), object(5)\n",
            "memory usage: 568.0+ KB\n"
          ],
          "name": "stdout"
        }
      ]
    },
    {
      "cell_type": "code",
      "metadata": {
        "id": "gfd1szb8JFZE",
        "colab_type": "code",
        "colab": {},
        "outputId": "9c306f7c-5805-4a4f-b5b2-85f6c9cb208f"
      },
      "source": [
        "data['date'] = pd.to_datetime(data['date'])\n",
        "data.info()"
      ],
      "execution_count": null,
      "outputs": [
        {
          "output_type": "stream",
          "text": [
            "<class 'pandas.core.frame.DataFrame'>\n",
            "RangeIndex: 8077 entries, 0 to 8076\n",
            "Data columns (total 9 columns):\n",
            "auction_id     8077 non-null object\n",
            "experiment     8077 non-null object\n",
            "date           8077 non-null datetime64[ns]\n",
            "hour           8077 non-null int64\n",
            "device_make    8077 non-null object\n",
            "platform_os    8077 non-null int64\n",
            "browser        8077 non-null object\n",
            "yes            8077 non-null int64\n",
            "no             8077 non-null int64\n",
            "dtypes: datetime64[ns](1), int64(4), object(4)\n",
            "memory usage: 568.0+ KB\n"
          ],
          "name": "stdout"
        }
      ]
    },
    {
      "cell_type": "code",
      "metadata": {
        "id": "dQ96ZWrJJFZd",
        "colab_type": "code",
        "colab": {},
        "outputId": "e3e829dc-278f-4b63-8733-91b8b14e6050"
      },
      "source": [
        "data.nunique()"
      ],
      "execution_count": null,
      "outputs": [
        {
          "output_type": "execute_result",
          "data": {
            "text/plain": [
              "auction_id     8077\n",
              "experiment        2\n",
              "date              8\n",
              "hour             24\n",
              "device_make     270\n",
              "platform_os       3\n",
              "browser          15\n",
              "yes               2\n",
              "no                2\n",
              "dtype: int64"
            ]
          },
          "metadata": {
            "tags": []
          },
          "execution_count": 207
        }
      ]
    },
    {
      "cell_type": "code",
      "metadata": {
        "id": "u_wOQUvRJFZ2",
        "colab_type": "code",
        "colab": {},
        "outputId": "9915411d-ed7e-41e1-fe71-267433e70eb4"
      },
      "source": [
        "data.describe(include='all')"
      ],
      "execution_count": null,
      "outputs": [
        {
          "output_type": "execute_result",
          "data": {
            "text/html": [
              "<div>\n",
              "<style scoped>\n",
              "    .dataframe tbody tr th:only-of-type {\n",
              "        vertical-align: middle;\n",
              "    }\n",
              "\n",
              "    .dataframe tbody tr th {\n",
              "        vertical-align: top;\n",
              "    }\n",
              "\n",
              "    .dataframe thead th {\n",
              "        text-align: right;\n",
              "    }\n",
              "</style>\n",
              "<table border=\"1\" class=\"dataframe\">\n",
              "  <thead>\n",
              "    <tr style=\"text-align: right;\">\n",
              "      <th></th>\n",
              "      <th>auction_id</th>\n",
              "      <th>experiment</th>\n",
              "      <th>date</th>\n",
              "      <th>hour</th>\n",
              "      <th>device_make</th>\n",
              "      <th>platform_os</th>\n",
              "      <th>browser</th>\n",
              "      <th>yes</th>\n",
              "      <th>no</th>\n",
              "    </tr>\n",
              "  </thead>\n",
              "  <tbody>\n",
              "    <tr>\n",
              "      <th>count</th>\n",
              "      <td>8077</td>\n",
              "      <td>8077</td>\n",
              "      <td>8077</td>\n",
              "      <td>8077.000000</td>\n",
              "      <td>8077</td>\n",
              "      <td>8077.000000</td>\n",
              "      <td>8077</td>\n",
              "      <td>8077.000000</td>\n",
              "      <td>8077.000000</td>\n",
              "    </tr>\n",
              "    <tr>\n",
              "      <th>unique</th>\n",
              "      <td>8077</td>\n",
              "      <td>2</td>\n",
              "      <td>8</td>\n",
              "      <td>NaN</td>\n",
              "      <td>270</td>\n",
              "      <td>NaN</td>\n",
              "      <td>15</td>\n",
              "      <td>NaN</td>\n",
              "      <td>NaN</td>\n",
              "    </tr>\n",
              "    <tr>\n",
              "      <th>top</th>\n",
              "      <td>7d0c2f8b-21cd-4d91-9965-06dc726fa60c</td>\n",
              "      <td>control</td>\n",
              "      <td>2020-07-03 00:00:00</td>\n",
              "      <td>NaN</td>\n",
              "      <td>Generic Smartphone</td>\n",
              "      <td>NaN</td>\n",
              "      <td>Chrome Mobile</td>\n",
              "      <td>NaN</td>\n",
              "      <td>NaN</td>\n",
              "    </tr>\n",
              "    <tr>\n",
              "      <th>freq</th>\n",
              "      <td>1</td>\n",
              "      <td>4071</td>\n",
              "      <td>2015</td>\n",
              "      <td>NaN</td>\n",
              "      <td>4743</td>\n",
              "      <td>NaN</td>\n",
              "      <td>4554</td>\n",
              "      <td>NaN</td>\n",
              "      <td>NaN</td>\n",
              "    </tr>\n",
              "    <tr>\n",
              "      <th>first</th>\n",
              "      <td>NaN</td>\n",
              "      <td>NaN</td>\n",
              "      <td>2020-07-03 00:00:00</td>\n",
              "      <td>NaN</td>\n",
              "      <td>NaN</td>\n",
              "      <td>NaN</td>\n",
              "      <td>NaN</td>\n",
              "      <td>NaN</td>\n",
              "      <td>NaN</td>\n",
              "    </tr>\n",
              "    <tr>\n",
              "      <th>last</th>\n",
              "      <td>NaN</td>\n",
              "      <td>NaN</td>\n",
              "      <td>2020-07-10 00:00:00</td>\n",
              "      <td>NaN</td>\n",
              "      <td>NaN</td>\n",
              "      <td>NaN</td>\n",
              "      <td>NaN</td>\n",
              "      <td>NaN</td>\n",
              "      <td>NaN</td>\n",
              "    </tr>\n",
              "    <tr>\n",
              "      <th>mean</th>\n",
              "      <td>NaN</td>\n",
              "      <td>NaN</td>\n",
              "      <td>NaN</td>\n",
              "      <td>11.615080</td>\n",
              "      <td>NaN</td>\n",
              "      <td>5.947134</td>\n",
              "      <td>NaN</td>\n",
              "      <td>0.070818</td>\n",
              "      <td>0.083075</td>\n",
              "    </tr>\n",
              "    <tr>\n",
              "      <th>std</th>\n",
              "      <td>NaN</td>\n",
              "      <td>NaN</td>\n",
              "      <td>NaN</td>\n",
              "      <td>5.734879</td>\n",
              "      <td>NaN</td>\n",
              "      <td>0.224333</td>\n",
              "      <td>NaN</td>\n",
              "      <td>0.256537</td>\n",
              "      <td>0.276013</td>\n",
              "    </tr>\n",
              "    <tr>\n",
              "      <th>min</th>\n",
              "      <td>NaN</td>\n",
              "      <td>NaN</td>\n",
              "      <td>NaN</td>\n",
              "      <td>0.000000</td>\n",
              "      <td>NaN</td>\n",
              "      <td>5.000000</td>\n",
              "      <td>NaN</td>\n",
              "      <td>0.000000</td>\n",
              "      <td>0.000000</td>\n",
              "    </tr>\n",
              "    <tr>\n",
              "      <th>25%</th>\n",
              "      <td>NaN</td>\n",
              "      <td>NaN</td>\n",
              "      <td>NaN</td>\n",
              "      <td>7.000000</td>\n",
              "      <td>NaN</td>\n",
              "      <td>6.000000</td>\n",
              "      <td>NaN</td>\n",
              "      <td>0.000000</td>\n",
              "      <td>0.000000</td>\n",
              "    </tr>\n",
              "    <tr>\n",
              "      <th>50%</th>\n",
              "      <td>NaN</td>\n",
              "      <td>NaN</td>\n",
              "      <td>NaN</td>\n",
              "      <td>13.000000</td>\n",
              "      <td>NaN</td>\n",
              "      <td>6.000000</td>\n",
              "      <td>NaN</td>\n",
              "      <td>0.000000</td>\n",
              "      <td>0.000000</td>\n",
              "    </tr>\n",
              "    <tr>\n",
              "      <th>75%</th>\n",
              "      <td>NaN</td>\n",
              "      <td>NaN</td>\n",
              "      <td>NaN</td>\n",
              "      <td>15.000000</td>\n",
              "      <td>NaN</td>\n",
              "      <td>6.000000</td>\n",
              "      <td>NaN</td>\n",
              "      <td>0.000000</td>\n",
              "      <td>0.000000</td>\n",
              "    </tr>\n",
              "    <tr>\n",
              "      <th>max</th>\n",
              "      <td>NaN</td>\n",
              "      <td>NaN</td>\n",
              "      <td>NaN</td>\n",
              "      <td>23.000000</td>\n",
              "      <td>NaN</td>\n",
              "      <td>7.000000</td>\n",
              "      <td>NaN</td>\n",
              "      <td>1.000000</td>\n",
              "      <td>1.000000</td>\n",
              "    </tr>\n",
              "  </tbody>\n",
              "</table>\n",
              "</div>"
            ],
            "text/plain": [
              "                                  auction_id experiment                 date  \\\n",
              "count                                   8077       8077                 8077   \n",
              "unique                                  8077          2                    8   \n",
              "top     7d0c2f8b-21cd-4d91-9965-06dc726fa60c    control  2020-07-03 00:00:00   \n",
              "freq                                       1       4071                 2015   \n",
              "first                                    NaN        NaN  2020-07-03 00:00:00   \n",
              "last                                     NaN        NaN  2020-07-10 00:00:00   \n",
              "mean                                     NaN        NaN                  NaN   \n",
              "std                                      NaN        NaN                  NaN   \n",
              "min                                      NaN        NaN                  NaN   \n",
              "25%                                      NaN        NaN                  NaN   \n",
              "50%                                      NaN        NaN                  NaN   \n",
              "75%                                      NaN        NaN                  NaN   \n",
              "max                                      NaN        NaN                  NaN   \n",
              "\n",
              "               hour         device_make  platform_os        browser  \\\n",
              "count   8077.000000                8077  8077.000000           8077   \n",
              "unique          NaN                 270          NaN             15   \n",
              "top             NaN  Generic Smartphone          NaN  Chrome Mobile   \n",
              "freq            NaN                4743          NaN           4554   \n",
              "first           NaN                 NaN          NaN            NaN   \n",
              "last            NaN                 NaN          NaN            NaN   \n",
              "mean      11.615080                 NaN     5.947134            NaN   \n",
              "std        5.734879                 NaN     0.224333            NaN   \n",
              "min        0.000000                 NaN     5.000000            NaN   \n",
              "25%        7.000000                 NaN     6.000000            NaN   \n",
              "50%       13.000000                 NaN     6.000000            NaN   \n",
              "75%       15.000000                 NaN     6.000000            NaN   \n",
              "max       23.000000                 NaN     7.000000            NaN   \n",
              "\n",
              "                yes           no  \n",
              "count   8077.000000  8077.000000  \n",
              "unique          NaN          NaN  \n",
              "top             NaN          NaN  \n",
              "freq            NaN          NaN  \n",
              "first           NaN          NaN  \n",
              "last            NaN          NaN  \n",
              "mean       0.070818     0.083075  \n",
              "std        0.256537     0.276013  \n",
              "min        0.000000     0.000000  \n",
              "25%        0.000000     0.000000  \n",
              "50%        0.000000     0.000000  \n",
              "75%        0.000000     0.000000  \n",
              "max        1.000000     1.000000  "
            ]
          },
          "metadata": {
            "tags": []
          },
          "execution_count": 208
        }
      ]
    },
    {
      "cell_type": "code",
      "metadata": {
        "id": "F7OVSzZNJFaQ",
        "colab_type": "code",
        "colab": {},
        "outputId": "0b6a0f4f-fbd5-4ebf-b21b-9e230f254e7b"
      },
      "source": [
        "data['device_make'].value_counts().head()\n"
      ],
      "execution_count": null,
      "outputs": [
        {
          "output_type": "execute_result",
          "data": {
            "text/plain": [
              "Generic Smartphone    4743\n",
              "iPhone                 433\n",
              "Samsung SM-G960F       203\n",
              "Samsung SM-G973F       154\n",
              "Samsung SM-G950F       148\n",
              "Name: device_make, dtype: int64"
            ]
          },
          "metadata": {
            "tags": []
          },
          "execution_count": 209
        }
      ]
    },
    {
      "cell_type": "code",
      "metadata": {
        "id": "ivv-0mlkJFa3",
        "colab_type": "code",
        "colab": {},
        "outputId": "4f0d9d4e-8f6b-4b71-d4ab-be20d29b8070"
      },
      "source": [
        "data['experiment'].value_counts()"
      ],
      "execution_count": null,
      "outputs": [
        {
          "output_type": "execute_result",
          "data": {
            "text/plain": [
              "control    4071\n",
              "exposed    4006\n",
              "Name: experiment, dtype: int64"
            ]
          },
          "metadata": {
            "tags": []
          },
          "execution_count": 210
        }
      ]
    },
    {
      "cell_type": "code",
      "metadata": {
        "id": "4EYQZSB0JFbP",
        "colab_type": "code",
        "colab": {},
        "outputId": "b0eeeaa9-6c7a-47bd-9a68-4ea603c06010"
      },
      "source": [
        "data['browser'].value_counts().head()"
      ],
      "execution_count": null,
      "outputs": [
        {
          "output_type": "execute_result",
          "data": {
            "text/plain": [
              "Chrome Mobile            4554\n",
              "Chrome Mobile WebView    1489\n",
              "Samsung Internet          824\n",
              "Facebook                  764\n",
              "Mobile Safari             337\n",
              "Name: browser, dtype: int64"
            ]
          },
          "metadata": {
            "tags": []
          },
          "execution_count": 211
        }
      ]
    },
    {
      "cell_type": "code",
      "metadata": {
        "id": "MfJmF8sWJFbl",
        "colab_type": "code",
        "colab": {},
        "outputId": "4de8e552-d0ca-48fc-cdcd-5edbfef6d7af"
      },
      "source": [
        "var_group= data.groupby(['experiment']).agg({'yes': 'sum', 'no':'sum'})\n",
        "var_group.column = ['yes','no']\n",
        "var_group\n",
        "\n",
        "                         \n"
      ],
      "execution_count": null,
      "outputs": [
        {
          "output_type": "stream",
          "text": [
            "C:\\Users\\HP\\Anaconda3\\lib\\site-packages\\ipykernel_launcher.py:2: UserWarning: Pandas doesn't allow columns to be created via a new attribute name - see https://pandas.pydata.org/pandas-docs/stable/indexing.html#attribute-access\n",
            "  \n"
          ],
          "name": "stderr"
        },
        {
          "output_type": "execute_result",
          "data": {
            "text/html": [
              "<div>\n",
              "<style scoped>\n",
              "    .dataframe tbody tr th:only-of-type {\n",
              "        vertical-align: middle;\n",
              "    }\n",
              "\n",
              "    .dataframe tbody tr th {\n",
              "        vertical-align: top;\n",
              "    }\n",
              "\n",
              "    .dataframe thead th {\n",
              "        text-align: right;\n",
              "    }\n",
              "</style>\n",
              "<table border=\"1\" class=\"dataframe\">\n",
              "  <thead>\n",
              "    <tr style=\"text-align: right;\">\n",
              "      <th></th>\n",
              "      <th>yes</th>\n",
              "      <th>no</th>\n",
              "    </tr>\n",
              "    <tr>\n",
              "      <th>experiment</th>\n",
              "      <th></th>\n",
              "      <th></th>\n",
              "    </tr>\n",
              "  </thead>\n",
              "  <tbody>\n",
              "    <tr>\n",
              "      <th>control</th>\n",
              "      <td>264</td>\n",
              "      <td>322</td>\n",
              "    </tr>\n",
              "    <tr>\n",
              "      <th>exposed</th>\n",
              "      <td>308</td>\n",
              "      <td>349</td>\n",
              "    </tr>\n",
              "  </tbody>\n",
              "</table>\n",
              "</div>"
            ],
            "text/plain": [
              "            yes   no\n",
              "experiment          \n",
              "control     264  322\n",
              "exposed     308  349"
            ]
          },
          "metadata": {
            "tags": []
          },
          "execution_count": 212
        }
      ]
    },
    {
      "cell_type": "code",
      "metadata": {
        "id": "h4MgNyL3JFb8",
        "colab_type": "code",
        "colab": {},
        "outputId": "6c97a5fc-9f4e-4822-b929-300ce18f987b"
      },
      "source": [
        "device = data['device_make'].value_counts()[:10]\n",
        "device.plot(kind='bar')\n",
        "plt.title('Device Make')\n",
        "plt.show()\n"
      ],
      "execution_count": null,
      "outputs": [
        {
          "output_type": "display_data",
          "data": {
            "image/png": "[encoded data removed]",
            "text/plain": [
              "<Figure size 432x288 with 1 Axes>"
            ]
          },
          "metadata": {
            "tags": []
          }
        }
      ]
    },
    {
      "cell_type": "code",
      "metadata": {
        "id": "rGqRLQmrJFcU",
        "colab_type": "code",
        "colab": {},
        "outputId": "06a246aa-20a3-4ac0-8515-8b17707bcd2f"
      },
      "source": [
        "sns.countplot(x='experiment', data=data)\n",
        "plt.title('Count of exposed and control variant')\n",
        "plt.show()"
      ],
      "execution_count": null,
      "outputs": [
        {
          "output_type": "display_data",
          "data": {
            "image/png": "[encoded data removed]",
            "text/plain": [
              "<Figure size 432x288 with 1 Axes>"
            ]
          },
          "metadata": {
            "tags": []
          }
        }
      ]
    },
    {
      "cell_type": "code",
      "metadata": {
        "id": "WAlc6b8xJFcw",
        "colab_type": "code",
        "colab": {},
        "outputId": "946418d7-dbd1-4384-973a-0a47f8b51b7e"
      },
      "source": [
        "browser_type = data['browser'].value_counts()[:6]\n",
        "browser_type.plot(kind='bar')\n",
        "plt.title('browser')\n",
        "plt.show()"
      ],
      "execution_count": null,
      "outputs": [
        {
          "output_type": "display_data",
          "data": {
            "image/png": "[encoded data removed]",
            "text/plain": [
              "<Figure size 432x288 with 1 Axes>"
            ]
          },
          "metadata": {
            "tags": []
          }
        }
      ]
    },
    {
      "cell_type": "code",
      "metadata": {
        "id": "ZgB7fQ4WJFdJ",
        "colab_type": "code",
        "colab": {},
        "outputId": "df65971b-9d22-496a-f868-0822c3e3e136"
      },
      "source": [
        "control = data[data['experiment']=='control'].count()\n",
        "control"
      ],
      "execution_count": null,
      "outputs": [
        {
          "output_type": "execute_result",
          "data": {
            "text/plain": [
              "auction_id     4071\n",
              "experiment     4071\n",
              "date           4071\n",
              "hour           4071\n",
              "device_make    4071\n",
              "platform_os    4071\n",
              "browser        4071\n",
              "yes            4071\n",
              "no             4071\n",
              "dtype: int64"
            ]
          },
          "metadata": {
            "tags": []
          },
          "execution_count": 218
        }
      ]
    },
    {
      "cell_type": "code",
      "metadata": {
        "id": "Ivlw1D8pJFdg",
        "colab_type": "code",
        "colab": {},
        "outputId": "d6aa4aae-a7a8-4476-b52f-567cee76a64e"
      },
      "source": [
        "exposed = data[data['experiment']=='exposed'].count()\n",
        "exposed"
      ],
      "execution_count": null,
      "outputs": [
        {
          "output_type": "execute_result",
          "data": {
            "text/plain": [
              "auction_id     4006\n",
              "experiment     4006\n",
              "date           4006\n",
              "hour           4006\n",
              "device_make    4006\n",
              "platform_os    4006\n",
              "browser        4006\n",
              "yes            4006\n",
              "no             4006\n",
              "dtype: int64"
            ]
          },
          "metadata": {
            "tags": []
          },
          "execution_count": 219
        }
      ]
    },
    {
      "cell_type": "code",
      "metadata": {
        "id": "pkShllFRJFd2",
        "colab_type": "code",
        "colab": {},
        "outputId": "0c26ad37-51fd-4158-98f2-b7b6e9197003"
      },
      "source": [
        "control_df = data[data['experiment']=='control']\n",
        "exposed_df = data[data['experiment']=='exposed']\n",
        "print(exposed_df.tail())\n",
        "\n",
        "#number of generic smartphones in exposed\n",
        "exposed_df['device_make'].value_counts().head()\n",
        "\n",
        "#number of generic smartphones in control\n",
        "control_df['device_make'].value_counts().head()"
      ],
      "execution_count": null,
      "outputs": [
        {
          "output_type": "stream",
          "text": [
            "                                auction_id experiment       date  hour  \\\n",
            "8065  ffbc02cb-628a-4de5-87fc-5d76b7d796e5    exposed 2020-07-09    17   \n",
            "8067  ffc594ef-756c-4d24-a310-0d8eb4e11eb7    exposed 2020-07-05     1   \n",
            "8071  ffdfdc09-48c7-4bfb-80f8-ec1eb633602b    exposed 2020-07-03     4   \n",
            "8072  ffea24ec-cec1-43fb-b1d1-8f93828c2be2    exposed 2020-07-05     7   \n",
            "8075  ffeeed62-3f7c-4a6e-8ba7-95d303d40969    exposed 2020-07-05    15   \n",
            "\n",
            "             device_make  platform_os                browser  yes  no  \n",
            "8065  Generic Smartphone            6          Chrome Mobile    0   0  \n",
            "8067    Samsung SM-G950F            6  Chrome Mobile WebView    0   0  \n",
            "8071  Generic Smartphone            6          Chrome Mobile    0   1  \n",
            "8072  Generic Smartphone            6          Chrome Mobile    0   0  \n",
            "8075    Samsung SM-A515F            6       Samsung Internet    0   0  \n"
          ],
          "name": "stdout"
        },
        {
          "output_type": "execute_result",
          "data": {
            "text/plain": [
              "Generic Smartphone    2411\n",
              "iPhone                 311\n",
              "Samsung SM-G960F       104\n",
              "Samsung SM-G973F        96\n",
              "Samsung SM-G950F        66\n",
              "Name: device_make, dtype: int64"
            ]
          },
          "metadata": {
            "tags": []
          },
          "execution_count": 220
        }
      ]
    },
    {
      "cell_type": "markdown",
      "metadata": {
        "id": "lH95g7eDJFeM",
        "colab_type": "text"
      },
      "source": [
        "### CLASSICAL A/B TESTING"
      ]
    },
    {
      "cell_type": "markdown",
      "metadata": {
        "id": "JwdtIFRnJFeR",
        "colab_type": "text"
      },
      "source": [
        "#### Overview\n",
        "\n",
        "I am running A/B test for an Ad company trying to determine if a new Ad (SmartAds) brings more brand awareness than the old one by using a BIO questionnaire to determine number of success per variant group.\n",
        "\n",
        "#### Experiment hypothesis\n",
        "NUll Hypothesis : Ad A and Ad B have no significant difference in brand awareness\n",
        "\n",
        "Alternate Hypothesis : There is a significant difference in brand awareness."
      ]
    },
    {
      "cell_type": "markdown",
      "metadata": {
        "id": "u5WyJ8UhJFeV",
        "colab_type": "text"
      },
      "source": [
        "### METRIC CHOICE\n",
        "\n",
        "#### Invariant metrics\n",
        "1. Device_make : Number of generic smartphones compared to other smartphones in the group\n",
        "2. Browser : Chrome mobile compare to other browsers in the group\n",
        "\n",
        " \n",
        "Metric name | Description/Formula | Difference Observed | Notation\n",
        "--- | --- | --- |---\n",
        "Device_make |  Number of generic smartphones / total smartphones in the group | | D_M \n",
        "Browser | Number of chrome mobile browser/ total browsers in group | | B_O \n",
        "\n",
        "\n",
        "#### Evaluation Metrics\n",
        "\n",
        "\n",
        "Metric name | Description/Formula | Dmin | Notation\n",
        "--- | --- | --- |---\n",
        "Success rate |  Number of successes('yes') / Total number of responses | | Success_R \n",
        "\n"
      ]
    },
    {
      "cell_type": "code",
      "metadata": {
        "id": "k6Qkrb20JFea",
        "colab_type": "code",
        "colab": {},
        "outputId": "09f28da4-893b-45b8-a91d-0d6c136622ae"
      },
      "source": [
        "#success rate for both control and exposed group\n",
        "#success is defined as the number \"yes\" in both variant group\n",
        "\n",
        "#number of total responses\n",
        "total_ctrl, total_exp = control_df['yes'].count(), exposed_df['yes'].count()\n",
        "\n",
        "#number of yes in each variant group\n",
        "num_ctrl, num_exp = control_df['yes'].sum(), exposed_df['yes'].sum()\n",
        "\n",
        "\n",
        "#success rate\n",
        "suc_rate_exp = round( num_exp/total_exp, 3)\n",
        "suc_rate_ctrl = round(num_ctrl/total_ctrl, 3)\n",
        "\n",
        "#printing result\n",
        "print(\"the total responses for control group\"+\": \"+str(total_ctrl))\n",
        "print(\"the total responses for exposed group\"+\": \"+str(total_exp))\n",
        "print(\"the number of yes for control group\"+\": \"+str(num_ctrl))\n",
        "print(\"the number of yes for exposed group\"+\": \"+str(num_exp))\n",
        "print(\"the success rate for exposed group\"+\": \"+str(suc_rate_exp))\n",
        "print(\"the success rate for control group\"+\": \"+str(suc_rate_ctrl))\n"
      ],
      "execution_count": null,
      "outputs": [
        {
          "output_type": "stream",
          "text": [
            "the total responses for control group: 4071\n",
            "the total responses for exposed group: 4006\n",
            "the number of yes for control group: 264\n",
            "the number of yes for exposed group: 308\n",
            "the success rate for exposed group: 0.077\n",
            "the success rate for control group: 0.065\n"
          ],
          "name": "stdout"
        }
      ]
    },
    {
      "cell_type": "markdown",
      "metadata": {
        "id": "uOZKyZHpJFe3",
        "colab_type": "text"
      },
      "source": [
        "#### The responses are \"yes\" or \"No\" signifying a binomial distribution "
      ]
    },
    {
      "cell_type": "code",
      "metadata": {
        "id": "X_JE8iICJFe8",
        "colab_type": "code",
        "colab": {},
        "outputId": "c601fe86-37ea-4739-d451-309346526789"
      },
      "source": [
        "from scipy.stats import binom\n",
        "clicks = np.arange(20, 80)\n",
        "prob_a = binom(total_ctrl,suc_rate_ctrl).pmf(clicks)\n",
        "prob_b = binom(total_exp,suc_rate_ctrl).pmf(clicks)\n",
        "\n",
        "# Make the bar plots.\n",
        "plt.bar(clicks, prob_a, label=\"control\", alpha=0.7)\n",
        "plt.bar(clicks, prob_b, label=\"exposed\", alpha=0.7)\n",
        "plt.legend()\n",
        "plt.title(\"Binomial Distribution\")\n",
        "plt.xlabel(\"success_rate\"); plt.ylabel(\"Probability\");"
      ],
      "execution_count": null,
      "outputs": [
        {
          "output_type": "display_data",
          "data": {
            "image/png": "[encoded data removed]",
            "text/plain": [
              "<Figure size 432x288 with 1 Axes>"
            ]
          },
          "metadata": {
            "tags": []
          }
        }
      ]
    },
    {
      "cell_type": "code",
      "metadata": {
        "id": "s1TSocUJJFfS",
        "colab_type": "code",
        "colab": {},
        "outputId": "f8c4e6f3-fe6b-4686-e9fc-a7573238bb7d"
      },
      "source": [
        "from scipy.stats import norm\n",
        "\n",
        "# Where does this come from? See the link above.\n",
        "std_ctrl = np.sqrt(suc_rate_ctrl * (1 - suc_rate_ctrl) / total_ctrl)\n",
        "std_exp = np.sqrt(suc_rate_exp * (1 - suc_rate_exp) / total_exp)\n",
        "\n",
        "click_rate = np.linspace(0, 0.2, 200)\n",
        "prob_ctrl_grp = norm(suc_rate_ctrl, std_ctrl).pdf(click_rate)\n",
        "prob_exp_grp = norm(suc_rate_ctrl, std_ctrl).pdf(click_rate)\n",
        "\n",
        "# Make the bar plots.\n",
        "plt.plot(click_rate, prob_ctrl_grp, label=\"Control\")\n",
        "plt.plot(click_rate, prob_exp_grp, label=\"Exposed\")\n",
        "plt.legend(frameon=False)\n",
        "plt.title(\"Comparing Variants by Means of Binomial Distribution\")\n",
        "plt.xlabel(\"Success rate\"); plt.ylabel(\"Probability\");"
      ],
      "execution_count": null,
      "outputs": [
        {
          "output_type": "display_data",
          "data": {
            "image/png": "[encoded data removed]",
            "text/plain": [
              "<Figure size 432x288 with 1 Axes>"
            ]
          },
          "metadata": {
            "tags": []
          }
        }
      ]
    },
    {
      "cell_type": "markdown",
      "metadata": {
        "id": "_0IMU96FJFfn",
        "colab_type": "text"
      },
      "source": [
        "Though the distribution above shows that the exposed group has higher conversion rate. However, is it significant?"
      ]
    },
    {
      "cell_type": "code",
      "metadata": {
        "id": "nivjcwbnJFfs",
        "colab_type": "code",
        "colab": {},
        "outputId": "37e2d075-63a3-46a5-f53f-ad9703731e55"
      },
      "source": [
        "z_score = (suc_rate_exp - suc_rate_ctrl) / np.sqrt(std_ctrl**2 + std_exp**2)\n",
        "p = norm(suc_rate_exp - suc_rate_ctrl, np.sqrt(std_ctrl**2 + std_exp**2))\n",
        "\n",
        "x = np.linspace(-0.05, 0.15, 1000)\n",
        "y = p.pdf(x)\n",
        "area_under_curve = p.sf(0)\n",
        "plt.plot(x, y, label=\"PDF\")\n",
        "plt.fill_between(x, 0, y, where=x>0, label=\"Prob(exposed_variant>control_variant)\", alpha=0.3)\n",
        "plt.annotate(f\"Area={area_under_curve:0.3f}\", (0.02, 5))\n",
        "plt.legend()\n",
        "plt.xlabel(\"Difference in conversion rate\"); plt.ylabel(\"Prob\");\n",
        "\n",
        "print(f\"zscore is {z_score:0.3f}, with p-value {norm().sf(z_score):0.3f}\")"
      ],
      "execution_count": null,
      "outputs": [
        {
          "output_type": "stream",
          "text": [
            "zscore is 2.099, with p-value 0.018\n"
          ],
          "name": "stdout"
        },
        {
          "output_type": "display_data",
          "data": {
            "image/png": "[encoded data removed]",
            "text/plain": [
              "<Figure size 432x288 with 1 Axes>"
            ]
          },
          "metadata": {
            "tags": []
          }
        }
      ]
    },
    {
      "cell_type": "markdown",
      "metadata": {
        "id": "mnbv4CxhJFgD",
        "colab_type": "text"
      },
      "source": [
        "### Machine learning A/B testing\n"
      ]
    },
    {
      "cell_type": "markdown",
      "metadata": {
        "id": "yYJHErP7JFgJ",
        "colab_type": "text"
      },
      "source": [
        "#### Data Preprocessing"
      ]
    },
    {
      "cell_type": "code",
      "metadata": {
        "id": "dpKZovHRJFgO",
        "colab_type": "code",
        "colab": {},
        "outputId": "ed969ecc-f2c9-4c5d-cd81-c5b80e19c3bf"
      },
      "source": [
        "#visualize the data\n",
        "data.head()"
      ],
      "execution_count": null,
      "outputs": [
        {
          "output_type": "execute_result",
          "data": {
            "text/html": [
              "<div>\n",
              "<style scoped>\n",
              "    .dataframe tbody tr th:only-of-type {\n",
              "        vertical-align: middle;\n",
              "    }\n",
              "\n",
              "    .dataframe tbody tr th {\n",
              "        vertical-align: top;\n",
              "    }\n",
              "\n",
              "    .dataframe thead th {\n",
              "        text-align: right;\n",
              "    }\n",
              "</style>\n",
              "<table border=\"1\" class=\"dataframe\">\n",
              "  <thead>\n",
              "    <tr style=\"text-align: right;\">\n",
              "      <th></th>\n",
              "      <th>auction_id</th>\n",
              "      <th>experiment</th>\n",
              "      <th>date</th>\n",
              "      <th>hour</th>\n",
              "      <th>device_make</th>\n",
              "      <th>platform_os</th>\n",
              "      <th>browser</th>\n",
              "      <th>yes</th>\n",
              "      <th>no</th>\n",
              "    </tr>\n",
              "  </thead>\n",
              "  <tbody>\n",
              "    <tr>\n",
              "      <th>0</th>\n",
              "      <td>0008ef63-77a7-448b-bd1e-075f42c55e39</td>\n",
              "      <td>exposed</td>\n",
              "      <td>2020-07-10</td>\n",
              "      <td>8</td>\n",
              "      <td>Generic Smartphone</td>\n",
              "      <td>6</td>\n",
              "      <td>Chrome Mobile</td>\n",
              "      <td>0</td>\n",
              "      <td>0</td>\n",
              "    </tr>\n",
              "    <tr>\n",
              "      <th>1</th>\n",
              "      <td>000eabc5-17ce-4137-8efe-44734d914446</td>\n",
              "      <td>exposed</td>\n",
              "      <td>2020-07-07</td>\n",
              "      <td>10</td>\n",
              "      <td>Generic Smartphone</td>\n",
              "      <td>6</td>\n",
              "      <td>Chrome Mobile</td>\n",
              "      <td>0</td>\n",
              "      <td>0</td>\n",
              "    </tr>\n",
              "    <tr>\n",
              "      <th>2</th>\n",
              "      <td>0016d14a-ae18-4a02-a204-6ba53b52f2ed</td>\n",
              "      <td>exposed</td>\n",
              "      <td>2020-07-05</td>\n",
              "      <td>2</td>\n",
              "      <td>E5823</td>\n",
              "      <td>6</td>\n",
              "      <td>Chrome Mobile WebView</td>\n",
              "      <td>0</td>\n",
              "      <td>1</td>\n",
              "    </tr>\n",
              "    <tr>\n",
              "      <th>3</th>\n",
              "      <td>00187412-2932-4542-a8ef-3633901c98d9</td>\n",
              "      <td>control</td>\n",
              "      <td>2020-07-03</td>\n",
              "      <td>15</td>\n",
              "      <td>Samsung SM-A705FN</td>\n",
              "      <td>6</td>\n",
              "      <td>Facebook</td>\n",
              "      <td>0</td>\n",
              "      <td>0</td>\n",
              "    </tr>\n",
              "    <tr>\n",
              "      <th>4</th>\n",
              "      <td>001a7785-d3fe-4e11-a344-c8735acacc2c</td>\n",
              "      <td>control</td>\n",
              "      <td>2020-07-03</td>\n",
              "      <td>15</td>\n",
              "      <td>Generic Smartphone</td>\n",
              "      <td>6</td>\n",
              "      <td>Chrome Mobile</td>\n",
              "      <td>0</td>\n",
              "      <td>0</td>\n",
              "    </tr>\n",
              "  </tbody>\n",
              "</table>\n",
              "</div>"
            ],
            "text/plain": [
              "                             auction_id experiment       date  hour  \\\n",
              "0  0008ef63-77a7-448b-bd1e-075f42c55e39    exposed 2020-07-10     8   \n",
              "1  000eabc5-17ce-4137-8efe-44734d914446    exposed 2020-07-07    10   \n",
              "2  0016d14a-ae18-4a02-a204-6ba53b52f2ed    exposed 2020-07-05     2   \n",
              "3  00187412-2932-4542-a8ef-3633901c98d9    control 2020-07-03    15   \n",
              "4  001a7785-d3fe-4e11-a344-c8735acacc2c    control 2020-07-03    15   \n",
              "\n",
              "          device_make  platform_os                browser  yes  no  \n",
              "0  Generic Smartphone            6          Chrome Mobile    0   0  \n",
              "1  Generic Smartphone            6          Chrome Mobile    0   0  \n",
              "2               E5823            6  Chrome Mobile WebView    0   1  \n",
              "3   Samsung SM-A705FN            6               Facebook    0   0  \n",
              "4  Generic Smartphone            6          Chrome Mobile    0   0  "
            ]
          },
          "metadata": {
            "tags": []
          },
          "execution_count": 228
        }
      ]
    },
    {
      "cell_type": "code",
      "metadata": {
        "id": "-R9K5AiZJFgn",
        "colab_type": "code",
        "colab": {},
        "outputId": "f8b9d234-1632-43f2-85d4-2ce9baae1b16"
      },
      "source": [
        "MC_data = data[[\"experiment\", \"device_make\", \"browser\",\"yes\"]]\n",
        "MC_data.head()"
      ],
      "execution_count": null,
      "outputs": [
        {
          "output_type": "execute_result",
          "data": {
            "text/html": [
              "<div>\n",
              "<style scoped>\n",
              "    .dataframe tbody tr th:only-of-type {\n",
              "        vertical-align: middle;\n",
              "    }\n",
              "\n",
              "    .dataframe tbody tr th {\n",
              "        vertical-align: top;\n",
              "    }\n",
              "\n",
              "    .dataframe thead th {\n",
              "        text-align: right;\n",
              "    }\n",
              "</style>\n",
              "<table border=\"1\" class=\"dataframe\">\n",
              "  <thead>\n",
              "    <tr style=\"text-align: right;\">\n",
              "      <th></th>\n",
              "      <th>experiment</th>\n",
              "      <th>device_make</th>\n",
              "      <th>browser</th>\n",
              "      <th>yes</th>\n",
              "    </tr>\n",
              "  </thead>\n",
              "  <tbody>\n",
              "    <tr>\n",
              "      <th>0</th>\n",
              "      <td>exposed</td>\n",
              "      <td>Generic Smartphone</td>\n",
              "      <td>Chrome Mobile</td>\n",
              "      <td>0</td>\n",
              "    </tr>\n",
              "    <tr>\n",
              "      <th>1</th>\n",
              "      <td>exposed</td>\n",
              "      <td>Generic Smartphone</td>\n",
              "      <td>Chrome Mobile</td>\n",
              "      <td>0</td>\n",
              "    </tr>\n",
              "    <tr>\n",
              "      <th>2</th>\n",
              "      <td>exposed</td>\n",
              "      <td>E5823</td>\n",
              "      <td>Chrome Mobile WebView</td>\n",
              "      <td>0</td>\n",
              "    </tr>\n",
              "    <tr>\n",
              "      <th>3</th>\n",
              "      <td>control</td>\n",
              "      <td>Samsung SM-A705FN</td>\n",
              "      <td>Facebook</td>\n",
              "      <td>0</td>\n",
              "    </tr>\n",
              "    <tr>\n",
              "      <th>4</th>\n",
              "      <td>control</td>\n",
              "      <td>Generic Smartphone</td>\n",
              "      <td>Chrome Mobile</td>\n",
              "      <td>0</td>\n",
              "    </tr>\n",
              "  </tbody>\n",
              "</table>\n",
              "</div>"
            ],
            "text/plain": [
              "  experiment         device_make                browser  yes\n",
              "0    exposed  Generic Smartphone          Chrome Mobile    0\n",
              "1    exposed  Generic Smartphone          Chrome Mobile    0\n",
              "2    exposed               E5823  Chrome Mobile WebView    0\n",
              "3    control   Samsung SM-A705FN               Facebook    0\n",
              "4    control  Generic Smartphone          Chrome Mobile    0"
            ]
          },
          "metadata": {
            "tags": []
          },
          "execution_count": 229
        }
      ]
    },
    {
      "cell_type": "code",
      "metadata": {
        "id": "IcHQzGQ1JFhC",
        "colab_type": "code",
        "colab": {},
        "outputId": "058a5796-b78d-4f76-d7d7-f64e2506df61"
      },
      "source": [
        "X = MC_data[['experiment','device_make', 'browser']]\n",
        "Y = MC_data['yes']\n",
        "print(X.head())\n",
        "Y.head()"
      ],
      "execution_count": null,
      "outputs": [
        {
          "output_type": "stream",
          "text": [
            "  experiment         device_make                browser\n",
            "0    exposed  Generic Smartphone          Chrome Mobile\n",
            "1    exposed  Generic Smartphone          Chrome Mobile\n",
            "2    exposed               E5823  Chrome Mobile WebView\n",
            "3    control   Samsung SM-A705FN               Facebook\n",
            "4    control  Generic Smartphone          Chrome Mobile\n"
          ],
          "name": "stdout"
        },
        {
          "output_type": "execute_result",
          "data": {
            "text/plain": [
              "0    0\n",
              "1    0\n",
              "2    0\n",
              "3    0\n",
              "4    0\n",
              "Name: yes, dtype: int64"
            ]
          },
          "metadata": {
            "tags": []
          },
          "execution_count": 230
        }
      ]
    },
    {
      "cell_type": "code",
      "metadata": {
        "id": "MyP9QGixJFhX",
        "colab_type": "code",
        "colab": {},
        "outputId": "4f0189a6-9875-4cd3-d0c5-81c7a98f7a6a"
      },
      "source": [
        "from sklearn.preprocessing import OneHotEncoder\n",
        "# creating instance of one-hot-encoder\n",
        "enc = OneHotEncoder(handle_unknown='ignore')\n",
        "# passing bridge-types-cat column (label encoded values of bridge_types)\n",
        "exp_df = pd.DataFrame(enc.fit_transform(MC_data[['experiment']],).toarray(), columns=['exp_1','exp_2'])\n",
        "print(exp_df.head())\n",
        "\n",
        "brw_df = pd.DataFrame(enc.fit_transform(MC_data[['browser']]).toarray())\n",
        "brw_df.head()\n",
        "\n",
        "dev_df = pd.DataFrame(enc.fit_transform(MC_data[['device_make']]).toarray())\n",
        "dev_df.head()\n"
      ],
      "execution_count": null,
      "outputs": [
        {
          "output_type": "stream",
          "text": [
            "   exp_1  exp_2\n",
            "0    0.0    1.0\n",
            "1    0.0    1.0\n",
            "2    0.0    1.0\n",
            "3    1.0    0.0\n",
            "4    1.0    0.0\n"
          ],
          "name": "stdout"
        },
        {
          "output_type": "execute_result",
          "data": {
            "text/html": [
              "<div>\n",
              "<style scoped>\n",
              "    .dataframe tbody tr th:only-of-type {\n",
              "        vertical-align: middle;\n",
              "    }\n",
              "\n",
              "    .dataframe tbody tr th {\n",
              "        vertical-align: top;\n",
              "    }\n",
              "\n",
              "    .dataframe thead th {\n",
              "        text-align: right;\n",
              "    }\n",
              "</style>\n",
              "<table border=\"1\" class=\"dataframe\">\n",
              "  <thead>\n",
              "    <tr style=\"text-align: right;\">\n",
              "      <th></th>\n",
              "      <th>0</th>\n",
              "      <th>1</th>\n",
              "      <th>2</th>\n",
              "      <th>3</th>\n",
              "      <th>4</th>\n",
              "      <th>5</th>\n",
              "      <th>6</th>\n",
              "      <th>7</th>\n",
              "      <th>8</th>\n",
              "      <th>9</th>\n",
              "      <th>...</th>\n",
              "      <th>260</th>\n",
              "      <th>261</th>\n",
              "      <th>262</th>\n",
              "      <th>263</th>\n",
              "      <th>264</th>\n",
              "      <th>265</th>\n",
              "      <th>266</th>\n",
              "      <th>267</th>\n",
              "      <th>268</th>\n",
              "      <th>269</th>\n",
              "    </tr>\n",
              "  </thead>\n",
              "  <tbody>\n",
              "    <tr>\n",
              "      <th>0</th>\n",
              "      <td>0.0</td>\n",
              "      <td>0.0</td>\n",
              "      <td>0.0</td>\n",
              "      <td>0.0</td>\n",
              "      <td>0.0</td>\n",
              "      <td>0.0</td>\n",
              "      <td>0.0</td>\n",
              "      <td>0.0</td>\n",
              "      <td>0.0</td>\n",
              "      <td>0.0</td>\n",
              "      <td>...</td>\n",
              "      <td>0.0</td>\n",
              "      <td>0.0</td>\n",
              "      <td>0.0</td>\n",
              "      <td>0.0</td>\n",
              "      <td>0.0</td>\n",
              "      <td>0.0</td>\n",
              "      <td>0.0</td>\n",
              "      <td>0.0</td>\n",
              "      <td>0.0</td>\n",
              "      <td>0.0</td>\n",
              "    </tr>\n",
              "    <tr>\n",
              "      <th>1</th>\n",
              "      <td>0.0</td>\n",
              "      <td>0.0</td>\n",
              "      <td>0.0</td>\n",
              "      <td>0.0</td>\n",
              "      <td>0.0</td>\n",
              "      <td>0.0</td>\n",
              "      <td>0.0</td>\n",
              "      <td>0.0</td>\n",
              "      <td>0.0</td>\n",
              "      <td>0.0</td>\n",
              "      <td>...</td>\n",
              "      <td>0.0</td>\n",
              "      <td>0.0</td>\n",
              "      <td>0.0</td>\n",
              "      <td>0.0</td>\n",
              "      <td>0.0</td>\n",
              "      <td>0.0</td>\n",
              "      <td>0.0</td>\n",
              "      <td>0.0</td>\n",
              "      <td>0.0</td>\n",
              "      <td>0.0</td>\n",
              "    </tr>\n",
              "    <tr>\n",
              "      <th>2</th>\n",
              "      <td>0.0</td>\n",
              "      <td>0.0</td>\n",
              "      <td>0.0</td>\n",
              "      <td>0.0</td>\n",
              "      <td>0.0</td>\n",
              "      <td>0.0</td>\n",
              "      <td>0.0</td>\n",
              "      <td>0.0</td>\n",
              "      <td>0.0</td>\n",
              "      <td>0.0</td>\n",
              "      <td>...</td>\n",
              "      <td>0.0</td>\n",
              "      <td>0.0</td>\n",
              "      <td>0.0</td>\n",
              "      <td>0.0</td>\n",
              "      <td>0.0</td>\n",
              "      <td>0.0</td>\n",
              "      <td>0.0</td>\n",
              "      <td>0.0</td>\n",
              "      <td>0.0</td>\n",
              "      <td>0.0</td>\n",
              "    </tr>\n",
              "    <tr>\n",
              "      <th>3</th>\n",
              "      <td>0.0</td>\n",
              "      <td>0.0</td>\n",
              "      <td>0.0</td>\n",
              "      <td>0.0</td>\n",
              "      <td>0.0</td>\n",
              "      <td>0.0</td>\n",
              "      <td>0.0</td>\n",
              "      <td>0.0</td>\n",
              "      <td>0.0</td>\n",
              "      <td>0.0</td>\n",
              "      <td>...</td>\n",
              "      <td>0.0</td>\n",
              "      <td>0.0</td>\n",
              "      <td>0.0</td>\n",
              "      <td>0.0</td>\n",
              "      <td>0.0</td>\n",
              "      <td>0.0</td>\n",
              "      <td>0.0</td>\n",
              "      <td>0.0</td>\n",
              "      <td>0.0</td>\n",
              "      <td>0.0</td>\n",
              "    </tr>\n",
              "    <tr>\n",
              "      <th>4</th>\n",
              "      <td>0.0</td>\n",
              "      <td>0.0</td>\n",
              "      <td>0.0</td>\n",
              "      <td>0.0</td>\n",
              "      <td>0.0</td>\n",
              "      <td>0.0</td>\n",
              "      <td>0.0</td>\n",
              "      <td>0.0</td>\n",
              "      <td>0.0</td>\n",
              "      <td>0.0</td>\n",
              "      <td>...</td>\n",
              "      <td>0.0</td>\n",
              "      <td>0.0</td>\n",
              "      <td>0.0</td>\n",
              "      <td>0.0</td>\n",
              "      <td>0.0</td>\n",
              "      <td>0.0</td>\n",
              "      <td>0.0</td>\n",
              "      <td>0.0</td>\n",
              "      <td>0.0</td>\n",
              "      <td>0.0</td>\n",
              "    </tr>\n",
              "  </tbody>\n",
              "</table>\n",
              "<p>5 rows × 270 columns</p>\n",
              "</div>"
            ],
            "text/plain": [
              "   0    1    2    3    4    5    6    7    8    9    ...  260  261  262  263  \\\n",
              "0  0.0  0.0  0.0  0.0  0.0  0.0  0.0  0.0  0.0  0.0  ...  0.0  0.0  0.0  0.0   \n",
              "1  0.0  0.0  0.0  0.0  0.0  0.0  0.0  0.0  0.0  0.0  ...  0.0  0.0  0.0  0.0   \n",
              "2  0.0  0.0  0.0  0.0  0.0  0.0  0.0  0.0  0.0  0.0  ...  0.0  0.0  0.0  0.0   \n",
              "3  0.0  0.0  0.0  0.0  0.0  0.0  0.0  0.0  0.0  0.0  ...  0.0  0.0  0.0  0.0   \n",
              "4  0.0  0.0  0.0  0.0  0.0  0.0  0.0  0.0  0.0  0.0  ...  0.0  0.0  0.0  0.0   \n",
              "\n",
              "   264  265  266  267  268  269  \n",
              "0  0.0  0.0  0.0  0.0  0.0  0.0  \n",
              "1  0.0  0.0  0.0  0.0  0.0  0.0  \n",
              "2  0.0  0.0  0.0  0.0  0.0  0.0  \n",
              "3  0.0  0.0  0.0  0.0  0.0  0.0  \n",
              "4  0.0  0.0  0.0  0.0  0.0  0.0  \n",
              "\n",
              "[5 rows x 270 columns]"
            ]
          },
          "metadata": {
            "tags": []
          },
          "execution_count": 175
        }
      ]
    },
    {
      "cell_type": "markdown",
      "metadata": {
        "id": "DjdJGB2QJFhz",
        "colab_type": "text"
      },
      "source": [
        "Though this approach eliminates the hierarchy issues that label encoding introduces but does have the downside of adding more columns to the data set. It can cause the number of columns to expand greatly as seen above, since \"device_make\" has many unique values in a category column. It makes it really challenging to manage when encoding gives many columns."
      ]
    },
    {
      "cell_type": "markdown",
      "metadata": {
        "id": "IsBkZkpVJFh3",
        "colab_type": "text"
      },
      "source": [
        "#### LABEL ENCODING"
      ]
    },
    {
      "cell_type": "code",
      "metadata": {
        "id": "xn8k0mP5JFh_",
        "colab_type": "code",
        "colab": {},
        "outputId": "fc91a247-cf3a-495f-b229-595426295b04"
      },
      "source": [
        "from sklearn import linear_model\n",
        "from sklearn import preprocessing\n",
        "# Initialize label encoder categorical data\n",
        "label_encoder = preprocessing.LabelEncoder()\n",
        "\n",
        "encoded_exp = label_encoder.fit_transform(MC_data['experiment'])\n",
        "encoded_dev = label_encoder.fit_transform(MC_data['device_make'])\n",
        "encoded_brw = label_encoder.fit_transform(MC_data['browser'])\n",
        "\n",
        "\n",
        "X_features = pd.DataFrame([encoded_exp,\n",
        "                              encoded_dev,\n",
        "                              encoded_brw\n",
        "                              ]).T\n",
        "X_features.columns = ['exp','device_make','browser']\n",
        "X_features.head()\n",
        "\n",
        "\n"
      ],
      "execution_count": null,
      "outputs": [
        {
          "output_type": "execute_result",
          "data": {
            "text/html": [
              "<div>\n",
              "<style scoped>\n",
              "    .dataframe tbody tr th:only-of-type {\n",
              "        vertical-align: middle;\n",
              "    }\n",
              "\n",
              "    .dataframe tbody tr th {\n",
              "        vertical-align: top;\n",
              "    }\n",
              "\n",
              "    .dataframe thead th {\n",
              "        text-align: right;\n",
              "    }\n",
              "</style>\n",
              "<table border=\"1\" class=\"dataframe\">\n",
              "  <thead>\n",
              "    <tr style=\"text-align: right;\">\n",
              "      <th></th>\n",
              "      <th>exp</th>\n",
              "      <th>device_make</th>\n",
              "      <th>browser</th>\n",
              "    </tr>\n",
              "  </thead>\n",
              "  <tbody>\n",
              "    <tr>\n",
              "      <th>0</th>\n",
              "      <td>1</td>\n",
              "      <td>46</td>\n",
              "      <td>2</td>\n",
              "    </tr>\n",
              "    <tr>\n",
              "      <th>1</th>\n",
              "      <td>1</td>\n",
              "      <td>46</td>\n",
              "      <td>2</td>\n",
              "    </tr>\n",
              "    <tr>\n",
              "      <th>2</th>\n",
              "      <td>1</td>\n",
              "      <td>29</td>\n",
              "      <td>3</td>\n",
              "    </tr>\n",
              "    <tr>\n",
              "      <th>3</th>\n",
              "      <td>0</td>\n",
              "      <td>137</td>\n",
              "      <td>6</td>\n",
              "    </tr>\n",
              "    <tr>\n",
              "      <th>4</th>\n",
              "      <td>0</td>\n",
              "      <td>46</td>\n",
              "      <td>2</td>\n",
              "    </tr>\n",
              "  </tbody>\n",
              "</table>\n",
              "</div>"
            ],
            "text/plain": [
              "   exp  device_make  browser\n",
              "0    1           46        2\n",
              "1    1           46        2\n",
              "2    1           29        3\n",
              "3    0          137        6\n",
              "4    0           46        2"
            ]
          },
          "metadata": {
            "tags": []
          },
          "execution_count": 231
        }
      ]
    },
    {
      "cell_type": "markdown",
      "metadata": {
        "id": "QNdToDLYJFiT",
        "colab_type": "text"
      },
      "source": [
        "Splitting data into test and train"
      ]
    },
    {
      "cell_type": "code",
      "metadata": {
        "id": "OyTmkMHyJFiX",
        "colab_type": "code",
        "colab": {},
        "outputId": "23eee06e-08ab-4aab-ea58-51e44f7990b0"
      },
      "source": [
        "# Split dataset into train and test set\n",
        "from sklearn.model_selection import train_test_split\n",
        "X_train, X_test, Y_train, Y_test = train_test_split(X_features,Y,test_size=0.10,random_state=0)\n",
        "X_train.head()\n"
      ],
      "execution_count": null,
      "outputs": [
        {
          "output_type": "execute_result",
          "data": {
            "text/html": [
              "<div>\n",
              "<style scoped>\n",
              "    .dataframe tbody tr th:only-of-type {\n",
              "        vertical-align: middle;\n",
              "    }\n",
              "\n",
              "    .dataframe tbody tr th {\n",
              "        vertical-align: top;\n",
              "    }\n",
              "\n",
              "    .dataframe thead th {\n",
              "        text-align: right;\n",
              "    }\n",
              "</style>\n",
              "<table border=\"1\" class=\"dataframe\">\n",
              "  <thead>\n",
              "    <tr style=\"text-align: right;\">\n",
              "      <th></th>\n",
              "      <th>exp</th>\n",
              "      <th>device_make</th>\n",
              "      <th>browser</th>\n",
              "    </tr>\n",
              "  </thead>\n",
              "  <tbody>\n",
              "    <tr>\n",
              "      <th>4250</th>\n",
              "      <td>1</td>\n",
              "      <td>46</td>\n",
              "      <td>2</td>\n",
              "    </tr>\n",
              "    <tr>\n",
              "      <th>2549</th>\n",
              "      <td>0</td>\n",
              "      <td>46</td>\n",
              "      <td>2</td>\n",
              "    </tr>\n",
              "    <tr>\n",
              "      <th>3790</th>\n",
              "      <td>1</td>\n",
              "      <td>101</td>\n",
              "      <td>14</td>\n",
              "    </tr>\n",
              "    <tr>\n",
              "      <th>1995</th>\n",
              "      <td>1</td>\n",
              "      <td>64</td>\n",
              "      <td>3</td>\n",
              "    </tr>\n",
              "    <tr>\n",
              "      <th>7344</th>\n",
              "      <td>1</td>\n",
              "      <td>90</td>\n",
              "      <td>3</td>\n",
              "    </tr>\n",
              "  </tbody>\n",
              "</table>\n",
              "</div>"
            ],
            "text/plain": [
              "      exp  device_make  browser\n",
              "4250    1           46        2\n",
              "2549    0           46        2\n",
              "3790    1          101       14\n",
              "1995    1           64        3\n",
              "7344    1           90        3"
            ]
          },
          "metadata": {
            "tags": []
          },
          "execution_count": 232
        }
      ]
    },
    {
      "cell_type": "code",
      "metadata": {
        "id": "Zoa531rBJFit",
        "colab_type": "code",
        "colab": {}
      },
      "source": [
        "from sklearn.model_selection import KFold \n",
        "def model_predictor(model, x, y):\n",
        "    scores = []\n",
        "    kf = KFold(n_splits=5, random_state=0, shuffle=True)\n",
        "    for train_index, test_index in kf.split(X_train):\n",
        "\n",
        "        KX_train, KX_test = X_train.iloc[train_index], X_train.iloc[test_index]\n",
        "        Ky_train, Ky_test = Y_train.iloc[train_index], Y_train.iloc[test_index]\n",
        "\n",
        "\n",
        "        trained_model = model.fit(KX_train, Ky_train)\n",
        "        scores.append(model.score(X = KX_test ,y = Ky_test))\n",
        "    return trained_model, scores"
      ],
      "execution_count": null,
      "outputs": []
    },
    {
      "cell_type": "markdown",
      "metadata": {
        "id": "AXgtQcwiJFi9",
        "colab_type": "text"
      },
      "source": [
        "Three machine learning model will be used for the a/b test. They are: Logistic regression, Decision tree and XGBoost"
      ]
    },
    {
      "cell_type": "code",
      "metadata": {
        "id": "813E2lcMJFjD",
        "colab_type": "code",
        "colab": {}
      },
      "source": [
        "# Initialize logistic regression model\n",
        "log_model = linear_model.LogisticRegression(solver='lbfgs')\n",
        "\n",
        "#Initialize decision tree\n",
        "from sklearn.tree import DecisionTreeClassifier\n",
        "tree_model = DecisionTreeClassifier()\n",
        "\n",
        "#initialize XGBoost\n",
        "#!pip install xgboost\n",
        "import xgboost as xgb\n",
        "XGB_model = xgb.XGBClassifier()\n"
      ],
      "execution_count": null,
      "outputs": []
    },
    {
      "cell_type": "code",
      "metadata": {
        "id": "40ZBi4c5JFjT",
        "colab_type": "code",
        "colab": {},
        "outputId": "da29e57f-ba31-4fc6-caa4-bc96d7dea46c"
      },
      "source": [
        "#fit models, predict and determine scores\n",
        "log_model_trained_model, log_model_scores,  = model_predictor(log_model, X_train, Y_train)\n",
        "print(\"mean scores computed\" + \":\" +str(np.mean(log_model_scores)))\n",
        "print(\"std of scores computed\" + \":\" +str(np.std(log_model_scores)))\n",
        "\n",
        "\n",
        "#make predictions with validation set\n",
        "y_p_l = pd.DataFrame(log_model.predict(X_test), columns=[\"y_pred\"])\n",
        "\n",
        "com_log = pd.concat([Y_test,y_p_l], axis=1)\n",
        "com_log.head()\n",
        "\n",
        "from sklearn.metrics import mean_squared_error\n",
        "rmse = np.sqrt(mean_squared_error(Y_test, y_p_l))\n",
        "print(\"the loss function is\" + \": \"+ str(rmse))\n",
        "\n"
      ],
      "execution_count": null,
      "outputs": [
        {
          "output_type": "stream",
          "text": [
            "mean scores computed:0.9281882288790161\n",
            "std of scores computed:0.0050833343959127255\n",
            "the loss function is: 0.2487592975524973\n"
          ],
          "name": "stdout"
        }
      ]
    },
    {
      "cell_type": "code",
      "metadata": {
        "id": "OcU76aXAJFjk",
        "colab_type": "code",
        "colab": {},
        "outputId": "2b4769f9-e234-4d5e-d7d9-7c6a615742d4"
      },
      "source": [
        "tree_model_trained_model, tree_model_scores = model_predictor(tree_model, X_train, Y_train)\n",
        "print(\"mean scores computed\" + \":\" +str(np.mean(tree_model_scores)))\n",
        "print(\"std of scores computed\" + \":\" +str(np.std(tree_model_scores)))\n",
        "\n",
        "#make predictions with validation set\n",
        "y_p_tree = pd.DataFrame(tree_model.predict(X_test), columns=[\"y_pred\"])\n",
        "\n",
        "com_tree = pd.concat([Y_test,y_p_tree], axis=1)\n",
        "com_tree.head()\n",
        "\n",
        "from sklearn.metrics import mean_squared_error\n",
        "rmse_tree = np.sqrt(mean_squared_error(Y_test, y_p_tree))\n",
        "print(\"the loss function is\" + \": \"+str(rmse_tree))\n",
        "\n",
        "#feature importance\n",
        "print(dict(zip(X_features.columns, tree_model_trained_model.feature_importances_)))"
      ],
      "execution_count": null,
      "outputs": [
        {
          "output_type": "stream",
          "text": [
            "mean scores computed:0.9246114144146107\n",
            "std of scores computed:0.004139302632305576\n",
            "the loss function is: 0.26326209505561055\n",
            "{'exp': 0.12040546764055521, 'device_make': 0.6764448988909756, 'browser': 0.20314963346846934}\n"
          ],
          "name": "stdout"
        }
      ]
    },
    {
      "cell_type": "code",
      "metadata": {
        "id": "KdiJelBFJFjy",
        "colab_type": "code",
        "colab": {},
        "outputId": "3963a8e3-4450-4ffa-a936-bf9e935855d2"
      },
      "source": [
        "XGB_model_trained_model, XGB_model_scores = model_predictor(XGB_model, X_train, Y_train)\n",
        "print(\"mean scores computed\" + \":\" +str(np.mean(XGB_model_scores)))\n",
        "print(\"std of scores computed\" + \":\" +str(np.std(XGB_model_scores)))\n",
        "\n",
        "\n",
        "#make predictions with validation set\n",
        "y_p_XGB = pd.DataFrame(XGB_model.predict(X_test), columns=[\"y_pred\"])\n",
        "\n",
        "com_XGB = pd.concat([Y_test,y_p_XGB], axis=1)\n",
        "com_XGB.head()\n",
        "\n",
        "from sklearn.metrics import mean_squared_error\n",
        "rmse_XGB = np.sqrt(mean_squared_error(Y_test, y_p_XGB))\n",
        "print(\"the loss function is\" + \": \" +str(rmse_XGB))\n",
        "\n",
        "#feature importance\n",
        "print(dict(zip(X_features.columns, XGB_model_trained_model.feature_importances_)))\n"
      ],
      "execution_count": null,
      "outputs": [
        {
          "output_type": "stream",
          "text": [
            "mean scores computed:0.9266748774768516\n",
            "std of scores computed:0.004231396662205607\n",
            "the loss function is: 0.26326209505561055\n",
            "{'exp': 0.26487526, 'device_make': 0.4610094, 'browser': 0.27411535}\n"
          ],
          "name": "stdout"
        }
      ]
    },
    {
      "cell_type": "markdown",
      "metadata": {
        "id": "6oOh1KvaJFkD",
        "colab_type": "text"
      },
      "source": [
        "### SEQUENTIAL TESTING\n",
        "\n",
        "* **Null hypothesis: no significant difference between exposed and control group**\n",
        "* **Alternative hypothesis test: there is a significant difference between exposed and control group**\n",
        "* **We wish to test the simple null hypothesis that \"θ = no significant difference between exposed and control group\" versus the simple alternative hypothesis that \"θ = there is a significant difference between exposed and control group\" at the α=0.05 level.**\n",
        "* **In sequential testing compared to classical p value test as we do not need to know the number of samples before-hand.**\n",
        "* **If the critical point becomes greater than the alpha 0.05 level value, we reject the null hypothesis straightaway even if we did not look through all our samples. This is an advantage over the classical p value testing**\n",
        "* **To model the ongoing monitoring of this experiment, we define a random variable N=min{n≥1|∑ni=1Xi>n−−√z0.05}, called the stopping time.**\n",
        "* **The random variable N is the first time that the test statistic exceeds the critical value, and the naive approach to sequential testing would reject the null hypothesis after N samples.**"
      ]
    },
    {
      "cell_type": "code",
      "metadata": {
        "id": "rCqxq_8CJFkG",
        "colab_type": "code",
        "colab": {}
      },
      "source": [
        "from __future__ import division\n",
        "import numpy as np\n",
        "from scipy import stats\n",
        "n = 100\n",
        "N = 4071\n",
        "samples = stats.norm.rvs(size=(N, n))"
      ],
      "execution_count": null,
      "outputs": []
    },
    {
      "cell_type": "markdown",
      "metadata": {
        "id": "-ou5M4MsJFkX",
        "colab_type": "text"
      },
      "source": [
        "Here each row of samples corresponds to a simulation and each column to a sample.\n",
        "Now we calculate the proportion of these simulated experiments that would have been stopped before 4071 samples, trying to reject the null hypothesis that the exposed group is less then or equal to the control group is true.\n"
      ]
    },
    {
      "cell_type": "code",
      "metadata": {
        "id": "arE6mq5UJFkZ",
        "colab_type": "code",
        "colab": {},
        "outputId": "bbf8dcf2-cd20-4098-b6ff-33dcb99a7ede"
      },
      "source": [
        "alpha = 0.05\n",
        "z_alpha = stats.norm.isf(alpha)\n",
        "cumsums = samples.cumsum(axis=1)\n",
        "ns = np.arange(1, n + 1)\n",
        "np.any(cumsums > np.sqrt(ns) * z_alpha, axis=1).sum() / N"
      ],
      "execution_count": null,
      "outputs": [
        {
          "output_type": "execute_result",
          "data": {
            "text/plain": [
              "0.31171702284450997"
            ]
          },
          "metadata": {
            "tags": []
          },
          "execution_count": 241
        }
      ]
    },
    {
      "cell_type": "markdown",
      "metadata": {
        "id": "W8-CWXa7JFkt",
        "colab_type": "text"
      },
      "source": [
        "We see that the actual level of this test is an order of magnitude larger than the desired level of α=0.05. \n",
        "**We see that our critical value is greater than alpha testing level of 0.05, we then go ahead to reject the null hypothesis.**\n",
        "To check that our method is reasonable, we see that if we always collect one thousand samples, we achieve a simulated level quite close to α=0.05."
      ]
    },
    {
      "cell_type": "code",
      "metadata": {
        "id": "fmwYPk_5JFky",
        "colab_type": "code",
        "colab": {}
      },
      "source": [
        ""
      ],
      "execution_count": null,
      "outputs": []
    }
  ]
}