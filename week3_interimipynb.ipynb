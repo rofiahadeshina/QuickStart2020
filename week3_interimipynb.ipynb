{
  "nbformat": 4,
  "nbformat_minor": 0,
  "metadata": {
    "colab": {
      "name": "week3_interimipynb",
      "provenance": [],
      "collapsed_sections": [],
      "authorship_tag": "ABX9TyMiaX0KYAa4w1BJt3vlRpOm",
      "include_colab_link": true
    },
    "kernelspec": {
      "name": "python3",
      "display_name": "Python 3"
    }
  },
  "cells": [
    {
      "cell_type": "markdown",
      "metadata": {
        "id": "view-in-github",
        "colab_type": "text"
      },
      "source": [
        "<a href=\"https://colab.research.google.com/github/rofiahadeshina/QuickStart2020/blob/master/week3_interimipynb.ipynb\" target=\"_parent\"><img src=\"https://colab.research.google.com/assets/colab-badge.svg\" alt=\"Open In Colab\"/></a>"
      ]
    },
    {
      "cell_type": "code",
      "metadata": {
        "id": "dY1eNKcofX-P",
        "colab_type": "code",
        "colab": {}
      },
      "source": [
        "import numpy as np\n",
        "import pandas as pd\n",
        "import matplotlib.pyplot as plt"
      ],
      "execution_count": 45,
      "outputs": []
    },
    {
      "cell_type": "code",
      "metadata": {
        "id": "e_8ZFrBbfkkU",
        "colab_type": "code",
        "colab": {
          "resources": {
            "http://localhost:8080/nbextensions/google.colab/files.js": {
              "data": "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",
              "ok": true,
              "headers": [
                [
                  "content-type",
                  "application/javascript"
                ]
              ],
              "status": 200,
              "status_text": ""
            }
          },
          "base_uri": "https://localhost:8080/",
          "height": 72
        },
        "outputId": "6d2e953c-8c95-4374-b543-179715938b81"
      },
      "source": [
        "from google.colab import files\n",
        "uploaded = files.upload()\n"
      ],
      "execution_count": 2,
      "outputs": [
        {
          "output_type": "display_data",
          "data": {
            "text/html": [
              "\n",
              "     <input type=\"file\" id=\"files-30700690-c43e-4b86-a2d5-afffca781b92\" name=\"files[]\" multiple disabled\n",
              "        style=\"border:none\" />\n",
              "     <output id=\"result-30700690-c43e-4b86-a2d5-afffca781b92\">\n",
              "      Upload widget is only available when the cell has been executed in the\n",
              "      current browser session. Please rerun this cell to enable.\n",
              "      </output>\n",
              "      <script src=\"/nbextensions/google.colab/files.js\"></script> "
            ],
            "text/plain": [
              "<IPython.core.display.HTML object>"
            ]
          },
          "metadata": {
            "tags": []
          }
        },
        {
          "output_type": "stream",
          "text": [
            "Saving Week2_challenge_data_source.xlsx to Week2_challenge_data_source.xlsx\n"
          ],
          "name": "stdout"
        }
      ]
    },
    {
      "cell_type": "code",
      "metadata": {
        "id": "nxTB2yZ5f9Kc",
        "colab_type": "code",
        "colab": {}
      },
      "source": [
        "import io\n",
        "df2 = pd.read_excel(io.BytesIO(uploaded['Week2_challenge_data_source.xlsx']))"
      ],
      "execution_count": 3,
      "outputs": []
    },
    {
      "cell_type": "code",
      "metadata": {
        "id": "UbJbBnZEgKWE",
        "colab_type": "code",
        "colab": {
          "base_uri": "https://localhost:8080/",
          "height": 534
        },
        "outputId": "a54de68b-2b3e-4587-c340-7f9359a80c8a"
      },
      "source": [
        "df2.head()"
      ],
      "execution_count": 56,
      "outputs": [
        {
          "output_type": "execute_result",
          "data": {
            "text/html": [
              "<div>\n",
              "<style scoped>\n",
              "    .dataframe tbody tr th:only-of-type {\n",
              "        vertical-align: middle;\n",
              "    }\n",
              "\n",
              "    .dataframe tbody tr th {\n",
              "        vertical-align: top;\n",
              "    }\n",
              "\n",
              "    .dataframe thead th {\n",
              "        text-align: right;\n",
              "    }\n",
              "</style>\n",
              "<table border=\"1\" class=\"dataframe\">\n",
              "  <thead>\n",
              "    <tr style=\"text-align: right;\">\n",
              "      <th></th>\n",
              "      <th>Bearer Id</th>\n",
              "      <th>Start</th>\n",
              "      <th>Start ms</th>\n",
              "      <th>End</th>\n",
              "      <th>End ms</th>\n",
              "      <th>Dur. (ms)</th>\n",
              "      <th>IMSI</th>\n",
              "      <th>MSISDN/Number</th>\n",
              "      <th>IMEI</th>\n",
              "      <th>Last Location Name</th>\n",
              "      <th>Avg RTT DL (ms)</th>\n",
              "      <th>Avg RTT UL (ms)</th>\n",
              "      <th>Avg Bearer TP DL (kbps)</th>\n",
              "      <th>Avg Bearer TP UL (kbps)</th>\n",
              "      <th>TCP DL Retrans. Vol (Bytes)</th>\n",
              "      <th>TCP UL Retrans. Vol (Bytes)</th>\n",
              "      <th>DL TP &lt; 50 Kbps (%)</th>\n",
              "      <th>50 Kbps &lt; DL TP &lt; 250 Kbps (%)</th>\n",
              "      <th>250 Kbps &lt; DL TP &lt; 1 Mbps (%)</th>\n",
              "      <th>DL TP &gt; 1 Mbps (%)</th>\n",
              "      <th>UL TP &lt; 10 Kbps (%)</th>\n",
              "      <th>10 Kbps &lt; UL TP &lt; 50 Kbps (%)</th>\n",
              "      <th>50 Kbps &lt; UL TP &lt; 300 Kbps (%)</th>\n",
              "      <th>UL TP &gt; 300 Kbps (%)</th>\n",
              "      <th>HTTP DL (Bytes)</th>\n",
              "      <th>HTTP UL (Bytes)</th>\n",
              "      <th>Activity Duration DL (ms)</th>\n",
              "      <th>Activity Duration UL (ms)</th>\n",
              "      <th>Dur. (ms).1</th>\n",
              "      <th>Handset Manufacturer</th>\n",
              "      <th>Handset Type</th>\n",
              "      <th>Nb of sec with 125000B &lt; Vol DL</th>\n",
              "      <th>Nb of sec with 1250B &lt; Vol UL &lt; 6250B</th>\n",
              "      <th>Nb of sec with 31250B &lt; Vol DL &lt; 125000B</th>\n",
              "      <th>Nb of sec with 37500B &lt; Vol UL</th>\n",
              "      <th>Nb of sec with 6250B &lt; Vol DL &lt; 31250B</th>\n",
              "      <th>Nb of sec with 6250B &lt; Vol UL &lt; 37500B</th>\n",
              "      <th>Nb of sec with Vol DL &lt; 6250B</th>\n",
              "      <th>Nb of sec with Vol UL &lt; 1250B</th>\n",
              "      <th>Social Media DL (Bytes)</th>\n",
              "      <th>Social Media UL (Bytes)</th>\n",
              "      <th>Google DL (Bytes)</th>\n",
              "      <th>Google UL (Bytes)</th>\n",
              "      <th>Email DL (Bytes)</th>\n",
              "      <th>Email UL (Bytes)</th>\n",
              "      <th>Youtube DL (Bytes)</th>\n",
              "      <th>Youtube UL (Bytes)</th>\n",
              "      <th>Netflix DL (Bytes)</th>\n",
              "      <th>Netflix UL (Bytes)</th>\n",
              "      <th>Gaming DL (Bytes)</th>\n",
              "      <th>Gaming UL (Bytes)</th>\n",
              "      <th>Other DL (Bytes)</th>\n",
              "      <th>Other UL (Bytes)</th>\n",
              "      <th>Total UL (Bytes)</th>\n",
              "      <th>Total DL (Bytes)</th>\n",
              "      <th>total_social</th>\n",
              "      <th>total DL_UL data</th>\n",
              "      <th>total_netflix</th>\n",
              "      <th>total_email</th>\n",
              "      <th>total_gaming</th>\n",
              "      <th>total_google</th>\n",
              "      <th>total_youtube</th>\n",
              "    </tr>\n",
              "  </thead>\n",
              "  <tbody>\n",
              "    <tr>\n",
              "      <th>0</th>\n",
              "      <td>13114483460844900352</td>\n",
              "      <td>2019-04-04 12:01:18</td>\n",
              "      <td>770.0</td>\n",
              "      <td>2019-04-25 14:35:31</td>\n",
              "      <td>662.0</td>\n",
              "      <td>1823652.0</td>\n",
              "      <td>2.082014e+14</td>\n",
              "      <td>3.366496e+10</td>\n",
              "      <td>3.552121e+13</td>\n",
              "      <td>9164566995485190</td>\n",
              "      <td>42.0</td>\n",
              "      <td>5.0</td>\n",
              "      <td>23.0</td>\n",
              "      <td>44.0</td>\n",
              "      <td>NaN</td>\n",
              "      <td>NaN</td>\n",
              "      <td>100.0</td>\n",
              "      <td>0.0</td>\n",
              "      <td>0.0</td>\n",
              "      <td>0.0</td>\n",
              "      <td>100.0</td>\n",
              "      <td>0.0</td>\n",
              "      <td>0.0</td>\n",
              "      <td>0.0</td>\n",
              "      <td>NaN</td>\n",
              "      <td>NaN</td>\n",
              "      <td>37624.0</td>\n",
              "      <td>38787.0</td>\n",
              "      <td>1.823653e+09</td>\n",
              "      <td>Samsung</td>\n",
              "      <td>Samsung Galaxy A5 Sm-A520F</td>\n",
              "      <td>NaN</td>\n",
              "      <td>NaN</td>\n",
              "      <td>NaN</td>\n",
              "      <td>NaN</td>\n",
              "      <td>NaN</td>\n",
              "      <td>NaN</td>\n",
              "      <td>213.0</td>\n",
              "      <td>214.0</td>\n",
              "      <td>1545765.0</td>\n",
              "      <td>24420.0</td>\n",
              "      <td>1634479.0</td>\n",
              "      <td>1271433.0</td>\n",
              "      <td>3563542.0</td>\n",
              "      <td>137762.0</td>\n",
              "      <td>15854611.0</td>\n",
              "      <td>2501332.0</td>\n",
              "      <td>8198936.0</td>\n",
              "      <td>9656251.0</td>\n",
              "      <td>278082303.0</td>\n",
              "      <td>14344150.0</td>\n",
              "      <td>171744450.0</td>\n",
              "      <td>8814393.0</td>\n",
              "      <td>36749741.0</td>\n",
              "      <td>308879636.0</td>\n",
              "      <td>1570185.0</td>\n",
              "      <td>345629377.0</td>\n",
              "      <td>17855187.0</td>\n",
              "      <td>3701304.0</td>\n",
              "      <td>292426453.0</td>\n",
              "      <td>2905912.0</td>\n",
              "      <td>18355943.0</td>\n",
              "    </tr>\n",
              "    <tr>\n",
              "      <th>1</th>\n",
              "      <td>13114483482878900224</td>\n",
              "      <td>2019-04-09 13:04:04</td>\n",
              "      <td>235.0</td>\n",
              "      <td>2019-04-25 08:15:48</td>\n",
              "      <td>606.0</td>\n",
              "      <td>1365104.0</td>\n",
              "      <td>2.082019e+14</td>\n",
              "      <td>3.368185e+10</td>\n",
              "      <td>3.579401e+13</td>\n",
              "      <td>L77566A</td>\n",
              "      <td>65.0</td>\n",
              "      <td>5.0</td>\n",
              "      <td>16.0</td>\n",
              "      <td>26.0</td>\n",
              "      <td>NaN</td>\n",
              "      <td>NaN</td>\n",
              "      <td>100.0</td>\n",
              "      <td>0.0</td>\n",
              "      <td>0.0</td>\n",
              "      <td>0.0</td>\n",
              "      <td>100.0</td>\n",
              "      <td>0.0</td>\n",
              "      <td>0.0</td>\n",
              "      <td>0.0</td>\n",
              "      <td>NaN</td>\n",
              "      <td>NaN</td>\n",
              "      <td>168.0</td>\n",
              "      <td>3560.0</td>\n",
              "      <td>1.365104e+09</td>\n",
              "      <td>Samsung</td>\n",
              "      <td>Samsung Galaxy J5 (Sm-J530)</td>\n",
              "      <td>NaN</td>\n",
              "      <td>NaN</td>\n",
              "      <td>NaN</td>\n",
              "      <td>NaN</td>\n",
              "      <td>NaN</td>\n",
              "      <td>NaN</td>\n",
              "      <td>971.0</td>\n",
              "      <td>1022.0</td>\n",
              "      <td>1926113.0</td>\n",
              "      <td>7165.0</td>\n",
              "      <td>3493924.0</td>\n",
              "      <td>920172.0</td>\n",
              "      <td>629046.0</td>\n",
              "      <td>308339.0</td>\n",
              "      <td>20247395.0</td>\n",
              "      <td>19111729.0</td>\n",
              "      <td>18338413.0</td>\n",
              "      <td>17227132.0</td>\n",
              "      <td>608750074.0</td>\n",
              "      <td>1170709.0</td>\n",
              "      <td>526904238.0</td>\n",
              "      <td>15055145.0</td>\n",
              "      <td>53800391.0</td>\n",
              "      <td>653384965.0</td>\n",
              "      <td>1933278.0</td>\n",
              "      <td>707185356.0</td>\n",
              "      <td>35565545.0</td>\n",
              "      <td>937385.0</td>\n",
              "      <td>609920783.0</td>\n",
              "      <td>4414096.0</td>\n",
              "      <td>39359124.0</td>\n",
              "    </tr>\n",
              "    <tr>\n",
              "      <th>2</th>\n",
              "      <td>13114483484080500736</td>\n",
              "      <td>2019-04-09 17:42:11</td>\n",
              "      <td>1.0</td>\n",
              "      <td>2019-04-25 11:58:13</td>\n",
              "      <td>652.0</td>\n",
              "      <td>1361762.0</td>\n",
              "      <td>2.082003e+14</td>\n",
              "      <td>3.376063e+10</td>\n",
              "      <td>3.528151e+13</td>\n",
              "      <td>D42335A</td>\n",
              "      <td>NaN</td>\n",
              "      <td>NaN</td>\n",
              "      <td>6.0</td>\n",
              "      <td>9.0</td>\n",
              "      <td>NaN</td>\n",
              "      <td>NaN</td>\n",
              "      <td>100.0</td>\n",
              "      <td>0.0</td>\n",
              "      <td>0.0</td>\n",
              "      <td>0.0</td>\n",
              "      <td>100.0</td>\n",
              "      <td>0.0</td>\n",
              "      <td>0.0</td>\n",
              "      <td>0.0</td>\n",
              "      <td>NaN</td>\n",
              "      <td>NaN</td>\n",
              "      <td>0.0</td>\n",
              "      <td>0.0</td>\n",
              "      <td>1.361763e+09</td>\n",
              "      <td>Samsung</td>\n",
              "      <td>Samsung Galaxy A8 (2018)</td>\n",
              "      <td>NaN</td>\n",
              "      <td>NaN</td>\n",
              "      <td>NaN</td>\n",
              "      <td>NaN</td>\n",
              "      <td>NaN</td>\n",
              "      <td>NaN</td>\n",
              "      <td>751.0</td>\n",
              "      <td>695.0</td>\n",
              "      <td>1684053.0</td>\n",
              "      <td>42224.0</td>\n",
              "      <td>8535055.0</td>\n",
              "      <td>1694064.0</td>\n",
              "      <td>2690151.0</td>\n",
              "      <td>672973.0</td>\n",
              "      <td>19725661.0</td>\n",
              "      <td>14699576.0</td>\n",
              "      <td>17587794.0</td>\n",
              "      <td>6163408.0</td>\n",
              "      <td>229584621.0</td>\n",
              "      <td>395630.0</td>\n",
              "      <td>410692588.0</td>\n",
              "      <td>4215763.0</td>\n",
              "      <td>27883638.0</td>\n",
              "      <td>279807335.0</td>\n",
              "      <td>1726277.0</td>\n",
              "      <td>307690973.0</td>\n",
              "      <td>23751202.0</td>\n",
              "      <td>3363124.0</td>\n",
              "      <td>229980251.0</td>\n",
              "      <td>10229119.0</td>\n",
              "      <td>34425237.0</td>\n",
              "    </tr>\n",
              "    <tr>\n",
              "      <th>3</th>\n",
              "      <td>13114483485442799616</td>\n",
              "      <td>2019-04-10 00:31:25</td>\n",
              "      <td>486.0</td>\n",
              "      <td>2019-04-25 07:36:35</td>\n",
              "      <td>171.0</td>\n",
              "      <td>1321509.0</td>\n",
              "      <td>2.082014e+14</td>\n",
              "      <td>3.375034e+10</td>\n",
              "      <td>3.535661e+13</td>\n",
              "      <td>T21824A</td>\n",
              "      <td>NaN</td>\n",
              "      <td>NaN</td>\n",
              "      <td>44.0</td>\n",
              "      <td>44.0</td>\n",
              "      <td>NaN</td>\n",
              "      <td>NaN</td>\n",
              "      <td>100.0</td>\n",
              "      <td>0.0</td>\n",
              "      <td>0.0</td>\n",
              "      <td>0.0</td>\n",
              "      <td>100.0</td>\n",
              "      <td>0.0</td>\n",
              "      <td>0.0</td>\n",
              "      <td>0.0</td>\n",
              "      <td>NaN</td>\n",
              "      <td>NaN</td>\n",
              "      <td>3330.0</td>\n",
              "      <td>37882.0</td>\n",
              "      <td>1.321510e+09</td>\n",
              "      <td>undefined</td>\n",
              "      <td>undefined</td>\n",
              "      <td>NaN</td>\n",
              "      <td>NaN</td>\n",
              "      <td>NaN</td>\n",
              "      <td>NaN</td>\n",
              "      <td>NaN</td>\n",
              "      <td>NaN</td>\n",
              "      <td>17.0</td>\n",
              "      <td>207.0</td>\n",
              "      <td>644121.0</td>\n",
              "      <td>13372.0</td>\n",
              "      <td>9023734.0</td>\n",
              "      <td>2788027.0</td>\n",
              "      <td>1439754.0</td>\n",
              "      <td>631229.0</td>\n",
              "      <td>21388122.0</td>\n",
              "      <td>15146643.0</td>\n",
              "      <td>13994646.0</td>\n",
              "      <td>1097942.0</td>\n",
              "      <td>799538153.0</td>\n",
              "      <td>10849722.0</td>\n",
              "      <td>749039933.0</td>\n",
              "      <td>12797283.0</td>\n",
              "      <td>43324218.0</td>\n",
              "      <td>846028530.0</td>\n",
              "      <td>657493.0</td>\n",
              "      <td>889352748.0</td>\n",
              "      <td>15092588.0</td>\n",
              "      <td>2070983.0</td>\n",
              "      <td>810387875.0</td>\n",
              "      <td>11811761.0</td>\n",
              "      <td>36534765.0</td>\n",
              "    </tr>\n",
              "    <tr>\n",
              "      <th>4</th>\n",
              "      <td>13114483499480700928</td>\n",
              "      <td>2019-04-12 20:10:23</td>\n",
              "      <td>565.0</td>\n",
              "      <td>2019-04-25 10:40:32</td>\n",
              "      <td>954.0</td>\n",
              "      <td>1089009.0</td>\n",
              "      <td>2.082014e+14</td>\n",
              "      <td>3.369980e+10</td>\n",
              "      <td>3.540701e+13</td>\n",
              "      <td>D88865A</td>\n",
              "      <td>NaN</td>\n",
              "      <td>NaN</td>\n",
              "      <td>6.0</td>\n",
              "      <td>9.0</td>\n",
              "      <td>NaN</td>\n",
              "      <td>NaN</td>\n",
              "      <td>100.0</td>\n",
              "      <td>0.0</td>\n",
              "      <td>0.0</td>\n",
              "      <td>0.0</td>\n",
              "      <td>100.0</td>\n",
              "      <td>0.0</td>\n",
              "      <td>0.0</td>\n",
              "      <td>0.0</td>\n",
              "      <td>NaN</td>\n",
              "      <td>NaN</td>\n",
              "      <td>0.0</td>\n",
              "      <td>0.0</td>\n",
              "      <td>1.089009e+09</td>\n",
              "      <td>Samsung</td>\n",
              "      <td>Samsung Sm-G390F</td>\n",
              "      <td>NaN</td>\n",
              "      <td>NaN</td>\n",
              "      <td>NaN</td>\n",
              "      <td>NaN</td>\n",
              "      <td>NaN</td>\n",
              "      <td>NaN</td>\n",
              "      <td>607.0</td>\n",
              "      <td>604.0</td>\n",
              "      <td>862600.0</td>\n",
              "      <td>50188.0</td>\n",
              "      <td>6248284.0</td>\n",
              "      <td>1500559.0</td>\n",
              "      <td>1936496.0</td>\n",
              "      <td>173853.0</td>\n",
              "      <td>15259380.0</td>\n",
              "      <td>18962873.0</td>\n",
              "      <td>17124581.0</td>\n",
              "      <td>415218.0</td>\n",
              "      <td>527707248.0</td>\n",
              "      <td>3529801.0</td>\n",
              "      <td>550709500.0</td>\n",
              "      <td>13910322.0</td>\n",
              "      <td>38542814.0</td>\n",
              "      <td>569138589.0</td>\n",
              "      <td>912788.0</td>\n",
              "      <td>607681403.0</td>\n",
              "      <td>17539799.0</td>\n",
              "      <td>2110349.0</td>\n",
              "      <td>531237049.0</td>\n",
              "      <td>7748843.0</td>\n",
              "      <td>34222253.0</td>\n",
              "    </tr>\n",
              "  </tbody>\n",
              "</table>\n",
              "</div>"
            ],
            "text/plain": [
              "              Bearer Id               Start  ...  total_google total_youtube\n",
              "0  13114483460844900352 2019-04-04 12:01:18  ...     2905912.0    18355943.0\n",
              "1  13114483482878900224 2019-04-09 13:04:04  ...     4414096.0    39359124.0\n",
              "2  13114483484080500736 2019-04-09 17:42:11  ...    10229119.0    34425237.0\n",
              "3  13114483485442799616 2019-04-10 00:31:25  ...    11811761.0    36534765.0\n",
              "4  13114483499480700928 2019-04-12 20:10:23  ...     7748843.0    34222253.0\n",
              "\n",
              "[5 rows x 62 columns]"
            ]
          },
          "metadata": {
            "tags": []
          },
          "execution_count": 56
        }
      ]
    },
    {
      "cell_type": "code",
      "metadata": {
        "id": "h_geMiVlUBxw",
        "colab_type": "code",
        "colab": {
          "base_uri": "https://localhost:8080/",
          "height": 34
        },
        "outputId": "8b39f81f-ddca-4fe3-9356-fb73cb8f7fd1"
      },
      "source": [
        "df2.shape"
      ],
      "execution_count": 98,
      "outputs": [
        {
          "output_type": "execute_result",
          "data": {
            "text/plain": [
              "(150001, 62)"
            ]
          },
          "metadata": {
            "tags": []
          },
          "execution_count": 98
        }
      ]
    },
    {
      "cell_type": "code",
      "metadata": {
        "id": "XlgCbvTwgPWA",
        "colab_type": "code",
        "colab": {
          "base_uri": "https://localhost:8080/",
          "height": 1000
        },
        "outputId": "09e682e0-aa66-4afd-afe4-967836f66508"
      },
      "source": [
        "df2.info()"
      ],
      "execution_count": 99,
      "outputs": [
        {
          "output_type": "stream",
          "text": [
            "<class 'pandas.core.frame.DataFrame'>\n",
            "RangeIndex: 150001 entries, 0 to 150000\n",
            "Data columns (total 62 columns):\n",
            " #   Column                                    Non-Null Count   Dtype         \n",
            "---  ------                                    --------------   -----         \n",
            " 0   Bearer Id                                 150001 non-null  object        \n",
            " 1   Start                                     150000 non-null  datetime64[ns]\n",
            " 2   Start ms                                  150000 non-null  float64       \n",
            " 3   End                                       150000 non-null  datetime64[ns]\n",
            " 4   End ms                                    150000 non-null  float64       \n",
            " 5   Dur. (ms)                                 150000 non-null  float64       \n",
            " 6   IMSI                                      149431 non-null  float64       \n",
            " 7   MSISDN/Number                             150001 non-null  float64       \n",
            " 8   IMEI                                      149429 non-null  float64       \n",
            " 9   Last Location Name                        148848 non-null  object        \n",
            " 10  Avg RTT DL (ms)                           150001 non-null  float64       \n",
            " 11  Avg RTT UL (ms)                           150001 non-null  float64       \n",
            " 12  Avg Bearer TP DL (kbps)                   150001 non-null  float64       \n",
            " 13  Avg Bearer TP UL (kbps)                   150001 non-null  float64       \n",
            " 14  TCP DL Retrans. Vol (Bytes)               61855 non-null   float64       \n",
            " 15  TCP UL Retrans. Vol (Bytes)               53352 non-null   float64       \n",
            " 16  DL TP < 50 Kbps (%)                       149247 non-null  float64       \n",
            " 17  50 Kbps < DL TP < 250 Kbps (%)            149247 non-null  float64       \n",
            " 18  250 Kbps < DL TP < 1 Mbps (%)             149247 non-null  float64       \n",
            " 19  DL TP > 1 Mbps (%)                        149247 non-null  float64       \n",
            " 20  UL TP < 10 Kbps (%)                       149209 non-null  float64       \n",
            " 21  10 Kbps < UL TP < 50 Kbps (%)             149209 non-null  float64       \n",
            " 22  50 Kbps < UL TP < 300 Kbps (%)            149209 non-null  float64       \n",
            " 23  UL TP > 300 Kbps (%)                      149209 non-null  float64       \n",
            " 24  HTTP DL (Bytes)                           68527 non-null   float64       \n",
            " 25  HTTP UL (Bytes)                           68191 non-null   float64       \n",
            " 26  Activity Duration DL (ms)                 150000 non-null  float64       \n",
            " 27  Activity Duration UL (ms)                 150000 non-null  float64       \n",
            " 28  Dur. (ms).1                               150001 non-null  float64       \n",
            " 29  Handset Manufacturer                      149429 non-null  object        \n",
            " 30  Handset Type                              149429 non-null  object        \n",
            " 31  Nb of sec with 125000B < Vol DL           52463 non-null   float64       \n",
            " 32  Nb of sec with 1250B < Vol UL < 6250B     57107 non-null   float64       \n",
            " 33  Nb of sec with 31250B < Vol DL < 125000B  56415 non-null   float64       \n",
            " 34  Nb of sec with 37500B < Vol UL            19747 non-null   float64       \n",
            " 35  Nb of sec with 6250B < Vol DL < 31250B    61684 non-null   float64       \n",
            " 36  Nb of sec with 6250B < Vol UL < 37500B    38158 non-null   float64       \n",
            " 37  Nb of sec with Vol DL < 6250B             149246 non-null  float64       \n",
            " 38  Nb of sec with Vol UL < 1250B             149208 non-null  float64       \n",
            " 39  Social Media DL (Bytes)                   150001 non-null  float64       \n",
            " 40  Social Media UL (Bytes)                   150001 non-null  float64       \n",
            " 41  Google DL (Bytes)                         150001 non-null  float64       \n",
            " 42  Google UL (Bytes)                         150001 non-null  float64       \n",
            " 43  Email DL (Bytes)                          150001 non-null  float64       \n",
            " 44  Email UL (Bytes)                          150001 non-null  float64       \n",
            " 45  Youtube DL (Bytes)                        150001 non-null  float64       \n",
            " 46  Youtube UL (Bytes)                        150001 non-null  float64       \n",
            " 47  Netflix DL (Bytes)                        150001 non-null  float64       \n",
            " 48  Netflix UL (Bytes)                        150001 non-null  float64       \n",
            " 49  Gaming DL (Bytes)                         150001 non-null  float64       \n",
            " 50  Gaming UL (Bytes)                         150001 non-null  float64       \n",
            " 51  Other DL (Bytes)                          150001 non-null  float64       \n",
            " 52  Other UL (Bytes)                          150001 non-null  float64       \n",
            " 53  Total UL (Bytes)                          150000 non-null  float64       \n",
            " 54  Total DL (Bytes)                          150000 non-null  float64       \n",
            " 55  total_social                              150001 non-null  float64       \n",
            " 56  total DL_UL data                          150000 non-null  float64       \n",
            " 57  total_netflix                             150001 non-null  float64       \n",
            " 58  total_email                               150001 non-null  float64       \n",
            " 59  total_gaming                              150001 non-null  float64       \n",
            " 60  total_google                              150001 non-null  float64       \n",
            " 61  total_youtube                             150001 non-null  float64       \n",
            "dtypes: datetime64[ns](2), float64(56), object(4)\n",
            "memory usage: 71.0+ MB\n"
          ],
          "name": "stdout"
        }
      ]
    },
    {
      "cell_type": "code",
      "metadata": {
        "id": "oYVvVCG-WYWA",
        "colab_type": "code",
        "colab": {
          "base_uri": "https://localhost:8080/",
          "height": 225
        },
        "outputId": "37aa319c-c085-432c-c8f0-6383c9be7252"
      },
      "source": [
        "df2.dtypes"
      ],
      "execution_count": 100,
      "outputs": [
        {
          "output_type": "execute_result",
          "data": {
            "text/plain": [
              "Bearer Id                object\n",
              "Start            datetime64[ns]\n",
              "Start ms                float64\n",
              "End              datetime64[ns]\n",
              "End ms                  float64\n",
              "                      ...      \n",
              "total_netflix           float64\n",
              "total_email             float64\n",
              "total_gaming            float64\n",
              "total_google            float64\n",
              "total_youtube           float64\n",
              "Length: 62, dtype: object"
            ]
          },
          "metadata": {
            "tags": []
          },
          "execution_count": 100
        }
      ]
    },
    {
      "cell_type": "code",
      "metadata": {
        "id": "_G3KUesigSGl",
        "colab_type": "code",
        "colab": {
          "base_uri": "https://localhost:8080/",
          "height": 225
        },
        "outputId": "3d3d673c-e6b9-4483-b764-9ab16b0a5d30"
      },
      "source": [
        "df2[\"Handset Manufacturer\"].value_counts()"
      ],
      "execution_count": 112,
      "outputs": [
        {
          "output_type": "execute_result",
          "data": {
            "text/plain": [
              "Apple                                            59565\n",
              "Samsung                                          40839\n",
              "Huawei                                           34423\n",
              "undefined                                         8987\n",
              "Sony Mobile Communications Ab                      980\n",
              "                                                 ...  \n",
              "Shenzhen Sprocomm Technologies Co Ltd                1\n",
              "Adar                                                 1\n",
              "Shenzhen City Ramos Digital Technology Co Ltd        1\n",
              "Shenzhen New Chabridge Communication Co Ltd          1\n",
              "Shenzhen Jsr Technology Co Ltd                       1\n",
              "Name: Handset Manufacturer, Length: 170, dtype: int64"
            ]
          },
          "metadata": {
            "tags": []
          },
          "execution_count": 112
        }
      ]
    },
    {
      "cell_type": "code",
      "metadata": {
        "id": "PwvKAHIQkqkD",
        "colab_type": "code",
        "colab": {
          "base_uri": "https://localhost:8080/",
          "height": 225
        },
        "outputId": "b663e6c8-9148-4773-fb40-9f9654b8e56c"
      },
      "source": [
        "df2[\"Handset Type\"].value_counts()"
      ],
      "execution_count": 113,
      "outputs": [
        {
          "output_type": "execute_result",
          "data": {
            "text/plain": [
              "Huawei B528S-23A                           19752\n",
              "Apple iPhone 6S (A1688)                     9419\n",
              "Apple iPhone 6 (A1586)                      9023\n",
              "undefined                                   8987\n",
              "Apple iPhone 7 (A1778)                      6326\n",
              "                                           ...  \n",
              "Gemalto M2M Gmbh Cinterion Ehs5-E              1\n",
              "Tct Mobile Suzho. Alcatel One Touch 997        1\n",
              "Shenzhen Sprocom. Fly Iq4490                   1\n",
              "Sony Mobile Comm. Sony C5303 -Xperia Sp        1\n",
              "Htc 2Q6E100                                    1\n",
              "Name: Handset Type, Length: 1396, dtype: int64"
            ]
          },
          "metadata": {
            "tags": []
          },
          "execution_count": 113
        }
      ]
    },
    {
      "cell_type": "code",
      "metadata": {
        "id": "G1EeDNa7kyGA",
        "colab_type": "code",
        "colab": {}
      },
      "source": [
        "df2[\"MSISDN/Number\"].fillna(df2[\"MSISDN/Number\"].mean(), inplace=True)"
      ],
      "execution_count": 14,
      "outputs": []
    },
    {
      "cell_type": "code",
      "metadata": {
        "id": "1ywbL7h4B1uo",
        "colab_type": "code",
        "colab": {}
      },
      "source": [
        "df2[\"Avg RTT DL (ms)\"].fillna(df2[\"Avg RTT DL (ms)\"].median(), inplace=True)\n",
        "df2['Avg RTT UL (ms)'].fillna(df2['Avg RTT UL (ms)'].median(), inplace=True)\n",
        "df2['Avg Bearer TP UL (kbps)'].fillna(df2['Avg Bearer TP UL (kbps)'].median(), inplace=True)\n",
        "df2['Avg Bearer TP DL (kbps)'].fillna(df2['Avg Bearer TP DL (kbps)'].median(), inplace=True)"
      ],
      "execution_count": 72,
      "outputs": []
    },
    {
      "cell_type": "code",
      "metadata": {
        "id": "5Jku2-VslWnt",
        "colab_type": "code",
        "colab": {
          "base_uri": "https://localhost:8080/",
          "height": 277
        },
        "outputId": "506c4fd5-31c2-4153-f706-17ceda666896"
      },
      "source": [
        "#Task 1.1\n",
        "#Number of xDR session\n",
        "Number_of_xDR_session = df2.groupby([\"MSISDN/Number\"]).agg({'Bearer Id':'count'})\n",
        "print(Number_of_xDR_session)\n"
      ],
      "execution_count": 73,
      "outputs": [
        {
          "output_type": "stream",
          "text": [
            "               Bearer Id\n",
            "MSISDN/Number           \n",
            "3.360100e+10           1\n",
            "3.360100e+10           1\n",
            "3.360100e+10           1\n",
            "3.360101e+10           1\n",
            "3.360101e+10           2\n",
            "...                  ...\n",
            "3.379000e+10           1\n",
            "4.188282e+10        1066\n",
            "3.197021e+12           1\n",
            "3.370000e+14           1\n",
            "8.823971e+14           1\n",
            "\n",
            "[106857 rows x 1 columns]\n"
          ],
          "name": "stdout"
        }
      ]
    },
    {
      "cell_type": "code",
      "metadata": {
        "id": "qW5Gn77dHEKl",
        "colab_type": "code",
        "colab": {
          "base_uri": "https://localhost:8080/",
          "height": 282
        },
        "outputId": "d2d78535-7aa7-460c-d715-69e96b976cbd"
      },
      "source": [
        "#\n",
        "Number_of_xDR_session.boxplot()"
      ],
      "execution_count": 114,
      "outputs": [
        {
          "output_type": "execute_result",
          "data": {
            "text/plain": [
              "<matplotlib.axes._subplots.AxesSubplot at 0x7f76c8cca2e8>"
            ]
          },
          "metadata": {
            "tags": []
          },
          "execution_count": 114
        },
        {
          "output_type": "display_data",
          "data": {
            "image/png": "[encoded data removed]",
            "text/plain": [
              "<Figure size 432x288 with 1 Axes>"
            ]
          },
          "metadata": {
            "tags": []
          }
        }
      ]
    },
    {
      "cell_type": "code",
      "metadata": {
        "id": "u0LRO9anmkmr",
        "colab_type": "code",
        "colab": {
          "base_uri": "https://localhost:8080/",
          "height": 277
        },
        "outputId": "c0aaefc5-284b-4a97-a9a6-346f4ae795fc"
      },
      "source": [
        "#session duration\n",
        "df2[\"Dur. (ms).1\"].fillna(df2[\"Dur. (ms).1\"].mean(), inplace=True)\n",
        "df2['Dur. (ms).1'].isnull().sum()\n",
        "session_duration = df2.groupby([\"MSISDN/Number\"]).agg({'Dur. (ms).1':'sum'})\n",
        "print(session_duration)"
      ],
      "execution_count": 103,
      "outputs": [
        {
          "output_type": "stream",
          "text": [
            "                Dur. (ms).1\n",
            "MSISDN/Number              \n",
            "3.360100e+10   1.167201e+08\n",
            "3.360100e+10   1.812310e+08\n",
            "3.360100e+10   1.349694e+08\n",
            "3.360101e+10   4.987802e+07\n",
            "3.360101e+10   3.710445e+07\n",
            "...                     ...\n",
            "3.379000e+10   1.409887e+08\n",
            "4.188282e+10   7.255155e+10\n",
            "3.197021e+12   8.773853e+08\n",
            "3.370000e+14   2.530302e+08\n",
            "8.823971e+14   8.698442e+08\n",
            "\n",
            "[106857 rows x 1 columns]\n"
          ],
          "name": "stdout"
        }
      ]
    },
    {
      "cell_type": "code",
      "metadata": {
        "id": "vZ4oH_r3nRj-",
        "colab_type": "code",
        "colab": {}
      },
      "source": [
        "df2['total DL_UL data'] = df2['Total UL (Bytes)']+df2[\"Total DL (Bytes)\"]\n"
      ],
      "execution_count": 41,
      "outputs": []
    },
    {
      "cell_type": "code",
      "metadata": {
        "id": "f071J8y3onbf",
        "colab_type": "code",
        "colab": {}
      },
      "source": [
        "df2[\"total_social\"]=df2[\"Social Media DL (Bytes)\"]+df2[\"Social Media UL (Bytes)\"]\n",
        "df2[\"total_netflix\"]=df2['Netflix DL (Bytes)']+df2['Netflix UL (Bytes)']\n",
        "df2[\"total_email\"]=df2['Email DL (Bytes)']+df2['Email UL (Bytes)']\n",
        "df2['total_gaming']=df2['Gaming DL (Bytes)']+df2['Gaming UL (Bytes)']\n",
        "df2['total_google']=df2['Google DL (Bytes)']+df2['Google UL (Bytes)']\n",
        "df2['total_youtube']=df2['Youtube DL (Bytes)']+df2['Youtube UL (Bytes)']"
      ],
      "execution_count": 42,
      "outputs": []
    },
    {
      "cell_type": "code",
      "metadata": {
        "id": "0kjATx2Don1j",
        "colab_type": "code",
        "colab": {
          "base_uri": "https://localhost:8080/",
          "height": 277
        },
        "outputId": "f21f2855-d461-450f-de07-7002190fa32c"
      },
      "source": [
        "d_f=df2.pivot_table(index=\"MSISDN/Number\", values=['total_gaming','total_google','total_youtube','total_social','total_email','total_netflix','total DL_UL data'], aggfunc='sum')\n",
        "print(d_f)"
      ],
      "execution_count": 83,
      "outputs": [
        {
          "output_type": "stream",
          "text": [
            "               total DL_UL data   total_email  ...  total_social  total_youtube\n",
            "MSISDN/Number                                  ...                             \n",
            "3.360100e+10       8.786906e+08  1.331362e+06  ...  2.232135e+06   2.162455e+07\n",
            "3.360100e+10       1.568596e+08  3.307781e+06  ...  2.660565e+06   1.243222e+07\n",
            "3.360100e+10       5.959665e+08  3.205380e+06  ...  3.195623e+06   2.133357e+07\n",
            "3.360101e+10       4.223207e+08  2.284670e+06  ...  2.802940e+05   6.977321e+06\n",
            "3.360101e+10       1.457411e+09  3.305469e+06  ...  2.912542e+06   4.153300e+07\n",
            "...                         ...           ...  ...           ...            ...\n",
            "3.379000e+10       4.803073e+08  2.514097e+06  ...  4.985690e+05   1.985157e+07\n",
            "4.188282e+10       5.312489e+11  2.399880e+09  ...  1.973817e+09   2.434073e+10\n",
            "3.197021e+12       2.321240e+08  1.520771e+06  ...  7.152240e+05   1.195990e+07\n",
            "3.370000e+14       5.962878e+08  3.318582e+06  ...  5.215660e+05   3.673494e+07\n",
            "8.823971e+14       1.391536e+08  3.330974e+06  ...  1.546088e+06   4.094071e+07\n",
            "\n",
            "[106857 rows x 7 columns]\n"
          ],
          "name": "stdout"
        }
      ]
    },
    {
      "cell_type": "code",
      "metadata": {
        "id": "jgLL_JZ1ZANu",
        "colab_type": "code",
        "colab": {
          "base_uri": "https://localhost:8080/",
          "height": 416
        },
        "outputId": "a53a0003-9700-4147-b4bf-a4688fb48f52"
      },
      "source": [
        "\n",
        "df_new = pd.concat([d_f,Number_of_xDR_session,session_duration], axis=1)\n",
        "print(df_new.head())"
      ],
      "execution_count": 110,
      "outputs": [
        {
          "output_type": "stream",
          "text": [
            "               total DL_UL data  total_email  total_gaming  total_google  \\\n",
            "MSISDN/Number                                                              \n",
            "3.360100e+10       8.786906e+08    1331362.0  8.124587e+08     4389005.0   \n",
            "3.360100e+10       1.568596e+08    3307781.0  1.197501e+08     5334863.0   \n",
            "3.360100e+10       5.959665e+08    3205380.0  5.388277e+08     3443126.0   \n",
            "3.360101e+10       4.223207e+08    2284670.0  3.911261e+08     9678493.0   \n",
            "3.360101e+10       1.457411e+09    3305469.0  1.314798e+09    18499616.0   \n",
            "\n",
            "               total_netflix  total_social  total_youtube  Bearer Id  \\\n",
            "MSISDN/Number                                                          \n",
            "3.360100e+10      27180981.0     2232135.0     21624548.0          1   \n",
            "3.360100e+10      11221763.0     2660565.0     12432223.0          1   \n",
            "3.360100e+10      19353900.0     3195623.0     21333570.0          1   \n",
            "3.360101e+10       1942092.0      280294.0      6977321.0          1   \n",
            "3.360101e+10      49201724.0     2912542.0     41533002.0          2   \n",
            "\n",
            "               Dur. (ms).1  \n",
            "MSISDN/Number               \n",
            "3.360100e+10   116720140.0  \n",
            "3.360100e+10   181230963.0  \n",
            "3.360100e+10   134969374.0  \n",
            "3.360101e+10    49878024.0  \n",
            "3.360101e+10    37104453.0  \n"
          ],
          "name": "stdout"
        }
      ]
    },
    {
      "cell_type": "code",
      "metadata": {
        "id": "AZzMV56mJNLQ",
        "colab_type": "code",
        "colab": {
          "base_uri": "https://localhost:8080/",
          "height": 294
        },
        "outputId": "7e73bdf4-5b91-40bc-d645-a4bd1324bb76"
      },
      "source": [
        "df_new.describe()"
      ],
      "execution_count": 111,
      "outputs": [
        {
          "output_type": "execute_result",
          "data": {
            "text/html": [
              "<div>\n",
              "<style scoped>\n",
              "    .dataframe tbody tr th:only-of-type {\n",
              "        vertical-align: middle;\n",
              "    }\n",
              "\n",
              "    .dataframe tbody tr th {\n",
              "        vertical-align: top;\n",
              "    }\n",
              "\n",
              "    .dataframe thead th {\n",
              "        text-align: right;\n",
              "    }\n",
              "</style>\n",
              "<table border=\"1\" class=\"dataframe\">\n",
              "  <thead>\n",
              "    <tr style=\"text-align: right;\">\n",
              "      <th></th>\n",
              "      <th>total DL_UL data</th>\n",
              "      <th>total_email</th>\n",
              "      <th>total_gaming</th>\n",
              "      <th>total_google</th>\n",
              "      <th>total_netflix</th>\n",
              "      <th>total_social</th>\n",
              "      <th>total_youtube</th>\n",
              "      <th>Bearer Id</th>\n",
              "      <th>Dur. (ms).1</th>\n",
              "    </tr>\n",
              "  </thead>\n",
              "  <tbody>\n",
              "    <tr>\n",
              "      <th>count</th>\n",
              "      <td>1.068570e+05</td>\n",
              "      <td>1.068570e+05</td>\n",
              "      <td>1.068570e+05</td>\n",
              "      <td>1.068570e+05</td>\n",
              "      <td>1.068570e+05</td>\n",
              "      <td>1.068570e+05</td>\n",
              "      <td>1.068570e+05</td>\n",
              "      <td>106857.000000</td>\n",
              "      <td>1.068570e+05</td>\n",
              "    </tr>\n",
              "    <tr>\n",
              "      <th>mean</th>\n",
              "      <td>6.959272e+08</td>\n",
              "      <td>3.171225e+06</td>\n",
              "      <td>6.040820e+08</td>\n",
              "      <td>1.095953e+07</td>\n",
              "      <td>3.176501e+07</td>\n",
              "      <td>2.566415e+06</td>\n",
              "      <td>3.178589e+07</td>\n",
              "      <td>1.403755</td>\n",
              "      <td>1.468455e+08</td>\n",
              "    </tr>\n",
              "    <tr>\n",
              "      <th>std</th>\n",
              "      <td>1.695706e+09</td>\n",
              "      <td>7.661339e+06</td>\n",
              "      <td>1.479703e+09</td>\n",
              "      <td>2.630542e+07</td>\n",
              "      <td>7.709618e+07</td>\n",
              "      <td>6.325032e+06</td>\n",
              "      <td>7.735388e+07</td>\n",
              "      <td>3.355032</td>\n",
              "      <td>2.894660e+08</td>\n",
              "    </tr>\n",
              "    <tr>\n",
              "      <th>min</th>\n",
              "      <td>3.324901e+07</td>\n",
              "      <td>1.817600e+04</td>\n",
              "      <td>3.063580e+05</td>\n",
              "      <td>4.033000e+04</td>\n",
              "      <td>1.845690e+05</td>\n",
              "      <td>1.563000e+03</td>\n",
              "      <td>7.890300e+04</td>\n",
              "      <td>1.000000</td>\n",
              "      <td>7.142988e+06</td>\n",
              "    </tr>\n",
              "    <tr>\n",
              "      <th>25%</th>\n",
              "      <td>3.585530e+08</td>\n",
              "      <td>1.674484e+06</td>\n",
              "      <td>2.880666e+08</td>\n",
              "      <td>5.942683e+06</td>\n",
              "      <td>1.855607e+07</td>\n",
              "      <td>1.211309e+06</td>\n",
              "      <td>1.863145e+07</td>\n",
              "      <td>1.000000</td>\n",
              "      <td>7.130922e+07</td>\n",
              "    </tr>\n",
              "    <tr>\n",
              "      <th>50%</th>\n",
              "      <td>6.179232e+08</td>\n",
              "      <td>2.799854e+06</td>\n",
              "      <td>5.423501e+08</td>\n",
              "      <td>9.586186e+06</td>\n",
              "      <td>2.671955e+07</td>\n",
              "      <td>2.303811e+06</td>\n",
              "      <td>2.680040e+07</td>\n",
              "      <td>1.000000</td>\n",
              "      <td>1.027413e+08</td>\n",
              "    </tr>\n",
              "    <tr>\n",
              "      <th>75%</th>\n",
              "      <td>8.574358e+08</td>\n",
              "      <td>3.847205e+06</td>\n",
              "      <td>7.773115e+08</td>\n",
              "      <td>1.321496e+07</td>\n",
              "      <td>3.797722e+07</td>\n",
              "      <td>3.307524e+06</td>\n",
              "      <td>3.792829e+07</td>\n",
              "      <td>2.000000</td>\n",
              "      <td>1.728000e+08</td>\n",
              "    </tr>\n",
              "    <tr>\n",
              "      <th>max</th>\n",
              "      <td>5.312489e+11</td>\n",
              "      <td>2.399880e+09</td>\n",
              "      <td>4.614780e+11</td>\n",
              "      <td>8.248577e+09</td>\n",
              "      <td>2.425357e+10</td>\n",
              "      <td>1.973817e+09</td>\n",
              "      <td>2.434073e+10</td>\n",
              "      <td>1066.000000</td>\n",
              "      <td>7.255155e+10</td>\n",
              "    </tr>\n",
              "  </tbody>\n",
              "</table>\n",
              "</div>"
            ],
            "text/plain": [
              "       total DL_UL data   total_email  total_gaming  total_google  \\\n",
              "count      1.068570e+05  1.068570e+05  1.068570e+05  1.068570e+05   \n",
              "mean       6.959272e+08  3.171225e+06  6.040820e+08  1.095953e+07   \n",
              "std        1.695706e+09  7.661339e+06  1.479703e+09  2.630542e+07   \n",
              "min        3.324901e+07  1.817600e+04  3.063580e+05  4.033000e+04   \n",
              "25%        3.585530e+08  1.674484e+06  2.880666e+08  5.942683e+06   \n",
              "50%        6.179232e+08  2.799854e+06  5.423501e+08  9.586186e+06   \n",
              "75%        8.574358e+08  3.847205e+06  7.773115e+08  1.321496e+07   \n",
              "max        5.312489e+11  2.399880e+09  4.614780e+11  8.248577e+09   \n",
              "\n",
              "       total_netflix  total_social  total_youtube      Bearer Id   Dur. (ms).1  \n",
              "count   1.068570e+05  1.068570e+05   1.068570e+05  106857.000000  1.068570e+05  \n",
              "mean    3.176501e+07  2.566415e+06   3.178589e+07       1.403755  1.468455e+08  \n",
              "std     7.709618e+07  6.325032e+06   7.735388e+07       3.355032  2.894660e+08  \n",
              "min     1.845690e+05  1.563000e+03   7.890300e+04       1.000000  7.142988e+06  \n",
              "25%     1.855607e+07  1.211309e+06   1.863145e+07       1.000000  7.130922e+07  \n",
              "50%     2.671955e+07  2.303811e+06   2.680040e+07       1.000000  1.027413e+08  \n",
              "75%     3.797722e+07  3.307524e+06   3.792829e+07       2.000000  1.728000e+08  \n",
              "max     2.425357e+10  1.973817e+09   2.434073e+10    1066.000000  7.255155e+10  "
            ]
          },
          "metadata": {
            "tags": []
          },
          "execution_count": 111
        }
      ]
    },
    {
      "cell_type": "code",
      "metadata": {
        "id": "qkdiAFkBd13J",
        "colab_type": "code",
        "colab": {}
      },
      "source": [
        "df_new['Bearer Id']."
      ],
      "execution_count": null,
      "outputs": []
    },
    {
      "cell_type": "code",
      "metadata": {
        "id": "5xvYXtRoolpt",
        "colab_type": "code",
        "colab": {
          "base_uri": "https://localhost:8080/",
          "height": 280
        },
        "outputId": "9b03db36-b2c5-40c4-8021-b3c94812080e"
      },
      "source": [
        "#graphical Univariante Analysis\n",
        "import seaborn as sns\n",
        "#sns.set_style(\"dark\")\n",
        "\n",
        "\n",
        "\n",
        "sns.set_style(\"whitegrid\")\n",
        "ax = sns.boxplot(x=\"total_social\", data=df_new)\n",
        "#df2.boxplot(column='Avg RTT DL (ms)')\n",
        "plt.show()"
      ],
      "execution_count": 125,
      "outputs": [
        {
          "output_type": "display_data",
          "data": {
            "image/png": "[encoded data removed]",
            "text/plain": [
              "<Figure size 432x288 with 1 Axes>"
            ]
          },
          "metadata": {
            "tags": []
          }
        }
      ]
    },
    {
      "cell_type": "code",
      "metadata": {
        "id": "lKD1xDNP9YLe",
        "colab_type": "code",
        "colab": {
          "base_uri": "https://localhost:8080/",
          "height": 369
        },
        "outputId": "83477dc0-44e0-4457-b6ce-414b38218b34"
      },
      "source": [
        "#graphical Univariante Analysis\n",
        "import seaborn as sns\n",
        "sns.set_style(\"dark\")\n",
        "sns.catplot(y='Avg RTT DL (ms)',data=df2,kind='box')\n",
        "\n",
        "#df2.boxplot(column='Avg RTT DL (ms)')\n",
        "plt.show()\n"
      ],
      "execution_count": 69,
      "outputs": [
        {
          "output_type": "display_data",
          "data": {
            "image/png": "[encoded data removed]",
            "text/plain": [
              "<Figure size 360x360 with 1 Axes>"
            ]
          },
          "metadata": {
            "tags": []
          }
        }
      ]
    },
    {
      "cell_type": "code",
      "metadata": {
        "id": "ia1Rdn9RAayN",
        "colab_type": "code",
        "colab": {}
      },
      "source": [
        ""
      ],
      "execution_count": null,
      "outputs": []
    },
    {
      "cell_type": "code",
      "metadata": {
        "id": "X-3w9iGH9YZj",
        "colab_type": "code",
        "colab": {}
      },
      "source": [
        ""
      ],
      "execution_count": null,
      "outputs": []
    },
    {
      "cell_type": "code",
      "metadata": {
        "id": "gO1hKhkn1NeB",
        "colab_type": "code",
        "colab": {
          "base_uri": "https://localhost:8080/",
          "height": 721
        },
        "outputId": "9b931200-542b-4d6c-8676-c71cf4265d8c"
      },
      "source": [
        "import seaborn as sns\n",
        "sns.relplot(x='total_email',y='total DL_UL data', data=df2, kind=\"scatter\")\n",
        "sns.relplot(x='Bearer Id',y='total DL_UL data', data=df_new, kind=\"scatter\")\n",
        "\n",
        "plt.show()"
      ],
      "execution_count": 121,
      "outputs": [
        {
          "output_type": "display_data",
          "data": {
            "image/png": "[encoded data removed]",
            "text/plain": [
              "<Figure size 360x360 with 1 Axes>"
            ]
          },
          "metadata": {
            "tags": []
          }
        },
        {
          "output_type": "display_data",
          "data": {
            "image/png": "[encoded data removed]",
            "text/plain": [
              "<Figure size 360x360 with 1 Axes>"
            ]
          },
          "metadata": {
            "tags": []
          }
        }
      ]
    }
  ]
}