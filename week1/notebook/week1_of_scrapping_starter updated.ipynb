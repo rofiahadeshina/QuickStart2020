{
 "cells": [
  {
   "cell_type": "markdown",
   "metadata": {
    "colab_type": "text",
    "id": "E2OWGGBmGobX"
   },
   "source": [
    "## Web scrapping using python\n",
    "\n",
    "#### References\n",
    "1. [Practical Introduction to Web Scraping in Python](https://realpython.com/python-web-scraping-practical-introduction/)\n",
    "2. [Web Scraping using Python](https://www.datacamp.com/community/tutorials/web-scraping-using-python)"
   ]
  },
  {
   "cell_type": "code",
   "execution_count": 1,
   "metadata": {
    "colab": {},
    "colab_type": "code",
    "executionInfo": {
     "elapsed": 8334,
     "status": "ok",
     "timestamp": 1595184492727,
     "user": {
      "displayName": "Rofiah Adeshina",
      "photoUrl": "",
      "userId": "16819728728819546989"
     },
     "user_tz": -60
    },
    "id": "E94qQfZtGobd"
   },
   "outputs": [],
   "source": [
    "# $ python3 -m venv venv\n",
    "# $ . ./venv/bin/activate"
   ]
  },
  {
   "cell_type": "code",
   "execution_count": 2,
   "metadata": {
    "colab": {},
    "colab_type": "code",
    "executionInfo": {
     "elapsed": 8042,
     "status": "ok",
     "timestamp": 1595184492731,
     "user": {
      "displayName": "Rofiah Adeshina",
      "photoUrl": "",
      "userId": "16819728728819546989"
     },
     "user_tz": -60
    },
    "id": "mY-a7L90Gob1"
   },
   "outputs": [],
   "source": [
    "#!pip install --upgrade pip"
   ]
  },
  {
   "cell_type": "code",
   "execution_count": 3,
   "metadata": {
    "colab": {
     "base_uri": "https://localhost:8080/",
     "height": 163
    },
    "colab_type": "code",
    "executionInfo": {
     "elapsed": 24367,
     "status": "ok",
     "timestamp": 1595184510289,
     "user": {
      "displayName": "Rofiah Adeshina",
      "photoUrl": "",
      "userId": "16819728728819546989"
     },
     "user_tz": -60
    },
    "id": "V5IbSjYnGocI",
    "outputId": "06c0951c-dd36-4ed1-b6d4-92c661c1b845"
   },
   "outputs": [
    {
     "name": "stdout",
     "output_type": "stream",
     "text": [
      "Requirement already satisfied: requests in c:\\users\\hp\\anaconda3\\lib\\site-packages (2.22.0)\n",
      "Requirement already satisfied: BeautifulSoup4 in c:\\users\\hp\\anaconda3\\lib\\site-packages (4.7.1)\n",
      "Requirement already satisfied: fire in c:\\users\\hp\\anaconda3\\lib\\site-packages (0.3.1)\n",
      "Requirement already satisfied: idna<2.9,>=2.5 in c:\\users\\hp\\anaconda3\\lib\\site-packages (from requests) (2.8)\n",
      "Requirement already satisfied: certifi>=2017.4.17 in c:\\users\\hp\\anaconda3\\lib\\site-packages (from requests) (2019.6.16)\n",
      "Requirement already satisfied: chardet<3.1.0,>=3.0.2 in c:\\users\\hp\\anaconda3\\lib\\site-packages (from requests) (3.0.4)\n",
      "Requirement already satisfied: urllib3!=1.25.0,!=1.25.1,<1.26,>=1.21.1 in c:\\users\\hp\\anaconda3\\lib\\site-packages (from requests) (1.24.2)\n",
      "Requirement already satisfied: soupsieve>=1.2 in c:\\users\\hp\\anaconda3\\lib\\site-packages (from BeautifulSoup4) (1.8)\n",
      "Requirement already satisfied: termcolor in c:\\users\\hp\\anaconda3\\lib\\site-packages (from fire) (1.1.0)\n",
      "Requirement already satisfied: six in c:\\users\\hp\\anaconda3\\lib\\site-packages (from fire) (1.12.0)\n"
     ]
    }
   ],
   "source": [
    "#Better\n",
    "!pip install requests BeautifulSoup4 fire\n"
   ]
  },
  {
   "cell_type": "code",
   "execution_count": 1,
   "metadata": {
    "colab": {},
    "colab_type": "code",
    "executionInfo": {
     "elapsed": 24279,
     "status": "ok",
     "timestamp": 1595184510297,
     "user": {
      "displayName": "Rofiah Adeshina",
      "photoUrl": "",
      "userId": "16819728728819546989"
     },
     "user_tz": -60
    },
    "id": "YX2X8cCBGocb"
   },
   "outputs": [],
   "source": [
    "from requests import get\n",
    "from requests.exceptions import RequestException\n",
    "from contextlib import closing\n",
    "from bs4 import BeautifulSoup\n",
    "import pandas as pd\n",
    "import os, sys\n",
    "\n",
    "import fire"
   ]
  },
  {
   "cell_type": "code",
   "execution_count": 2,
   "metadata": {
    "colab": {},
    "colab_type": "code",
    "executionInfo": {
     "elapsed": 24288,
     "status": "ok",
     "timestamp": 1595184510332,
     "user": {
      "displayName": "Rofiah Adeshina",
      "photoUrl": "",
      "userId": "16819728728819546989"
     },
     "user_tz": -60
    },
    "id": "E7NxE2cDGocu"
   },
   "outputs": [],
   "source": [
    "#%%writefile ../pyscrap_url.py\n",
    "\n",
    "def simple_get(url):\n",
    "    \"\"\"\n",
    "    Attempts to get the content at `url` by making an HTTP GET request.\n",
    "    If the content-type of response is some kind of HTML/XML, return the\n",
    "    text content, otherwise return None.\n",
    "    \"\"\"\n",
    "    try:\n",
    "        with closing(get(url, stream=True)) as resp:\n",
    "            if is_good_response(resp):\n",
    "                return resp.content  #.encode(BeautifulSoup.original_encoding)\n",
    "            else:\n",
    "                return None\n",
    "\n",
    "    except RequestException as e:\n",
    "        log_error('Error during requests to {0} : {1}'.format(url, str(e)))\n",
    "        return None\n",
    "\n",
    "\n",
    "def is_good_response(resp):\n",
    "    \"\"\"\n",
    "    Returns True if the response seems to be HTML, False otherwise.\n",
    "    \"\"\"\n",
    "    content_type = resp.headers['Content-Type'].lower()\n",
    "    return (resp.status_code == 200 \n",
    "            and content_type is not None \n",
    "            and content_type.find('html') > -1)\n",
    "\n",
    "\n",
    "def log_error(e):\n",
    "    \"\"\"\n",
    "    It is always a good idea to log errors. \n",
    "    This function just prints them, but you can\n",
    "    make it do anything.\n",
    "    \"\"\"\n",
    "    print(e)\n",
    "    \n",
    "def get_elements(url, tag='',search={}, fname=None):\n",
    "    \"\"\"\n",
    "    Downloads a page specified by the url parameter\n",
    "    and returns a list of strings, one per tag element\n",
    "    \"\"\"\n",
    "    \n",
    "    if isinstance(url,str):\n",
    "        response = simple_get(url)\n",
    "    else:\n",
    "        #if already it is a loaded html page\n",
    "        response = url\n",
    "\n",
    "    if response is not None:\n",
    "        html = BeautifulSoup(response, 'html.parser')\n",
    "        \n",
    "        res = []\n",
    "        if tag:    \n",
    "            for li in html.select(tag):\n",
    "                for name in li.text.split('\\n'):\n",
    "                    if len(name) > 0:\n",
    "                        res.append(name.strip())\n",
    "                       \n",
    "                \n",
    "        if search:\n",
    "            soup = html            \n",
    "            \n",
    "            \n",
    "            r = ''\n",
    "            if 'find' in search.keys():\n",
    "                print('findaing',search['find'])\n",
    "                soup = soup.find(**search['find'])\n",
    "                r = soup\n",
    "\n",
    "                \n",
    "            if 'find_all' in search.keys():\n",
    "                print('findaing all of',search['find_all'])\n",
    "                r = soup.find_all(**search['find_all'])\n",
    "   \n",
    "            if r:\n",
    "                for x in list(r):\n",
    "                    if len(x) > 0:\n",
    "                        res.extend(x)\n",
    "            \n",
    "        return res\n",
    "\n",
    "    # Raise an exception if we failed to get any data from the url\n",
    "    raise Exception('Error retrieving contents at {}'.format(url))    \n",
    "    \n",
    "    \n",
    "if get_ipython().__class__.__name__ == '__main__':\n",
    "    fire(get_tag_elements)"
   ]
  },
  {
   "cell_type": "code",
   "execution_count": 3,
   "metadata": {
    "colab": {},
    "colab_type": "code",
    "executionInfo": {
     "elapsed": 26156,
     "status": "ok",
     "timestamp": 1595184512230,
     "user": {
      "displayName": "Rofiah Adeshina",
      "photoUrl": "",
      "userId": "16819728728819546989"
     },
     "user_tz": -60
    },
    "id": "GnXh6DcnGoc8"
   },
   "outputs": [],
   "source": [
    "res = get_elements('https://africafreak.com/100-most-influential-twitter-users-in-africa', tag='h2')\n",
    "\n"
   ]
  },
  {
   "cell_type": "code",
   "execution_count": 37,
   "metadata": {
    "colab": {},
    "colab_type": "code",
    "executionInfo": {
     "elapsed": 1149,
     "status": "ok",
     "timestamp": 1595184576463,
     "user": {
      "displayName": "Rofiah Adeshina",
      "photoUrl": "",
      "userId": "16819728728819546989"
     },
     "user_tz": -60
    },
    "id": "rrIUJ4kPGodc"
   },
   "outputs": [
    {
     "name": "stdout",
     "output_type": "stream",
     "text": [
      "['@gettleman', '@a24media', '@andiMakinana', '@AfricaCheck', '@JamesCopnall', '@oafrica', '@PatrickNgowi', '@StateAfrica', '@Moadow', '@BrendanSAfrica', '@CityTshwane', '@VISI_Mag', '@ThisIsAfricaTIA', '@sarzss', '@TheEIU_Africa', '@InvestInAfrica', '@malonebarry', '@artsouthafrica', '@KahnMorbee', '@JamalMOsman', '@iamsuede', '@mikestopforth', '@equal_education', '@t_mcconnell', '@forbeesta', '@jaxpanik', '@thisisafrica', '@audisouthafrica', '@ONEinAfrica', '@Hamza_Africa', '@africatechie', '@cx73', '@ayittey', '@MercedesBenz_SA', '@africagathering', '@okayafrica', '@mary_harper', '@savetherhino', '@africamedia_CPJ', '@TechCentral', '@GautengProvince', '@Aynte', '@daniel_howden', '@rangerdiaries', '@TheStar_news', '@Afrinnovator', '@theafricareport', '@CityofJoburgZA', '@ThinkAfricaFeed', '@AfricaGoodNews', '@willintune', '@cnbcafrica', '@MadeItInAfrica', '@AfricaResearch', '@FoodBlogCT', '@MbuyiseniNdlozi', '@africaprogress', '@IFCAfrica', '@HenleyAfrica', '@geoffreyyork', '@Entrepreneur_SA', '@forbesafrica', '@IECSouthAfrica', '@art2gee', '@JendayiFrazer', '@PeterGreste', '@NDOCKenya', '@Mo_IbrahimFdn', '@ParliamentofRSA', '@SandtonCity', '@_AfricanUnion', '@gertjohan', '@SmithInAfrica', '@hartleyr', '@liveamp', '@SamsungSA', '@BobSkinstad', '@Camfed', '@BBCAndrewH', '@euphonik', '@UlrichJvV', '@OfficialCSA', '@MTVbaseAfrica', '@Computicket', '@loyisogola', '@5FM', '@mailandguardian', '@helenzille', '@Julius_S_Malema', '@News24', '@SAPresident', '@GarethCliff', '@Trevornoah']\n"
     ]
    }
   ],
   "source": [
    "for i in res[100:]:\n",
    "    res.remove(i)\n",
    "    #print(res)\n",
    "names_infl = []\n",
    "handle_infl = []\n",
    "for r in res:\n",
    "    split_data = r.split('.',maxsplit=1)[1].rsplit('(',maxsplit=1)\n",
    "    name = split_data[0].split(',')[0].strip()\n",
    "    handle =  split_data[1].split(')',maxsplit=1)[0]\n",
    "    names_infl.append(name)\n",
    "    handle_infl.append(handle)\n",
    "\n",
    "handle_infl.remove('@andBeyondSafari')\n",
    "handle_infl.remove('@hurricanevaness')\n",
    "handle_infl.remove('@BBCKarenAllen')\n",
    "handle_infl.remove('@drewfhinshaw')\n",
    "handle_infl.remove('@schneiderhome')\n",
    "handle_infl.remove('@The_New_Age')\n",
    "handle_infl.remove('@702JohnRobbie')\n",
    "han=handle_infl\n",
    "print(han)\n"
   ]
  },
  {
   "cell_type": "code",
   "execution_count": 9,
   "metadata": {
    "colab": {},
    "colab_type": "code",
    "executionInfo": {
     "elapsed": 1146,
     "status": "ok",
     "timestamp": 1595184584506,
     "user": {
      "displayName": "Rofiah Adeshina",
      "photoUrl": "",
      "userId": "16819728728819546989"
     },
     "user_tz": -60
    },
    "id": "BAeALfeL_gjU"
   },
   "outputs": [
    {
     "name": "stdout",
     "output_type": "stream",
     "text": [
      "   100 influencers handles\n",
      "0               @gettleman\n",
      "1                @a24media\n",
      "2            @andiMakinana\n",
      "3             @AfricaCheck\n",
      "4            @JamesCopnall\n",
      "5                 @oafrica\n",
      "6            @PatrickNgowi\n",
      "7             @StateAfrica\n",
      "8                  @Moadow\n",
      "9          @BrendanSAfrica\n",
      "10            @CityTshwane\n",
      "11               @VISI_Mag\n",
      "12        @ThisIsAfricaTIA\n",
      "13                 @sarzss\n",
      "14          @TheEIU_Africa\n",
      "15         @InvestInAfrica\n",
      "16            @malonebarry\n",
      "17         @artsouthafrica\n",
      "18             @KahnMorbee\n",
      "19            @JamalMOsman\n",
      "20               @iamsuede\n",
      "21          @mikestopforth\n",
      "22        @equal_education\n",
      "23            @t_mcconnell\n",
      "24              @forbeesta\n",
      "25               @jaxpanik\n",
      "26           @thisisafrica\n",
      "27        @audisouthafrica\n",
      "28            @ONEinAfrica\n",
      "29           @Hamza_Africa\n",
      "..                     ...\n",
      "63                @art2gee\n",
      "64          @JendayiFrazer\n",
      "65            @PeterGreste\n",
      "66              @NDOCKenya\n",
      "67          @Mo_IbrahimFdn\n",
      "68        @ParliamentofRSA\n",
      "69            @SandtonCity\n",
      "70          @_AfricanUnion\n",
      "71              @gertjohan\n",
      "72          @SmithInAfrica\n",
      "73               @hartleyr\n",
      "74                @liveamp\n",
      "75              @SamsungSA\n",
      "76            @BobSkinstad\n",
      "77                 @Camfed\n",
      "78             @BBCAndrewH\n",
      "79               @euphonik\n",
      "80              @UlrichJvV\n",
      "81            @OfficialCSA\n",
      "82          @MTVbaseAfrica\n",
      "83            @Computicket\n",
      "84             @loyisogola\n",
      "85                    @5FM\n",
      "86        @mailandguardian\n",
      "87             @helenzille\n",
      "88        @Julius_S_Malema\n",
      "89                 @News24\n",
      "90            @SAPresident\n",
      "91            @GarethCliff\n",
      "92             @Trevornoah\n",
      "\n",
      "[93 rows x 1 columns]\n"
     ]
    }
   ],
   "source": [
    "df_influencer_handle = pd.DataFrame(handle_infl, columns=[\"100 influencers handles\"])\n",
    "df_influencer_handle.to_csv('C:/Users/HP/Desktop/CV, P.Statement and others/10 Academy/100_handles.csv', index=False, header=True)\n",
    "print(df_influencer_handle)"
   ]
  },
  {
   "cell_type": "code",
   "execution_count": 10,
   "metadata": {
    "colab": {},
    "colab_type": "code",
    "executionInfo": {
     "elapsed": 1750,
     "status": "ok",
     "timestamp": 1595184620652,
     "user": {
      "displayName": "Rofiah Adeshina",
      "photoUrl": "",
      "userId": "16819728728819546989"
     },
     "user_tz": -60
    },
    "id": "V9mULslEGod5"
   },
   "outputs": [],
   "source": [
    "url= 'https://www.atlanticcouncil.org/blogs/africasource/african-leaders-respond-to-coronavirus-on-twitter/#east-africa'\n",
    "response = simple_get(url)"
   ]
  },
  {
   "cell_type": "code",
   "execution_count": 11,
   "metadata": {
    "colab": {},
    "colab_type": "code",
    "executionInfo": {
     "elapsed": 3429,
     "status": "ok",
     "timestamp": 1595184628336,
     "user": {
      "displayName": "Rofiah Adeshina",
      "photoUrl": "",
      "userId": "16819728728819546989"
     },
     "user_tz": -60
    },
    "id": "mKgUhKcgGoeM"
   },
   "outputs": [
    {
     "name": "stdout",
     "output_type": "stream",
     "text": [
      "   Gov influencers handles\n",
      "0         @EswatiniGovern1\n",
      "1              @MalawiGovt\n",
      "2             @hagegeingob\n",
      "3               @FinanceSC\n",
      "4            @PresidencyZA\n",
      "5               @mohzambia\n",
      "6             @edmnangagwa\n",
      "7              @MinSantedj\n",
      "8                 @hawelti\n",
      "9         @StateHouseKenya\n",
      "10             @PaulKagame\n",
      "11             @M_Farmaajo\n",
      "12          @SouthSudanGov\n",
      "13          @SudanPMHamdok\n",
      "14         @TZSpokesperson\n",
      "15         @KagutaMuseveni\n",
      "16           @angola_Mirex\n",
      "17          @willynyamitwe\n",
      "18              @Cherif_MZ\n",
      "19         @Presidence_RDC\n",
      "20           @PresidentABO\n",
      "21        @PresidenceBenin\n",
      "22           @rochkaborepf\n",
      "23          @PresidenciaCV\n",
      "24         @AOuattara_PRCI\n",
      "25         @Presidency_GMB\n",
      "26             @NAkufoAddo\n",
      "27           @President_GN\n",
      "28               @USEmbalo\n",
      "29         @PresidenceMali\n",
      "30        @CheikhGhazouani\n",
      "31            @IssoufouMhm\n",
      "32                @MBuhari\n",
      "33             @Macky_Sall\n",
      "34           @PresidentBio\n",
      "35              @MSPS_Togo\n"
     ]
    }
   ],
   "source": [
    "url= 'https://www.atlanticcouncil.org/blogs/africasource/african-leaders-respond-to-coronavirus-on-twitter/#east-africa'\n",
    "response = get(url).content\n",
    "re_gov = get_elements(response, tag='blockquote')\n",
    "names = []\n",
    "handles = []\n",
    "for r in re_gov:\n",
    "    split_data = r.split('— ',maxsplit=1)[1].rsplit('(',maxsplit=1)\n",
    "    name = split_data[0].split(',')[0].strip()\n",
    "    handle =  split_data[1].rsplit(')',maxsplit=1)[0]\n",
    "    names.append(name)\n",
    "    handles.append(handle)\n",
    "\n",
    "#nam_handle = f'{name}:{handle}'\n",
    "\n",
    "df_gov_handle = pd.DataFrame(handles, columns=[\"Gov influencers handles\"])\n",
    "df_gov_handle.to_csv('C:/Users/HP/Desktop/CV, P.Statement and others/10 Academy/gov_handles.csv', index=False, header=True)\n",
    "print(df_gov_handle)"
   ]
  },
  {
   "cell_type": "code",
   "execution_count": 44,
   "metadata": {
    "colab": {},
    "colab_type": "code",
    "executionInfo": {
     "elapsed": 1026,
     "status": "ok",
     "timestamp": 1595184651134,
     "user": {
      "displayName": "Rofiah Adeshina",
      "photoUrl": "",
      "userId": "16819728728819546989"
     },
     "user_tz": -60
    },
    "id": "sRsiYQcmGofB"
   },
   "outputs": [
    {
     "name": "stdout",
     "output_type": "stream",
     "text": [
      "['@EswatiniGovern1', '@MalawiGovt', '@hagegeingob', '@FinanceSC', '@PresidencyZA', '@mohzambia', '@edmnangagwa', '@MinSantedj', '@hawelti', '@StateHouseKenya', '@PaulKagame', '@M_Farmaajo', '@SouthSudanGov', '@SudanPMHamdok', '@TZSpokesperson', '@KagutaMuseveni', '@angola_Mirex', '@willynyamitwe', '@Cherif_MZ', '@Presidence_RDC', '@PresidentABO', '@PresidenceBenin', '@rochkaborepf', '@PresidenciaCV', '@AOuattara_PRCI', '@Presidency_GMB', '@NAkufoAddo', '@President_GN', '@USEmbalo', '@PresidenceMali', '@CheikhGhazouani', '@IssoufouMhm', '@MBuhari', '@Macky_Sall', '@PresidentBio', '@MSPS_Togo', '@gettleman', '@a24media', '@andiMakinana', '@AfricaCheck', '@JamesCopnall', '@oafrica', '@PatrickNgowi', '@StateAfrica', '@Moadow', '@BrendanSAfrica', '@CityTshwane', '@VISI_Mag', '@ThisIsAfricaTIA', '@sarzss', '@TheEIU_Africa', '@InvestInAfrica', '@malonebarry', '@artsouthafrica', '@KahnMorbee', '@JamalMOsman', '@iamsuede', '@mikestopforth', '@equal_education', '@t_mcconnell', '@forbeesta', '@jaxpanik', '@thisisafrica', '@audisouthafrica', '@ONEinAfrica', '@Hamza_Africa', '@africatechie', '@cx73', '@ayittey', '@MercedesBenz_SA', '@africagathering', '@okayafrica', '@mary_harper', '@savetherhino', '@africamedia_CPJ', '@TechCentral', '@GautengProvince', '@Aynte', '@daniel_howden', '@rangerdiaries', '@TheStar_news', '@Afrinnovator', '@theafricareport', '@CityofJoburgZA', '@ThinkAfricaFeed', '@AfricaGoodNews', '@willintune', '@cnbcafrica', '@MadeItInAfrica', '@AfricaResearch', '@FoodBlogCT', '@MbuyiseniNdlozi', '@africaprogress', '@IFCAfrica', '@HenleyAfrica', '@geoffreyyork', '@Entrepreneur_SA', '@forbesafrica', '@IECSouthAfrica', '@art2gee', '@JendayiFrazer', '@PeterGreste', '@NDOCKenya', '@Mo_IbrahimFdn', '@ParliamentofRSA', '@SandtonCity', '@_AfricanUnion', '@gertjohan', '@SmithInAfrica', '@hartleyr', '@liveamp', '@SamsungSA', '@BobSkinstad', '@Camfed', '@BBCAndrewH', '@euphonik', '@UlrichJvV', '@OfficialCSA', '@MTVbaseAfrica', '@Computicket', '@loyisogola', '@5FM', '@mailandguardian', '@helenzille', '@Julius_S_Malema', '@News24', '@SAPresident', '@GarethCliff', '@Trevornoah']\n"
     ]
    }
   ],
   "source": [
    "fl_handles = handles + han\n",
    "print(fl_handles)\n",
    "final_handle = pd.DataFrame(fl_handles, columns=[\"combined_handles\"])\n",
    "final_handle.to_csv (r'C:\\Users\\HP\\Desktop\\CV, P.Statement and others\\10 Academy\\final_handle.csv', index = False, header=True)\n",
    "#print(final_handle)\n"
   ]
  },
  {
   "cell_type": "code",
   "execution_count": 30,
   "metadata": {
    "colab": {},
    "colab_type": "code",
    "executionInfo": {
     "elapsed": 1634,
     "status": "ok",
     "timestamp": 1595184656837,
     "user": {
      "displayName": "Rofiah Adeshina",
      "photoUrl": "",
      "userId": "16819728728819546989"
     },
     "user_tz": -60
    },
    "id": "fy-VXURDGofc"
   },
   "outputs": [],
   "source": [
    "import sys\n",
    "import os\n",
    "import json\n",
    "import pandas as pd\n",
    "import matplotlib.pyplot as plt\n",
    "import re\n",
    "import string\n",
    "\n",
    "import matplotlib.dates as mdates\n",
    "import seaborn as sns\n",
    "#sns.set()\n",
    "\n",
    "\n",
    "# to view all columns\n",
    "#pd.set_option(\"display.max.columns\", None)"
   ]
  },
  {
   "cell_type": "code",
   "execution_count": 31,
   "metadata": {
    "colab": {},
    "colab_type": "code",
    "executionInfo": {
     "elapsed": 1119,
     "status": "ok",
     "timestamp": 1595184853519,
     "user": {
      "displayName": "Rofiah Adeshina",
      "photoUrl": "",
      "userId": "16819728728819546989"
     },
     "user_tz": -60
    },
    "id": "ypAZQeHsGofz"
   },
   "outputs": [],
   "source": [
    "#!pip install tweepy\n",
    "import tweepy\n",
    "from tweepy.streaming import StreamListener\n",
    "from tweepy import OAuthHandler\n",
    "from tweepy import Stream"
   ]
  },
  {
   "cell_type": "code",
   "execution_count": 32,
   "metadata": {
    "colab": {},
    "colab_type": "code",
    "executionInfo": {
     "elapsed": 1171,
     "status": "ok",
     "timestamp": 1595184859241,
     "user": {
      "displayName": "Rofiah Adeshina",
      "photoUrl": "",
      "userId": "16819728728819546989"
     },
     "user_tz": -60
    },
    "id": "cDVA2ckbGogA"
   },
   "outputs": [],
   "source": [
    "consumer_key = \"K8W2HpecQElw6KgwuVHeo2yam\"\n",
    "consumer_secret = \"nefpW8qOYBcWxvW31FbnctvfhT7JdxbAomapRsfflDuTMyjbR6\"\n",
    "access_token = \"994261917253472256-9Pr2nCD3YbPSS7spfTIM2azickdWaOd\"\n",
    "access_token_secret = \"g4k7BxSZKaPncIExbAAz6YUOrjl8Cq5NNcpLq8axpbsUp\""
   ]
  },
  {
   "cell_type": "code",
   "execution_count": 33,
   "metadata": {
    "colab": {},
    "colab_type": "code",
    "executionInfo": {
     "elapsed": 1533,
     "status": "ok",
     "timestamp": 1595184863851,
     "user": {
      "displayName": "Rofiah Adeshina",
      "photoUrl": "",
      "userId": "16819728728819546989"
     },
     "user_tz": -60
    },
    "id": "gnq2TPLeGogQ"
   },
   "outputs": [],
   "source": [
    "auth = OAuthHandler(consumer_key, consumer_secret)\n",
    "auth.set_access_token(access_token, access_token_secret)\n",
    "api = tweepy.API(auth)"
   ]
  },
  {
   "cell_type": "code",
   "execution_count": 22,
   "metadata": {
    "colab": {},
    "colab_type": "code",
    "executionInfo": {
     "elapsed": 28329,
     "status": "ok",
     "timestamp": 1595184929566,
     "user": {
      "displayName": "Rofiah Adeshina",
      "photoUrl": "",
      "userId": "16819728728819546989"
     },
     "user_tz": -60
    },
    "id": "q1E6b1RLGogl"
   },
   "outputs": [],
   "source": [
    "#getting tweets\n",
    "tweets = []\n",
    "tweetCount=5\n",
    "for i in fl_handles:\n",
    "    try:\n",
    "        results=api.user_timeline(id=i, count=tweetCount)\n",
    "    except tweepy.TweepError as e:\n",
    "                continue  \n",
    "    for tweet in results:\n",
    "        tweets.append(tweet.text)\n",
    "#print(tweets)\n",
    "\n",
    "\n"
   ]
  },
  {
   "cell_type": "code",
   "execution_count": 49,
   "metadata": {
    "colab": {
     "base_uri": "https://localhost:8080/",
     "height": 151
    },
    "colab_type": "code",
    "executionInfo": {
     "elapsed": 23042,
     "status": "ok",
     "timestamp": 1595185014267,
     "user": {
      "displayName": "Rofiah Adeshina",
      "photoUrl": "",
      "userId": "16819728728819546989"
     },
     "user_tz": -60
    },
    "id": "D3-maCdTGohK",
    "outputId": "9de58e69-b5ac-4b7e-bbf9-8ec744d57afb"
   },
   "outputs": [
    {
     "name": "stdout",
     "output_type": "stream",
     "text": [
      "[11447, 39629, 193431, 128, 1606819, 7284, 549399, 2959, 66904, 1108024, 1994578, 427048, 2587, 374588, 4092, 1823802, 3283, 107647, 19081, 344060, 174778, 30343, 257677, 3293, 839005, 10880, 1516665, 777, 8504, 229984, 31878, 117047, 3285395, 1381278, 15388, 1142]\n"
     ]
    }
   ],
   "source": [
    "# getting followers for 100 influencers\n",
    "# Calling the get_user function with our parameters\n",
    "followers = []\n",
    "for i in handles:\n",
    "    try:\n",
    "        results = api.get_user(id=i)\n",
    "    except tweepy.TweepError as e:\n",
    "        continue \n",
    "    followers.append(results.followers_count)\n",
    "    #print(results.followers_count)\n",
    "print(followers)\n",
    "\n",
    "\n",
    "\n"
   ]
  },
  {
   "cell_type": "code",
   "execution_count": 50,
   "metadata": {},
   "outputs": [
    {
     "name": "stdout",
     "output_type": "stream",
     "text": [
      "   Number of followers\n",
      "0                11447\n",
      "1                39629\n",
      "2               193431\n",
      "3                  128\n",
      "4              1606819\n",
      "    Number of followers\n",
      "0                 11447\n",
      "1                 39629\n",
      "2                193431\n",
      "3                   128\n",
      "4               1606819\n",
      "5                  7284\n",
      "6                549399\n",
      "7                  2959\n",
      "8                 66904\n",
      "9               1108024\n",
      "10              1994578\n",
      "11               427048\n",
      "12                 2587\n",
      "13               374588\n",
      "14                 4092\n",
      "15              1823802\n",
      "16                 3283\n",
      "17               107647\n",
      "18                19081\n",
      "19               344060\n",
      "20               174778\n",
      "21                30343\n",
      "22               257677\n",
      "23                 3293\n",
      "24               839005\n",
      "25                10880\n",
      "26              1516665\n",
      "27                  777\n",
      "28                 8504\n",
      "29               229984\n",
      "30                31878\n",
      "31               117047\n",
      "32              3285395\n",
      "33              1381278\n",
      "34                15388\n",
      "35                 1142\n"
     ]
    }
   ],
   "source": [
    "# followers dataframe\n",
    "total_followers = pd.DataFrame(followers,columns=[\"Number of followers\"])\n",
    "total_followers.to_csv('C:/Users/HP/Desktop/CV, P.Statement and others/10 Academy/gov_follower.csv')\n",
    "#print(total_followers.head())\n",
    "#print(total_followers)"
   ]
  },
  {
   "cell_type": "code",
   "execution_count": 51,
   "metadata": {
    "colab": {
     "base_uri": "https://localhost:8080/",
     "height": 115
    },
    "colab_type": "code",
    "executionInfo": {
     "elapsed": 23333,
     "status": "ok",
     "timestamp": 1595185063345,
     "user": {
      "displayName": "Rofiah Adeshina",
      "photoUrl": "",
      "userId": "16819728728819546989"
     },
     "user_tz": -60
    },
    "id": "KonoEx2wGohn",
    "outputId": "667a85f7-e9d4-4a0e-aecb-36604fe12b12"
   },
   "outputs": [
    {
     "name": "stdout",
     "output_type": "stream",
     "text": [
      "   Number of likes\n",
      "0               64\n",
      "1              915\n",
      "2              268\n",
      "3               12\n",
      "4               64\n"
     ]
    }
   ],
   "source": [
    "# getting no of likes for gov influencers\n",
    "likes = []\n",
    "for i in handles:\n",
    "    try:\n",
    "        results = api.get_user(id=i)\n",
    "    except tweepy.TweepError as e:\n",
    "        continue\n",
    "    likes.append(results.favourites_count)\n",
    "    #print(results.followers_count)\n",
    "#print(likes)\n",
    "total_like = pd.DataFrame(likes,columns=[\"Number of likes\"])\n",
    "#total_like.to_csv('C:/Users/HP/Desktop/CV, P.Statement and others/10 Academy/gov_likes.csv')\n",
    "print(total_like.head())\n",
    "\n"
   ]
  },
  {
   "cell_type": "code",
   "execution_count": 52,
   "metadata": {},
   "outputs": [
    {
     "data": {
      "text/html": [
       "<div>\n",
       "<style scoped>\n",
       "    .dataframe tbody tr th:only-of-type {\n",
       "        vertical-align: middle;\n",
       "    }\n",
       "\n",
       "    .dataframe tbody tr th {\n",
       "        vertical-align: top;\n",
       "    }\n",
       "\n",
       "    .dataframe thead th {\n",
       "        text-align: right;\n",
       "    }\n",
       "</style>\n",
       "<table border=\"1\" class=\"dataframe\">\n",
       "  <thead>\n",
       "    <tr style=\"text-align: right;\">\n",
       "      <th></th>\n",
       "      <th>Number of likes</th>\n",
       "    </tr>\n",
       "  </thead>\n",
       "  <tbody>\n",
       "    <tr>\n",
       "      <th>0</th>\n",
       "      <td>64</td>\n",
       "    </tr>\n",
       "    <tr>\n",
       "      <th>1</th>\n",
       "      <td>915</td>\n",
       "    </tr>\n",
       "    <tr>\n",
       "      <th>2</th>\n",
       "      <td>268</td>\n",
       "    </tr>\n",
       "    <tr>\n",
       "      <th>3</th>\n",
       "      <td>12</td>\n",
       "    </tr>\n",
       "    <tr>\n",
       "      <th>4</th>\n",
       "      <td>64</td>\n",
       "    </tr>\n",
       "    <tr>\n",
       "      <th>5</th>\n",
       "      <td>163</td>\n",
       "    </tr>\n",
       "    <tr>\n",
       "      <th>6</th>\n",
       "      <td>65</td>\n",
       "    </tr>\n",
       "    <tr>\n",
       "      <th>7</th>\n",
       "      <td>591</td>\n",
       "    </tr>\n",
       "    <tr>\n",
       "      <th>8</th>\n",
       "      <td>739</td>\n",
       "    </tr>\n",
       "    <tr>\n",
       "      <th>9</th>\n",
       "      <td>61</td>\n",
       "    </tr>\n",
       "    <tr>\n",
       "      <th>10</th>\n",
       "      <td>620</td>\n",
       "    </tr>\n",
       "    <tr>\n",
       "      <th>11</th>\n",
       "      <td>22</td>\n",
       "    </tr>\n",
       "    <tr>\n",
       "      <th>12</th>\n",
       "      <td>350</td>\n",
       "    </tr>\n",
       "    <tr>\n",
       "      <th>13</th>\n",
       "      <td>44</td>\n",
       "    </tr>\n",
       "    <tr>\n",
       "      <th>14</th>\n",
       "      <td>1</td>\n",
       "    </tr>\n",
       "    <tr>\n",
       "      <th>15</th>\n",
       "      <td>75</td>\n",
       "    </tr>\n",
       "    <tr>\n",
       "      <th>16</th>\n",
       "      <td>450</td>\n",
       "    </tr>\n",
       "    <tr>\n",
       "      <th>17</th>\n",
       "      <td>6264</td>\n",
       "    </tr>\n",
       "    <tr>\n",
       "      <th>18</th>\n",
       "      <td>480</td>\n",
       "    </tr>\n",
       "    <tr>\n",
       "      <th>19</th>\n",
       "      <td>99</td>\n",
       "    </tr>\n",
       "    <tr>\n",
       "      <th>20</th>\n",
       "      <td>16</td>\n",
       "    </tr>\n",
       "    <tr>\n",
       "      <th>21</th>\n",
       "      <td>94</td>\n",
       "    </tr>\n",
       "    <tr>\n",
       "      <th>22</th>\n",
       "      <td>478</td>\n",
       "    </tr>\n",
       "    <tr>\n",
       "      <th>23</th>\n",
       "      <td>94</td>\n",
       "    </tr>\n",
       "    <tr>\n",
       "      <th>24</th>\n",
       "      <td>4</td>\n",
       "    </tr>\n",
       "    <tr>\n",
       "      <th>25</th>\n",
       "      <td>452</td>\n",
       "    </tr>\n",
       "    <tr>\n",
       "      <th>26</th>\n",
       "      <td>135</td>\n",
       "    </tr>\n",
       "    <tr>\n",
       "      <th>27</th>\n",
       "      <td>6</td>\n",
       "    </tr>\n",
       "    <tr>\n",
       "      <th>28</th>\n",
       "      <td>6063</td>\n",
       "    </tr>\n",
       "    <tr>\n",
       "      <th>29</th>\n",
       "      <td>1732</td>\n",
       "    </tr>\n",
       "    <tr>\n",
       "      <th>30</th>\n",
       "      <td>0</td>\n",
       "    </tr>\n",
       "    <tr>\n",
       "      <th>31</th>\n",
       "      <td>3</td>\n",
       "    </tr>\n",
       "    <tr>\n",
       "      <th>32</th>\n",
       "      <td>8</td>\n",
       "    </tr>\n",
       "    <tr>\n",
       "      <th>33</th>\n",
       "      <td>530</td>\n",
       "    </tr>\n",
       "    <tr>\n",
       "      <th>34</th>\n",
       "      <td>0</td>\n",
       "    </tr>\n",
       "    <tr>\n",
       "      <th>35</th>\n",
       "      <td>1</td>\n",
       "    </tr>\n",
       "  </tbody>\n",
       "</table>\n",
       "</div>"
      ],
      "text/plain": [
       "    Number of likes\n",
       "0                64\n",
       "1               915\n",
       "2               268\n",
       "3                12\n",
       "4                64\n",
       "5               163\n",
       "6                65\n",
       "7               591\n",
       "8               739\n",
       "9                61\n",
       "10              620\n",
       "11               22\n",
       "12              350\n",
       "13               44\n",
       "14                1\n",
       "15               75\n",
       "16              450\n",
       "17             6264\n",
       "18              480\n",
       "19               99\n",
       "20               16\n",
       "21               94\n",
       "22              478\n",
       "23               94\n",
       "24                4\n",
       "25              452\n",
       "26              135\n",
       "27                6\n",
       "28             6063\n",
       "29             1732\n",
       "30                0\n",
       "31                3\n",
       "32                8\n",
       "33              530\n",
       "34                0\n",
       "35                1"
      ]
     },
     "execution_count": 52,
     "metadata": {},
     "output_type": "execute_result"
    }
   ],
   "source": [
    "total_like"
   ]
  },
  {
   "cell_type": "code",
   "execution_count": 55,
   "metadata": {
    "colab": {
     "base_uri": "https://localhost:8080/",
     "height": 115
    },
    "colab_type": "code",
    "executionInfo": {
     "elapsed": 23008,
     "status": "ok",
     "timestamp": 1595185279551,
     "user": {
      "displayName": "Rofiah Adeshina",
      "photoUrl": "",
      "userId": "16819728728819546989"
     },
     "user_tz": -60
    },
    "id": "WSnc8HF7GoiG",
    "outputId": "7570087d-4555-4d67-ab34-1cac7cfb2dce"
   },
   "outputs": [
    {
     "name": "stdout",
     "output_type": "stream",
     "text": [
      "   Number of following\n",
      "0                   83\n",
      "1                   26\n",
      "2                   55\n",
      "3                  224\n",
      "4                   14\n"
     ]
    }
   ],
   "source": [
    "# getting no of following for 100 influencers\n",
    "following = []\n",
    "for i in fl_handles:\n",
    "    try:\n",
    "        results = api.get_user(id=i)\n",
    "    except tweepy.TweepError as e:\n",
    "        continue\n",
    "    following.append(results.friends_count)\n",
    "\n",
    "    \n",
    "#print(following)\n",
    "gov_following = pd.DataFrame(following,columns=[\"Number of following\"])\n",
    "#gov_following.to_csv('C:/Users/HP/Desktop/CV, P.Statement and others/10 Academy/gov_followings.csv')\n",
    "print(gov_following.head())\n",
    "\n"
   ]
  },
  {
   "cell_type": "code",
   "execution_count": null,
   "metadata": {},
   "outputs": [],
   "source": []
  },
  {
   "cell_type": "code",
   "execution_count": 53,
   "metadata": {
    "colab": {
     "base_uri": "https://localhost:8080/",
     "height": 115
    },
    "colab_type": "code",
    "executionInfo": {
     "elapsed": 113945,
     "status": "ok",
     "timestamp": 1595185411031,
     "user": {
      "displayName": "Rofiah Adeshina",
      "photoUrl": "",
      "userId": "16819728728819546989"
     },
     "user_tz": -60
    },
    "id": "GC_jnat2Goiq",
    "outputId": "f763f909-83f8-4aec-90f3-f87b0da014a3"
   },
   "outputs": [
    {
     "name": "stdout",
     "output_type": "stream",
     "text": [
      "   No of retweets\n",
      "0              10\n",
      "1              24\n",
      "2              34\n",
      "3              50\n",
      "4              50\n"
     ]
    }
   ],
   "source": [
    "#getting retweets\n",
    "no_of_retweets = []\n",
    "for id in handles:\n",
    "    try:\n",
    "        tweets = tweepy.Cursor(api.user_timeline, id=i).items(200)\n",
    "        rt = 0\n",
    "        for tweet in tweets:\n",
    "            rt+=tweet.retweet_count\n",
    "            no_of_retweets.append(rt)\n",
    "    except tweepy.TweepError as e:\n",
    "        continue\n",
    "#print(no_of_retweets)\n",
    "\n",
    "#retweets dataframe\n",
    "gov_retweets = pd.DataFrame(no_of_retweets, columns=[\"No of retweets\"])\n",
    "#gov_retweets.to_csv (r'C:\\Users\\HP\\Desktop\\CV, P.Statement and others\\10 Academy\\gov_retweet.csv', index = False, header=True)\n",
    "print(gov_retweets.head())\n"
   ]
  },
  {
   "cell_type": "code",
   "execution_count": 54,
   "metadata": {},
   "outputs": [
    {
     "data": {
      "text/html": [
       "<div>\n",
       "<style scoped>\n",
       "    .dataframe tbody tr th:only-of-type {\n",
       "        vertical-align: middle;\n",
       "    }\n",
       "\n",
       "    .dataframe tbody tr th {\n",
       "        vertical-align: top;\n",
       "    }\n",
       "\n",
       "    .dataframe thead th {\n",
       "        text-align: right;\n",
       "    }\n",
       "</style>\n",
       "<table border=\"1\" class=\"dataframe\">\n",
       "  <thead>\n",
       "    <tr style=\"text-align: right;\">\n",
       "      <th></th>\n",
       "      <th>No of retweets</th>\n",
       "    </tr>\n",
       "  </thead>\n",
       "  <tbody>\n",
       "    <tr>\n",
       "      <th>0</th>\n",
       "      <td>10</td>\n",
       "    </tr>\n",
       "    <tr>\n",
       "      <th>1</th>\n",
       "      <td>24</td>\n",
       "    </tr>\n",
       "    <tr>\n",
       "      <th>2</th>\n",
       "      <td>34</td>\n",
       "    </tr>\n",
       "    <tr>\n",
       "      <th>3</th>\n",
       "      <td>50</td>\n",
       "    </tr>\n",
       "    <tr>\n",
       "      <th>4</th>\n",
       "      <td>50</td>\n",
       "    </tr>\n",
       "    <tr>\n",
       "      <th>5</th>\n",
       "      <td>67</td>\n",
       "    </tr>\n",
       "    <tr>\n",
       "      <th>6</th>\n",
       "      <td>73</td>\n",
       "    </tr>\n",
       "    <tr>\n",
       "      <th>7</th>\n",
       "      <td>76</td>\n",
       "    </tr>\n",
       "    <tr>\n",
       "      <th>8</th>\n",
       "      <td>78</td>\n",
       "    </tr>\n",
       "    <tr>\n",
       "      <th>9</th>\n",
       "      <td>81</td>\n",
       "    </tr>\n",
       "    <tr>\n",
       "      <th>10</th>\n",
       "      <td>83</td>\n",
       "    </tr>\n",
       "    <tr>\n",
       "      <th>11</th>\n",
       "      <td>85</td>\n",
       "    </tr>\n",
       "    <tr>\n",
       "      <th>12</th>\n",
       "      <td>89</td>\n",
       "    </tr>\n",
       "    <tr>\n",
       "      <th>13</th>\n",
       "      <td>93</td>\n",
       "    </tr>\n",
       "    <tr>\n",
       "      <th>14</th>\n",
       "      <td>97</td>\n",
       "    </tr>\n",
       "    <tr>\n",
       "      <th>15</th>\n",
       "      <td>99</td>\n",
       "    </tr>\n",
       "    <tr>\n",
       "      <th>16</th>\n",
       "      <td>100</td>\n",
       "    </tr>\n",
       "    <tr>\n",
       "      <th>17</th>\n",
       "      <td>100</td>\n",
       "    </tr>\n",
       "    <tr>\n",
       "      <th>18</th>\n",
       "      <td>100</td>\n",
       "    </tr>\n",
       "    <tr>\n",
       "      <th>19</th>\n",
       "      <td>101</td>\n",
       "    </tr>\n",
       "    <tr>\n",
       "      <th>20</th>\n",
       "      <td>101</td>\n",
       "    </tr>\n",
       "    <tr>\n",
       "      <th>21</th>\n",
       "      <td>107</td>\n",
       "    </tr>\n",
       "    <tr>\n",
       "      <th>22</th>\n",
       "      <td>109</td>\n",
       "    </tr>\n",
       "    <tr>\n",
       "      <th>23</th>\n",
       "      <td>109</td>\n",
       "    </tr>\n",
       "    <tr>\n",
       "      <th>24</th>\n",
       "      <td>111</td>\n",
       "    </tr>\n",
       "    <tr>\n",
       "      <th>25</th>\n",
       "      <td>111</td>\n",
       "    </tr>\n",
       "    <tr>\n",
       "      <th>26</th>\n",
       "      <td>111</td>\n",
       "    </tr>\n",
       "    <tr>\n",
       "      <th>27</th>\n",
       "      <td>111</td>\n",
       "    </tr>\n",
       "    <tr>\n",
       "      <th>28</th>\n",
       "      <td>112</td>\n",
       "    </tr>\n",
       "    <tr>\n",
       "      <th>29</th>\n",
       "      <td>113</td>\n",
       "    </tr>\n",
       "    <tr>\n",
       "      <th>...</th>\n",
       "      <td>...</td>\n",
       "    </tr>\n",
       "    <tr>\n",
       "      <th>1486</th>\n",
       "      <td>97</td>\n",
       "    </tr>\n",
       "    <tr>\n",
       "      <th>1487</th>\n",
       "      <td>99</td>\n",
       "    </tr>\n",
       "    <tr>\n",
       "      <th>1488</th>\n",
       "      <td>100</td>\n",
       "    </tr>\n",
       "    <tr>\n",
       "      <th>1489</th>\n",
       "      <td>100</td>\n",
       "    </tr>\n",
       "    <tr>\n",
       "      <th>1490</th>\n",
       "      <td>100</td>\n",
       "    </tr>\n",
       "    <tr>\n",
       "      <th>1491</th>\n",
       "      <td>101</td>\n",
       "    </tr>\n",
       "    <tr>\n",
       "      <th>1492</th>\n",
       "      <td>101</td>\n",
       "    </tr>\n",
       "    <tr>\n",
       "      <th>1493</th>\n",
       "      <td>107</td>\n",
       "    </tr>\n",
       "    <tr>\n",
       "      <th>1494</th>\n",
       "      <td>109</td>\n",
       "    </tr>\n",
       "    <tr>\n",
       "      <th>1495</th>\n",
       "      <td>109</td>\n",
       "    </tr>\n",
       "    <tr>\n",
       "      <th>1496</th>\n",
       "      <td>111</td>\n",
       "    </tr>\n",
       "    <tr>\n",
       "      <th>1497</th>\n",
       "      <td>111</td>\n",
       "    </tr>\n",
       "    <tr>\n",
       "      <th>1498</th>\n",
       "      <td>111</td>\n",
       "    </tr>\n",
       "    <tr>\n",
       "      <th>1499</th>\n",
       "      <td>111</td>\n",
       "    </tr>\n",
       "    <tr>\n",
       "      <th>1500</th>\n",
       "      <td>112</td>\n",
       "    </tr>\n",
       "    <tr>\n",
       "      <th>1501</th>\n",
       "      <td>113</td>\n",
       "    </tr>\n",
       "    <tr>\n",
       "      <th>1502</th>\n",
       "      <td>113</td>\n",
       "    </tr>\n",
       "    <tr>\n",
       "      <th>1503</th>\n",
       "      <td>113</td>\n",
       "    </tr>\n",
       "    <tr>\n",
       "      <th>1504</th>\n",
       "      <td>113</td>\n",
       "    </tr>\n",
       "    <tr>\n",
       "      <th>1505</th>\n",
       "      <td>113</td>\n",
       "    </tr>\n",
       "    <tr>\n",
       "      <th>1506</th>\n",
       "      <td>133</td>\n",
       "    </tr>\n",
       "    <tr>\n",
       "      <th>1507</th>\n",
       "      <td>138</td>\n",
       "    </tr>\n",
       "    <tr>\n",
       "      <th>1508</th>\n",
       "      <td>138</td>\n",
       "    </tr>\n",
       "    <tr>\n",
       "      <th>1509</th>\n",
       "      <td>138</td>\n",
       "    </tr>\n",
       "    <tr>\n",
       "      <th>1510</th>\n",
       "      <td>139</td>\n",
       "    </tr>\n",
       "    <tr>\n",
       "      <th>1511</th>\n",
       "      <td>152</td>\n",
       "    </tr>\n",
       "    <tr>\n",
       "      <th>1512</th>\n",
       "      <td>153</td>\n",
       "    </tr>\n",
       "    <tr>\n",
       "      <th>1513</th>\n",
       "      <td>154</td>\n",
       "    </tr>\n",
       "    <tr>\n",
       "      <th>1514</th>\n",
       "      <td>156</td>\n",
       "    </tr>\n",
       "    <tr>\n",
       "      <th>1515</th>\n",
       "      <td>157</td>\n",
       "    </tr>\n",
       "  </tbody>\n",
       "</table>\n",
       "<p>1516 rows × 1 columns</p>\n",
       "</div>"
      ],
      "text/plain": [
       "      No of retweets\n",
       "0                 10\n",
       "1                 24\n",
       "2                 34\n",
       "3                 50\n",
       "4                 50\n",
       "5                 67\n",
       "6                 73\n",
       "7                 76\n",
       "8                 78\n",
       "9                 81\n",
       "10                83\n",
       "11                85\n",
       "12                89\n",
       "13                93\n",
       "14                97\n",
       "15                99\n",
       "16               100\n",
       "17               100\n",
       "18               100\n",
       "19               101\n",
       "20               101\n",
       "21               107\n",
       "22               109\n",
       "23               109\n",
       "24               111\n",
       "25               111\n",
       "26               111\n",
       "27               111\n",
       "28               112\n",
       "29               113\n",
       "...              ...\n",
       "1486              97\n",
       "1487              99\n",
       "1488             100\n",
       "1489             100\n",
       "1490             100\n",
       "1491             101\n",
       "1492             101\n",
       "1493             107\n",
       "1494             109\n",
       "1495             109\n",
       "1496             111\n",
       "1497             111\n",
       "1498             111\n",
       "1499             111\n",
       "1500             112\n",
       "1501             113\n",
       "1502             113\n",
       "1503             113\n",
       "1504             113\n",
       "1505             113\n",
       "1506             133\n",
       "1507             138\n",
       "1508             138\n",
       "1509             138\n",
       "1510             139\n",
       "1511             152\n",
       "1512             153\n",
       "1513             154\n",
       "1514             156\n",
       "1515             157\n",
       "\n",
       "[1516 rows x 1 columns]"
      ]
     },
     "execution_count": 54,
     "metadata": {},
     "output_type": "execute_result"
    }
   ],
   "source": [
    "gov_retweets"
   ]
  },
  {
   "cell_type": "code",
   "execution_count": 61,
   "metadata": {
    "colab": {
     "base_uri": "https://localhost:8080/",
     "height": 151
    },
    "colab_type": "code",
    "executionInfo": {
     "elapsed": 22592,
     "status": "ok",
     "timestamp": 1595185508658,
     "user": {
      "displayName": "Rofiah Adeshina",
      "photoUrl": "",
      "userId": "16819728728819546989"
     },
     "user_tz": -60
    },
    "id": "bb2p_vEjGojO",
    "outputId": "01b8065b-3e9b-450d-899b-7bb74ea7ff3e"
   },
   "outputs": [
    {
     "name": "stdout",
     "output_type": "stream",
     "text": [
      "[1676, 4030, 1087, 125, 18881, 838, 628, 1065, 4720, 9052, 2862, 599, 209, 654, 836, 6645, 732, 40682, 753, 1650, 1738, 5649, 4496, 715, 7139, 1442, 7098, 21, 828, 11168, 30, 349, 4734, 2796, 83, 44, 3770, 16869, 142234, 27325, 19439, 6864, 1638, 1, 21549, 3892, 81209, 16890, 23988, 2166, 2523, 2814, 35271, 23, 4983, 13508, 88730, 42971, 26785, 15627, 9575, 15410, 0, 22996, 7579, 17748, 101356, 4986, 12766, 15755, 8771, 45455, 7187, 35783, 35, 18373, 33461, 14516, 8767, 3906, 48601, 32731, 15893, 265302, 16251, 11100, 8562, 91479, 30378, 23204, 137304, 35978, 10665, 8895, 38395, 53788, 117, 9294, 23704, 13353, 3118, 14757, 3243, 11275, 27253, 14684, 9266, 6476, 1, 21728, 50980, 23587, 27798, 15681, 6, 4555, 20000, 88551, 56044, 45134, 5688, 62843, 144320, 72335, 37220, 322930, 19, 31626, 11186]\n",
      "   No of statuses\n",
      "0            1676\n",
      "1            4030\n",
      "2            1087\n",
      "3             125\n",
      "4           18881\n"
     ]
    }
   ],
   "source": [
    "#getting no of tweets shared\n",
    "no_tweets_shared = []\n",
    "for i in fl_handles:\n",
    "    try:\n",
    "        results = api.get_user(id=i)\n",
    "    except tweepy.TweepError as e:\n",
    "        continue\n",
    "    no_tweets_shared.append(results.statuses_count)\n",
    "    \n",
    "print(no_tweets_shared)\n",
    "\n",
    "#tweet shared dataframe\n",
    "gov_statuses = pd.DataFrame(no_tweets_shared, columns=[\"No of statuses\"])\n",
    "#gov_statuses.to_csv (r'C:\\Users\\HP\\Desktop\\CV, P.Statement and others\\10 Academy\\gov_statuses.csv', index = False, header=True)\n",
    "print(gov_statuses.head())"
   ]
  },
  {
   "cell_type": "code",
   "execution_count": 71,
   "metadata": {
    "colab": {
     "base_uri": "https://localhost:8080/",
     "height": 115
    },
    "colab_type": "code",
    "executionInfo": {
     "elapsed": 118019,
     "status": "ok",
     "timestamp": 1595186387939,
     "user": {
      "displayName": "Rofiah Adeshina",
      "photoUrl": "",
      "userId": "16819728728819546989"
     },
     "user_tz": -60
    },
    "id": "M_5h_JyV_gqc",
    "outputId": "c5c81929-484f-4a81-a69c-e3ab06434df0"
   },
   "outputs": [
    {
     "name": "stdout",
     "output_type": "stream",
     "text": [
      "   gov mentions\n",
      "0           117\n",
      "1          1699\n",
      "2           253\n",
      "3            32\n",
      "4          1054\n"
     ]
    }
   ],
   "source": [
    "#mention for gov influencers\n",
    "count = []\n",
    "for x in range(0, len(fl_handles)):\n",
    "    name = fl_handles[x]\n",
    "    mentions_count = []\n",
    "    try:\n",
    "       for status in tweepy.Cursor(api.user_timeline, id=name).items():\n",
    "         entities = status.entities\n",
    "         if \"user_mentions\" in entities:\n",
    "            for ent in entities[\"user_mentions\"]:\n",
    "              if ent is not None:\n",
    "                if \"screen_name\" in ent:\n",
    "                  name = ent[\"screen_name\"]\n",
    "                  if name is not None:\n",
    "                    mentions_count.append(name)\n",
    "    except tweepy.TweepError as e:\n",
    "        continue\n",
    "    count.append(len(mentions_count))\n",
    "infl_mention = pd.DataFrame(count, columns=[\"gov mentions\"])\n",
    "#infl_mention.to_csv (r'C:\\Users\\HP\\Desktop\\CV, P.Statement and others\\10 Academy\\infl_mentions.csv', index = False, header=True)\n",
    "print(infl_mention.head())"
   ]
  },
  {
   "cell_type": "code",
   "execution_count": null,
   "metadata": {},
   "outputs": [],
   "source": []
  },
  {
   "cell_type": "code",
   "execution_count": null,
   "metadata": {},
   "outputs": [],
   "source": [
    "import matplotlib.pyplot as plt\n",
    "import seaborn as sns\n",
    "sns.catplot(x='gov mentions', data=infl_mention, kind='bar')\n",
    "plt.xticks(rotation=90)\n",
    "plt.show()"
   ]
  },
  {
   "cell_type": "code",
   "execution_count": 68,
   "metadata": {},
   "outputs": [
    {
     "name": "stdout",
     "output_type": "stream",
     "text": [
      "['COVID19', 'COVID19', 'COVID19', 'COVID19', 'COVID19', 'COVID19', 'COVID19', 'COVID19', 'COVID19', 'COVID19', 'COVID19', 'COVID19', 'COVID19', 'COVID19', 'COVID19', 'COVID19', 'COVID19', 'COVID19', 'COVID19', 'COVID19', 'COVID19', 'COVID19', 'COVID19', 'COVID19', 'COVID19', 'COVID19', 'COVID19', 'COVID19', 'COVID19', 'COVID19', 'COVID19', 'COVID19', 'COVID19', 'COVID19', 'COVID19', 'COVID19', 'COVID19', 'COVID19', 'COVID19', 'COVID19', 'COVID19', 'HIV', 'HIV', 'Eswatini', 'COVID19', 'COVID19', 'COVID19', 'COVID19', 'COVID19', 'COVID19', 'COVID19', 'COVID19', 'COVID19', 'COVID19', 'COVID19', 'COVID19', 'COVID19', 'COVID19', 'COVID19', 'COVID19', 'COVID19', 'COVID19', 'COVID19', 'COVID19', 'COVID19', 'COVID19', 'COVID19', 'COVID19', 'COVID19', 'COVID19', 'COVID19', 'COVID19', 'COVID19', 'COVID19', 'COVID19', 'COVID19', 'COVID19', 'COVID19', 'COVID19', 'COVID19', 'COVID19', 'COVID19', 'COVID19', 'COVID19', 'COVID19', 'COVID19', 'WorldRefugeeDay', 'COVID19', 'COVID19', 'COVID19', 'COVID19', 'COVID19', 'COVID19', 'COVID19', 'COVID19', 'COVID19', 'WorldBloodDonorDay', 'WorldBloodDonorDay', 'COVID19', 'COVID19', 'COVID19', 'COVID19', 'COVID19', 'COVID19', 'COVID19', 'COVID19', 'COVID19', 'COVID19', 'COVID19', 'COVID19', 'COVID19', 'COVID19', 'COVID19', 'COVID19', 'COVID19', 'COVID19', 'COVID19', 'COVID19', 'COVID19', 'COVID19', 'COVID19', 'COVID19', 'COVID19', 'COVID19', 'COVID19', 'COVID19', 'COVID19', 'COVID19', 'COVID19', 'COVID19', 'COVID19', 'COVID19', 'COVID19', 'COVID19', 'COVID19', 'COVID19', 'COVID19', 'COVID19', 'COVID19', 'COVID19', 'COVID19', 'COVID19', 'COVID19', 'COVID19', 'COVID19', 'COVID19', 'AfricaDay', 'COVID19', 'COVID19', 'COVID19', 'COVID19', 'COVID19', 'COVID19', 'COVID19', 'COVID19', 'COVID19', 'COVID19', 'COVID19', 'COVID19', 'COVID19', 'Taiwan520', 'COVID19', 'COVID19', 'COVID19', 'COVID19', 'COVID19', 'COVID19', 'COVID19', 'COVID19', 'COVID19', 'COVID19', 'COVID19', 'COVID19', 'COVID19', 'COVID19', 'COVID19', 'COVID19', 'COVID19', 'COVID19', 'COVID19', 'COVID19', 'COVID19', 'COVID19', 'COVID19', 'StayHome', 'COVID19', 'COVID19', 'COVID19', 'COVID19', 'COVID19', 'COVID19', 'COVID19', 'COVID19', 'COVID19', 'COVID19', 'COVID19', 'COVID19', 'COVID19', 'COVID19', 'COVID19', 'COVID19', 'COVID19', 'COVID19', 'COVID19', 'COVID19', 'COVID19', 'COVID19', 'COVID19', 'COVID19', 'COVID19', 'COVID19', 'COVID19', 'COVID19', 'COVID19', 'COVID19', 'TaiwanCanHelp', '52YearsOfFriendship', 'TaiwanCanHelp', '52YearsOfFriendship', 'TaiwanCanHelp', '52YearsOfFriendship', 'COVID19', 'WorkersDay', 'COVID19', 'COVID19', 'COVID19', 'COVID19', 'COVID19', 'COVID19', 'COVID19', 'COVID19', 'COVID19', 'COVID19', 'COVID19', 'COVID19', 'COVID19', 'COVID19', 'COVID19', 'COVID19', 'COVID19', 'COVID19', 'COVID19', 'COVID19', 'COVID19', 'GreetLikeThePM', 'StaySafe', 'StayAtHome', 'EswatiniNationalFlag', 'COVID19', 'COVID19', 'COVID19', 'COVID19', 'COVID19', 'COVID19', 'COVID19', 'COVID19', 'COVID19', 'COVID19', 'COVID19', 'COVID19', 'COVID19', 'COVID19', 'COVID19', 'COVID19', 'Eswatini', 'COVID19', 'COVID19', 'COVID19', 'StayAtHome', 'COVID19', 'COVID19', 'COVID19', 'COVID19', 'COVID19', 'COVID19', 'COVID19', 'COVID19', 'COVID19', 'COVID19', 'COVID19', 'COVID19', 'StayAtHome', 'COVID19', 'COVID19', 'COVID19', 'COVID19', 'COVID19', 'COVID19', 'COVID19', 'COVID19', 'COVID19', 'Easter', 'COVID19', 'COVID19', 'Easter', 'COVID19', 'COVID19', 'Eswatini', 'GoodFriday', 'GoodFriday', 'StayHome', 'COVID19', 'EasterHolidays', 'StayAtHome', 'COVID19', 'COVID19', 'COVID19', 'COVID19', 'COVID19', 'COVID19', 'COVID19', 'COVID19', 'COVID19', 'StayHome', 'COVID19', 'COVID19', 'COVID19', 'COVID19', 'COVID19', 'COVID19', 'COVID19', 'COVID19', 'COVID19', 'COVID19', 'COVID19', 'COVID19', 'COVID19', 'COVID19', 'COVID19', 'COVID19', 'COVID19', 'COVID19', 'COVID19', 'COVID19', 'COVID19', 'COVID19', 'COVID19', 'COVID19', 'COVID19', 'COVID19', 'COVID19', 'StayHome', 'COVID19', 'COVID19', 'COVID19', 'COVID19', 'COVID19', 'GodHealOurLand', 'COVID19', 'COVID19', 'COVID19', 'EarthHour', 'covid19', 'COVID19', 'COVID19', 'COVID19', 'Coronavirus', 'AllHandsOnDeck', 'Taiwan', 'COVID19', 'StaySafe', 'COVID19', 'SocialDistancing', 'Coronavirus', 'DontBeASpreader', 'CoronaVirusOutbreak', 'COVID19', 'COVID19', 'COVID19', 'COVID19', 'COVID19', 'COVID19', 'COVID19', 'COVID19', 'COVID19', 'COVID19', 'COVID19', 'COVID19', 'ResourceMobilisation', 'COVID19', 'COVID19', 'COVID19', 'COVID19', 'COVID19', 'COVID19', 'COVID19', 'COVID19', 'COVID19', 'COVID19', 'COVID19', 'COVID19', 'COVID19', 'COVID19', 'COVID19', 'COVID19', 'COVID19', 'COVID19', 'COVID19', 'COVID19', 'COVID19', 'COVID19', 'COVID19', 'COVID19', 'COVID19', 'COVID19', 'COVID19', 'Covid_19', 'Covid_19', 'Covid_19', 'Covid_19', 'COVID19', 'COVID19', 'Eswatini', 'InternationalWomensDay', 'Phezukomkhono', 'Culture', 'IngwenyamaCup', 'Soccer', 'GreenMamba', 'MbabaneHighlanders', 'Eswatini', 'Eswatini', 'Eswatini', 'MarulaFestival2020', 'BuganuFestival', 'MarulaFestival2020', 'MarulaFestival2020', 'MarulaFestival2020', 'EswatiniCulture', 'MarulaFestival2020', 'MarulaFestival2020', 'MarulaFestival2020', 'MarulaFestival', 'MarulaFestival2020', 'VisitEswatini', 'MarulaFestival2020', 'BottomLineSABC', 'BudgetSpeech2020', 'BudgetSpeech2020', 'BudgetSpeech2020', 'BudgetSpeech2020', 'BudgetSpeech2020', 'BudgetSpeech2020', 'MarulaFestival', 'Marulafestival', 'Eswatiniculture', 'VisitEswatini', 'MarulaFestival', 'marulafestival', 'SpeechfromtheThrone2020', 'eSwatini', 'Form5Results', 'DidYouKnow', 'ECOT', 'Eswatini', 'Swaziland', 'JCResults2019', 'JCResults2019', 'Incwala2019', 'AdventureTime', 'Eswatini', 'Incwala2019', 'Eswatini', 'Incwala', 'WorldAIDSDay', 'CleanEswatini', 'cyberaware', 'cybersmart', 'cybersmart', 'cyberaware', 'cyberaware', 'cybersmart', 'COVID19', 'CORONAVIRUS', 'StaySafe', 'Malawi', 'MalawiCabinet', 'MalawiCabinet', 'MalawiCabinet', 'MalawiCabinet', 'MalawiCabinet', 'MalawiCabinet', 'IndependenceDay', 'Malawi', 'InaugurationMalawi2020', 'InaugurationMalawi2020', 'InaugurationMalawi2020', 'InaugurationMalawi2020', 'InaugurationMalawi2020', 'InaugurationMalawi2020', 'Malawi', 'InaugurationMalawi2020', 'InaugurationMalawi2020', 'Malawi', 'InaugurationMalawi2020', 'COVID19', 'InaugurationMalawi2020', 'Malawi', 'IndependenceDay', 'MalawiInauguration2020', '56thIndependence', 'COVID19', 'PresidentSpecialAddress', 'MALAWI', 'SADC', 'Malawi', 'Malawi', 'Malawi', 'PresidentialSwearingIn', 'Malawi', 'Malawi', 'PresidentialSwearingIn', 'Malawi', 'PresidentialSwearingIn', 'PresidentialSwearingIn', 'PresidentialSwearingIn', 'PresidentialSwearingIn', 'PresidentialSweatingIn', 'MalawiHasDecided', 'Malawi', 'MalawiDecides2020', 'FPE2020', 'MalawiDecides2020', 'FPE2020', 'MalawiDecides2020', 'FPE2020', 'MalawiDecides2020', 'FPE2020', 'MalawiDecides2020', 'FPE2020', 'MalawiDecides2020', 'FPE2020', 'MalawiDecides2020', 'FPE2020', 'MalawiDecides2020', 'FPE2020', 'MalawiDecides2020', 'FPE2020', 'MalawiDecides2020', 'FPE2020', 'MalawiDecides2020', 'FPE2020', 'MalawiDecides2020', 'FPE2020', 'MalawiDecides2020', 'FPE2020', 'MalawiDecides2020', 'MECPRESSER', 'FPE2020', 'MalawiDecides2020', 'FPE2020', 'MalawiDecides2020', 'MECPRESSER', 'FPE2020', 'MalawiDecides2020', 'FPE2020', 'MalawiDecides2020', 'FPE2020', 'MalawiDecides2020', 'FPE2020', 'MalawiDecides2020', 'Covid_19', 'CoronaVirus', 'COVID19', 'Malawi', 'COVID19', 'Education', 'BasicEducation', 'COVID19', 'Malawi', 'CoronaVirus', 'COVID19', 'CoronaVirus', 'Malawi', 'COVID19', 'Malawi', 'COVID19', 'Coronavirus', 'CoronaVirus', 'COVID19', 'onlinelearning', 'onlinelearning', 'onlinelearning', 'DigitalLiteracy', 'COVID19', 'coronavirus', 'COVID19', 'COVID19', 'coronavirus', 'Covid_19', 'Malawi', 'coronavirus', 'COVID19', 'Covid_19', 'COVID19', 'CoronaVirus', 'COVID19', 'Malawi', 'COVID19', 'CoronaVirus', 'COVIDー19', 'coronavirus', 'CoronaVirus', 'COVID19', 'COVID19', 'CoronaVirus', 'Malawi', 'COVID19', 'CoronaVirus', 'COVID19', 'Malaw', 'COVID19', 'Malawi', 'COVID19', 'Malawi', 'Coronavirus', 'coronavirus', 'Covid19', 'COVID19', 'Malawi', 'coronavirus', 'COVID19', 'COVID19', 'CoronaVirus', 'COVID19', 'CoronaVirus', 'Malawi', 'Malawi', 'COVID19', 'CoronaVirus', 'CoronaVirus', 'Malawi', 'CoronaVirus', 'COVID19', 'COVID19', 'CORONAVIRUS', 'CoronaVirus', 'COVID19', 'CoronaVirus', 'CoronaVirus', 'COVID19', 'MALAWI', 'COVID19', 'CORONAVIRUS', 'MALAWI', 'COVID19', 'CORONAVIRUS', 'CoronaVirus', 'COVID19', 'CORONAVIRUS', 'COVID19', 'Malawi', 'Malawi', 'CoronaVirus', 'COVID19', 'CORONAVIRUS', 'covid', 'COVID19', 'CoronaVirus', 'CoronaVirus', 'CoronaVirus', 'COVID19', 'CoronaVirus', 'COVID19', 'cornoravirus', 'COVID19', 'COVID19', 'COVID19', 'Malawi', 'Vision2020Successor', 'VisionMw', 'Vision2020Successor', 'Vision2020Successor', 'VisionMw', 'Vision2020Successor', 'Vision2020Successor', 'VisionMw', 'Vision2020Successor', 'Vision2020Successor', 'VisionMw', 'Vision2020Successor', 'VisionMw', 'Vision2020Successor', 'VisionMw', 'Vision2020Successor', 'Vision2020Successor', 'VisionMw', 'Malawi', 'Vision2020Successor', 'VisionMw', 'Vision2020', 'Vision2020', 'Vision2020', 'Vision2020', 'Vision2020Successor', 'VisionMw', 'Vision2020Successor', 'VisionMw', 'Vision2020', 'Vision2020Successor', 'Vision2020Successor', 'Vision2020', 'Vision2020', 'Vision2020Successor', 'Vision2020Successor', 'Malawi', 'Vision2020Successor', 'VisionMw', 'VisionMw', 'Vision2020Successor', 'Vision2020', 'Vision2020Successor', 'Vision2020', 'Vision2020', 'Vision2020Successor', 'Vision2020', 'Vision2020Successor', 'Malawi', 'WarmHeartOfAfrica', 'WarmHeartOfAfrica', 'Malawi', 'Rainfall', 'Malawi', 'Health', 'Population', 'Parliament', 'Malawi', 'Japanese', 'Malawi', 'Malawi', 'Rwanda', 'USA', 'MAIZE', 'London', 'Malawi', 'Health', 'Population', 'Coronavirus', 'UKAfricaInvestmentSummit', 'Malawi', 'London', 'London', 'UK', 'London', 'Malawi', 'WarmHeartOfAfrica', 'Drone', 'Malawi', 'London', 'UK', 'Malawians', 'LakeMalawi', 'Lions', 'Malawi', 'WarmHeartOfAfrica', 'Malawi', 'Israel', 'Scholarships', 'Malawi', 'WarmHeartOfAfrica', 'Malawians', 'AGCOMLaunch', 'AGCOMLaunch', 'AGCOM', 'Malawi', 'Petrol', 'Diesel', 'Paraffin', 'WarmHeartofAfrica', 'Malawi', 'WarmHeartOfAfrica', 'Malawi', 'Malawi', 'Japan', 'Malawi', 'WarmHeartOfAfrica', 'Tourism', 'PEACE', 'LOVE', 'Beautiful', 'LakeMalawi', 'Malawi', 'Malawi', 'UN', 'Congratulations', 'LakeMalawi', 'Malawi', 'WarmHeartOfAfrica', 'children', 'Christmas', 'UNFPAMalawi', 'KFW', 'Malawi', 'Malawi', 'Christmas', 'Party', 'UK', 'UKAfricaSummit', 'Malawi', 'DRC', 'Hotel', 'Inn', 'Lodge', 'Malawi', 'Tourism', '2019PROsRetreat', 'SadcMediaAwards', 'SadcMediaAwards2019', 'SadcMediaAwards2019', 'Scholarships', 'Malawian', 'Malawi', '16DaysOfActivism', 'Spain', 'SDGs', 'HLPF2020', 'Malawi', 'ClimateChange', 'Spain', 'ClimateChangeIsReal', 'Malawi', 'Malawi', 'LastMileRuralConnectivity', 'journalism', 'Malawi', 'Zimbabwe', 'Malawi', 'EducationForAll', 'China', 'Malawi', 'Malawi', 'AFCON2021', 'Rhinos', 'WarmHeartOfAfrica', 'ICT', 'RemembranceDay', 'ICT', 'Beijing', 'Russia', 'Sochi', 'Malawi', 'Information', 'Communications', 'Technology', 'Malawi', 'AU', 'Agriculture', 'Tanzania', 'Malawi', 'Malawi', 'African', 'RussiaAfricaSummit', 'RUSSIAAFRICA', 'Russia', 'Russia', 'Malawi', 'Malawi', 'WaterForAll', 'Ebola', 'MBC', 'Sussex', 'RoyalVisitMalawi', 'PrinceHarry', 'SussexRoyalTour', 'RoyalVisitMalawi', 'RoyalVisitMalawi', 'RoyalVisitAfrica', 'Sussex', 'PrinceHarry', 'RIPMathewTalbot', 'PrinceHarry', 'Sussex', 'PrinceHarry', 'Sussex', 'Malawi', 'Sussex', 'Malawi', 'PrinceHarry', 'RoyalVisitMalawi', 'USA', 'MalawiChina', 'UN', 'SDGs', 'Malawi', 'UN', 'LDC', 'UNGA', 'UNGA74', 'UNGA2019', 'UNGA19', 'WarmHeartOfAfrica', 'Development', 'Energy', 'USA', 'UNGA2019', 'USA', 'UNGA74', 'UNGA2019', 'UNGA74', 'MalawiChina', 'Malawi', 'Zimbabwe', 'Malawi', 'Botswana', 'Malawi', 'MissAlbinism', 'Malawi', 'MissAlbinism', 'Zimbabwe', 'Education', 'Malawi', 'Zimbabwe', 'Vatican', 'Malawi', 'Zambia', 'Malawi', 'TheWarmHeartOfAfrica', 'EnukweniTelecentreOpening', 'ICT', 'Malawi', 'COMMUNIQUE', 'SadcSummit2019', 'ElectricityInterconnector', 'Malawi', 'Mozambique', 'SadcSummit2019', 'Malawi', 'SadcSummit2019', 'Malawi', 'Tanzania', 'Tanzania', 'Agriculture', 'Irrigation', 'Water', 'Development', 'SadcSummit2019', 'Malawi', 'Malawi', 'Peace', 'Africa', 'India', 'Malawi', 'Malawi', 'EndHumanTrafficking', 'WarmHeartOfAfrica', 'Malawi', 'Malawi', 'Malawi', 'ToughLuckMalawiQueens', 'ProudOfYourEffort', 'CongratsQueens', 'HeForSheBaton', 'Malawi', 'Malawi', 'Malawi', 'Malawi', 'AU', 'Malawi', 'Malawi', 'SAfmTalkingPoint', 'sabcnews', 'COMESA', 'Malawi', 'Malawi', 'Zambian', 'Malawi', 'AU', 'AfCTA', 'Unity', 'FreeTrade', 'IndependenceDay', 'MalawiAt55', 'IndependenceDay', 'MalawiAt55', 'IndependenceDay', 'MalawiAt55', 'IndependenceDay', 'MalawiAt55', 'IndependenceDay', 'MalawiAt55', 'MalawiAt55', 'IndependenceDay', 'IndependenceDay', 'MalawiAt55', 'IndependenceDay', 'MalawiAt55', 'IndependenceDay', 'IndependenceDay', 'MalawiAt55', 'IndendenceDay', 'MalawiAt55', 'IndendenceDay', 'MalawiAt55', 'IndendenceDay', 'MalawiAt55', 'IndependenceDay', 'IndependenceDay', 'MalawiAt55', 'Malawi', 'IndependeceDay', 'MalawiAt55', 'IndependenceDay', 'MalawiAt55', 'IndependenceDay', 'MalawiAt55', 'IndependenceDay', 'MalawiAt55', 'IndependenceDay', 'MalawiAt55', 'IndependenceDay', 'MalawiAt55', 'IndependenceDay', 'MalawiAt55', 'IndependenceDay', 'MalawiAt55', 'IndependenceDay', 'IndendenceDay', 'MalawiAt55', 'IndependenceDay', 'MalawiAt55', 'IndependenceDay', 'MalawiAt55', 'MalawiAt55', 'IndependenceDay', 'MalawiAt55', 'IndependenceDay', 'IndependenceDay', 'MalawiAt55', 'IndependnceDay', 'MalawiAt55', 'IndependenceDay', 'MalawiAt55', 'IndependeceDay']\n",
      "         gov mentions\n",
      "0             COVID19\n",
      "1             COVID19\n",
      "2             COVID19\n",
      "3             COVID19\n",
      "4             COVID19\n",
      "5             COVID19\n",
      "6             COVID19\n",
      "7             COVID19\n",
      "8             COVID19\n",
      "9             COVID19\n",
      "10            COVID19\n",
      "11            COVID19\n",
      "12            COVID19\n",
      "13            COVID19\n",
      "14            COVID19\n",
      "15            COVID19\n",
      "16            COVID19\n",
      "17            COVID19\n",
      "18            COVID19\n",
      "19            COVID19\n",
      "20            COVID19\n",
      "21            COVID19\n",
      "22            COVID19\n",
      "23            COVID19\n",
      "24            COVID19\n",
      "25            COVID19\n",
      "26            COVID19\n",
      "27            COVID19\n",
      "28            COVID19\n",
      "29            COVID19\n",
      "...               ...\n",
      "1003  IndependenceDay\n",
      "1004       MalawiAt55\n",
      "1005  IndependenceDay\n",
      "1006       MalawiAt55\n",
      "1007  IndependenceDay\n",
      "1008       MalawiAt55\n",
      "1009  IndependenceDay\n",
      "1010       MalawiAt55\n",
      "1011  IndependenceDay\n",
      "1012       MalawiAt55\n",
      "1013  IndependenceDay\n",
      "1014       MalawiAt55\n",
      "1015  IndependenceDay\n",
      "1016    IndendenceDay\n",
      "1017       MalawiAt55\n",
      "1018  IndependenceDay\n",
      "1019       MalawiAt55\n",
      "1020  IndependenceDay\n",
      "1021       MalawiAt55\n",
      "1022       MalawiAt55\n",
      "1023  IndependenceDay\n",
      "1024       MalawiAt55\n",
      "1025  IndependenceDay\n",
      "1026  IndependenceDay\n",
      "1027       MalawiAt55\n",
      "1028   IndependnceDay\n",
      "1029       MalawiAt55\n",
      "1030  IndependenceDay\n",
      "1031       MalawiAt55\n",
      "1032   IndependeceDay\n",
      "\n",
      "[1033 rows x 1 columns]\n"
     ]
    }
   ],
   "source": [
    "hashtags=[]\n",
    "if len(fl_handles) > 0:\n",
    "    for handle in fl_handles:\n",
    "        value_list = {}\n",
    "        #print(\"Getting hashtags for \" + handle)\n",
    "        # this helps avoid Tweepy errors like suspended users or user not found errors\n",
    "        try:\n",
    "            for status in tweepy.Cursor(api.user_timeline, id=handle).items():\n",
    "                if hasattr(status, \"entities\"):\n",
    "                    entities = status.entities\n",
    "                    if 'hashtags' in entities:\n",
    "                        for ent in entities['hashtags']:\n",
    "                            if ent is not None:\n",
    "                                if \"text\" in ent:\n",
    "                                    hashtag = ent[\"text\"]\n",
    "                                    if hashtag is not None:\n",
    "                                        hashtags.append(hashtag)\n",
    "        except tweepy.TweepError as e:\n",
    "            continue\n",
    "print(hashtags)\n",
    "infl_hashtag = pd.DataFrame(hashtags, columns=[\"gov mentions\"])\n",
    "print(infl_hashtag)\n",
    "\n",
    "\n",
    "                    "
   ]
  },
  {
   "cell_type": "code",
   "execution_count": null,
   "metadata": {},
   "outputs": [],
   "source": []
  },
  {
   "cell_type": "code",
   "execution_count": 69,
   "metadata": {
    "colab": {},
    "colab_type": "code",
    "id": "lQiYphObh1hj"
   },
   "outputs": [
    {
     "name": "stdout",
     "output_type": "stream",
     "text": [
      "['covid19', 'covid19', 'covid19', 'covid19', 'covid19', 'covid19', 'covid19', 'covid19', 'covid19', 'covid19', 'covid19', 'covid19', 'covid19', 'covid19', 'covid19', 'covid19', 'covid19', 'covid19', 'covid19', 'covid19', 'covid19', 'covid19', 'covid19', 'covid19', 'covid19', 'covid19', 'covid19', 'covid19', 'covid19', 'covid19', 'covid19', 'covid19', 'covid19', 'covid19', 'covid19', 'covid19', 'covid19', 'covid19', 'covid19', 'covid19', 'covid19', 'hiv', 'hiv', 'eswatini', 'covid19', 'covid19', 'covid19', 'covid19', 'covid19', 'covid19', 'covid19', 'covid19', 'covid19', 'covid19', 'covid19', 'covid19', 'covid19', 'covid19', 'covid19', 'covid19', 'covid19', 'covid19', 'covid19', 'covid19', 'covid19', 'covid19', 'covid19', 'covid19', 'covid19', 'covid19', 'covid19', 'covid19', 'covid19', 'covid19', 'covid19', 'covid19', 'covid19', 'covid19', 'covid19', 'covid19', 'covid19', 'covid19', 'covid19', 'covid19', 'covid19', 'covid19', 'worldrefugeeday', 'covid19', 'covid19', 'covid19', 'covid19', 'covid19', 'covid19', 'covid19', 'covid19', 'covid19', 'worldblooddonorday', 'worldblooddonorday', 'covid19', 'covid19', 'covid19', 'covid19', 'covid19', 'covid19', 'covid19', 'covid19', 'covid19', 'covid19', 'covid19', 'covid19', 'covid19', 'covid19', 'covid19', 'covid19', 'covid19', 'covid19', 'covid19', 'covid19', 'covid19', 'covid19', 'covid19', 'covid19', 'covid19', 'covid19', 'covid19', 'covid19', 'covid19', 'covid19', 'covid19', 'covid19', 'covid19', 'covid19', 'covid19', 'covid19', 'covid19', 'covid19', 'covid19', 'covid19', 'covid19', 'covid19', 'covid19', 'covid19', 'covid19', 'covid19', 'covid19', 'covid19', 'africaday', 'covid19', 'covid19', 'covid19', 'covid19', 'covid19', 'covid19', 'covid19', 'covid19', 'covid19', 'covid19', 'covid19', 'covid19', 'covid19', 'taiwan520', 'covid19', 'covid19', 'covid19', 'covid19', 'covid19', 'covid19', 'covid19', 'covid19', 'covid19', 'covid19', 'covid19', 'covid19', 'covid19', 'covid19', 'covid19', 'covid19', 'covid19', 'covid19', 'covid19', 'covid19', 'covid19', 'covid19', 'covid19', 'stayhome', 'covid19', 'covid19', 'covid19', 'covid19', 'covid19', 'covid19', 'covid19', 'covid19', 'covid19', 'covid19', 'covid19', 'covid19', 'covid19', 'covid19', 'covid19', 'covid19', 'covid19', 'covid19', 'covid19', 'covid19', 'covid19', 'covid19', 'covid19', 'covid19', 'covid19', 'covid19', 'covid19', 'covid19', 'covid19', 'covid19', 'taiwancanhelp', '52yearsoffriendship', 'taiwancanhelp', '52yearsoffriendship', 'taiwancanhelp', '52yearsoffriendship', 'covid19', 'workersday', 'covid19', 'covid19', 'covid19', 'covid19', 'covid19', 'covid19', 'covid19', 'covid19', 'covid19', 'covid19', 'covid19', 'covid19', 'covid19', 'covid19', 'covid19', 'covid19', 'covid19', 'covid19', 'covid19', 'covid19', 'covid19', 'greetlikethepm', 'staysafe', 'stayathome', 'eswatininationalflag', 'covid19', 'covid19', 'covid19', 'covid19', 'covid19', 'covid19', 'covid19', 'covid19', 'covid19', 'covid19', 'covid19', 'covid19', 'covid19', 'covid19', 'covid19', 'covid19', 'eswatini', 'covid19', 'covid19', 'covid19', 'stayathome', 'covid19', 'covid19', 'covid19', 'covid19', 'covid19', 'covid19', 'covid19', 'covid19', 'covid19', 'covid19', 'covid19', 'covid19', 'stayathome', 'covid19', 'covid19', 'covid19', 'covid19', 'covid19', 'covid19', 'covid19', 'covid19', 'covid19', 'easter', 'covid19', 'covid19', 'easter', 'covid19', 'covid19', 'eswatini', 'goodfriday', 'goodfriday', 'stayhome', 'covid19', 'easterholidays', 'stayathome', 'covid19', 'covid19', 'covid19', 'covid19', 'covid19', 'covid19', 'covid19', 'covid19', 'covid19', 'stayhome', 'covid19', 'covid19', 'covid19', 'covid19', 'covid19', 'covid19', 'covid19', 'covid19', 'covid19', 'covid19', 'covid19', 'covid19', 'covid19', 'covid19', 'covid19', 'covid19', 'covid19', 'covid19', 'covid19', 'covid19', 'covid19', 'covid19', 'covid19', 'covid19', 'covid19', 'covid19', 'covid19', 'stayhome', 'covid19', 'covid19', 'covid19', 'covid19', 'covid19', 'godhealourland', 'covid19', 'covid19', 'covid19', 'earthhour', 'covid19', 'covid19', 'covid19', 'covid19', 'coronavirus', 'allhandsondeck', 'taiwan', 'covid19', 'staysafe', 'covid19', 'socialdistancing', 'coronavirus', 'dontbeaspreader', 'coronavirusoutbreak', 'covid19', 'covid19', 'covid19', 'covid19', 'covid19', 'covid19', 'covid19', 'covid19', 'covid19', 'covid19', 'covid19', 'covid19', 'resourcemobilisation', 'covid19', 'covid19', 'covid19', 'covid19', 'covid19', 'covid19', 'covid19', 'covid19', 'covid19', 'covid19', 'covid19', 'covid19', 'covid19', 'covid19', 'covid19', 'covid19', 'covid19', 'covid19', 'covid19', 'covid19', 'covid19', 'covid19', 'covid19', 'covid19', 'covid19', 'covid19', 'covid19', 'covid_19', 'covid_19', 'covid_19', 'covid_19', 'covid19', 'covid19', 'eswatini', 'internationalwomensday', 'phezukomkhono', 'culture', 'ingwenyamacup', 'soccer', 'greenmamba', 'mbabanehighlanders', 'eswatini', 'eswatini', 'eswatini', 'marulafestival2020', 'buganufestival', 'marulafestival2020', 'marulafestival2020', 'marulafestival2020', 'eswatiniculture', 'marulafestival2020', 'marulafestival2020', 'marulafestival2020', 'marulafestival', 'marulafestival2020', 'visiteswatini', 'marulafestival2020', 'bottomlinesabc', 'budgetspeech2020', 'budgetspeech2020', 'budgetspeech2020', 'budgetspeech2020', 'budgetspeech2020', 'budgetspeech2020', 'marulafestival', 'marulafestival', 'eswatiniculture', 'visiteswatini', 'marulafestival', 'marulafestival', 'speechfromthethrone2020', 'eswatini', 'form5results', 'didyouknow', 'ecot', 'eswatini', 'swaziland', 'jcresults2019', 'jcresults2019', 'incwala2019', 'adventuretime', 'eswatini', 'incwala2019', 'eswatini', 'incwala', 'worldaidsday', 'cleaneswatini', 'cyberaware', 'cybersmart', 'cybersmart', 'cyberaware', 'cyberaware', 'cybersmart', 'covid19', 'coronavirus', 'staysafe', 'malawi', 'malawicabinet', 'malawicabinet', 'malawicabinet', 'malawicabinet', 'malawicabinet', 'malawicabinet', 'independenceday', 'malawi', 'inaugurationmalawi2020', 'inaugurationmalawi2020', 'inaugurationmalawi2020', 'inaugurationmalawi2020', 'inaugurationmalawi2020', 'inaugurationmalawi2020', 'malawi', 'inaugurationmalawi2020', 'inaugurationmalawi2020', 'malawi', 'inaugurationmalawi2020', 'covid19', 'inaugurationmalawi2020', 'malawi', 'independenceday', 'malawiinauguration2020', '56thindependence', 'covid19', 'presidentspecialaddress', 'malawi', 'sadc', 'malawi', 'malawi', 'malawi', 'presidentialswearingin', 'malawi', 'malawi', 'presidentialswearingin', 'malawi', 'presidentialswearingin', 'presidentialswearingin', 'presidentialswearingin', 'presidentialswearingin', 'presidentialsweatingin', 'malawihasdecided', 'malawi', 'malawidecides2020', 'fpe2020', 'malawidecides2020', 'fpe2020', 'malawidecides2020', 'fpe2020', 'malawidecides2020', 'fpe2020', 'malawidecides2020', 'fpe2020', 'malawidecides2020', 'fpe2020', 'malawidecides2020', 'fpe2020', 'malawidecides2020', 'fpe2020', 'malawidecides2020', 'fpe2020', 'malawidecides2020', 'fpe2020', 'malawidecides2020', 'fpe2020', 'malawidecides2020', 'fpe2020', 'malawidecides2020', 'fpe2020', 'malawidecides2020', 'mecpresser', 'fpe2020', 'malawidecides2020', 'fpe2020', 'malawidecides2020', 'mecpresser', 'fpe2020', 'malawidecides2020', 'fpe2020', 'malawidecides2020', 'fpe2020', 'malawidecides2020', 'fpe2020', 'malawidecides2020', 'covid_19', 'coronavirus', 'covid19', 'malawi', 'covid19', 'education', 'basiceducation', 'covid19', 'malawi', 'coronavirus', 'covid19', 'coronavirus', 'malawi', 'covid19', 'malawi', 'covid19', 'coronavirus', 'coronavirus', 'covid19', 'onlinelearning', 'onlinelearning', 'onlinelearning', 'digitalliteracy', 'covid19', 'coronavirus', 'covid19', 'covid19', 'coronavirus', 'covid_19', 'malawi', 'coronavirus', 'covid19', 'covid_19', 'covid19', 'coronavirus', 'covid19', 'malawi', 'covid19', 'coronavirus', 'covidー19', 'coronavirus', 'coronavirus', 'covid19', 'covid19', 'coronavirus', 'malawi', 'covid19', 'coronavirus', 'covid19', 'malaw', 'covid19', 'malawi', 'covid19', 'malawi', 'coronavirus', 'coronavirus', 'covid19', 'covid19', 'malawi', 'coronavirus', 'covid19', 'covid19', 'coronavirus', 'covid19', 'coronavirus', 'malawi', 'malawi', 'covid19', 'coronavirus', 'coronavirus', 'malawi', 'coronavirus', 'covid19', 'covid19', 'coronavirus', 'coronavirus', 'covid19', 'coronavirus', 'coronavirus', 'covid19', 'malawi', 'covid19', 'coronavirus', 'malawi', 'covid19', 'coronavirus', 'coronavirus', 'covid19', 'coronavirus', 'covid19', 'malawi', 'malawi', 'coronavirus', 'covid19', 'coronavirus', 'covid', 'covid19', 'coronavirus', 'coronavirus', 'coronavirus', 'covid19', 'coronavirus', 'covid19', 'cornoravirus', 'covid19', 'covid19', 'covid19', 'malawi', 'vision2020successor', 'visionmw', 'vision2020successor', 'vision2020successor', 'visionmw', 'vision2020successor', 'vision2020successor', 'visionmw', 'vision2020successor', 'vision2020successor', 'visionmw', 'vision2020successor', 'visionmw', 'vision2020successor', 'visionmw', 'vision2020successor', 'vision2020successor', 'visionmw', 'malawi', 'vision2020successor', 'visionmw', 'vision2020', 'vision2020', 'vision2020', 'vision2020', 'vision2020successor', 'visionmw', 'vision2020successor', 'visionmw', 'vision2020', 'vision2020successor', 'vision2020successor', 'vision2020', 'vision2020', 'vision2020successor', 'vision2020successor', 'malawi', 'vision2020successor', 'visionmw', 'visionmw', 'vision2020successor', 'vision2020', 'vision2020successor', 'vision2020', 'vision2020', 'vision2020successor', 'vision2020', 'vision2020successor', 'malawi', 'warmheartofafrica', 'warmheartofafrica', 'malawi', 'rainfall', 'malawi', 'health', 'population', 'parliament', 'malawi', 'japanese', 'malawi', 'malawi', 'rwanda', 'usa', 'maize', 'london', 'malawi', 'health', 'population', 'coronavirus', 'ukafricainvestmentsummit', 'malawi', 'london', 'london', 'uk', 'london', 'malawi', 'warmheartofafrica', 'drone', 'malawi', 'london', 'uk', 'malawians', 'lakemalawi', 'lions', 'malawi', 'warmheartofafrica', 'malawi', 'israel', 'scholarships', 'malawi', 'warmheartofafrica', 'malawians', 'agcomlaunch', 'agcomlaunch', 'agcom', 'malawi', 'petrol', 'diesel', 'paraffin', 'warmheartofafrica', 'malawi', 'warmheartofafrica', 'malawi', 'malawi', 'japan', 'malawi', 'warmheartofafrica', 'tourism', 'peace', 'love', 'beautiful', 'lakemalawi', 'malawi', 'malawi', 'un', 'congratulations', 'lakemalawi', 'malawi', 'warmheartofafrica', 'children', 'christmas', 'unfpamalawi', 'kfw', 'malawi', 'malawi', 'christmas', 'party', 'uk', 'ukafricasummit', 'malawi', 'drc', 'hotel', 'inn', 'lodge', 'malawi', 'tourism', '2019prosretreat', 'sadcmediaawards', 'sadcmediaawards2019', 'sadcmediaawards2019', 'scholarships', 'malawian', 'malawi', '16daysofactivism', 'spain', 'sdgs', 'hlpf2020', 'malawi', 'climatechange', 'spain', 'climatechangeisreal', 'malawi', 'malawi', 'lastmileruralconnectivity', 'journalism', 'malawi', 'zimbabwe', 'malawi', 'educationforall', 'china', 'malawi', 'malawi', 'afcon2021', 'rhinos', 'warmheartofafrica', 'ict', 'remembranceday', 'ict', 'beijing', 'russia', 'sochi', 'malawi', 'information', 'communications', 'technology', 'malawi', 'au', 'agriculture', 'tanzania', 'malawi', 'malawi', 'african', 'russiaafricasummit', 'russiaafrica', 'russia', 'russia', 'malawi', 'malawi', 'waterforall', 'ebola', 'mbc', 'sussex', 'royalvisitmalawi', 'princeharry', 'sussexroyaltour', 'royalvisitmalawi', 'royalvisitmalawi', 'royalvisitafrica', 'sussex', 'princeharry', 'ripmathewtalbot', 'princeharry', 'sussex', 'princeharry', 'sussex', 'malawi', 'sussex', 'malawi', 'princeharry', 'royalvisitmalawi', 'usa', 'malawichina', 'un', 'sdgs', 'malawi', 'un', 'ldc', 'unga', 'unga74', 'unga2019', 'unga19', 'warmheartofafrica', 'development', 'energy', 'usa', 'unga2019', 'usa', 'unga74', 'unga2019', 'unga74', 'malawichina', 'malawi', 'zimbabwe', 'malawi', 'botswana', 'malawi', 'missalbinism', 'malawi', 'missalbinism', 'zimbabwe', 'education', 'malawi', 'zimbabwe', 'vatican', 'malawi', 'zambia', 'malawi', 'thewarmheartofafrica', 'enukwenitelecentreopening', 'ict', 'malawi', 'communique', 'sadcsummit2019', 'electricityinterconnector', 'malawi', 'mozambique', 'sadcsummit2019', 'malawi', 'sadcsummit2019', 'malawi', 'tanzania', 'tanzania', 'agriculture', 'irrigation', 'water', 'development', 'sadcsummit2019', 'malawi', 'malawi', 'peace', 'africa', 'india', 'malawi', 'malawi', 'endhumantrafficking', 'warmheartofafrica', 'malawi', 'malawi', 'malawi', 'toughluckmalawiqueens', 'proudofyoureffort', 'congratsqueens', 'heforshebaton', 'malawi', 'malawi', 'malawi', 'malawi', 'au', 'malawi', 'malawi', 'safmtalkingpoint', 'sabcnews', 'comesa', 'malawi', 'malawi', 'zambian', 'malawi', 'au', 'afcta', 'unity', 'freetrade', 'independenceday', 'malawiat55', 'independenceday', 'malawiat55', 'independenceday', 'malawiat55', 'independenceday', 'malawiat55', 'independenceday', 'malawiat55', 'malawiat55', 'independenceday', 'independenceday', 'malawiat55', 'independenceday', 'malawiat55', 'independenceday', 'independenceday', 'malawiat55', 'indendenceday', 'malawiat55', 'indendenceday', 'malawiat55', 'indendenceday', 'malawiat55', 'independenceday', 'independenceday', 'malawiat55', 'malawi', 'independeceday', 'malawiat55', 'independenceday', 'malawiat55', 'independenceday', 'malawiat55', 'independenceday', 'malawiat55', 'independenceday', 'malawiat55', 'independenceday', 'malawiat55', 'independenceday', 'malawiat55', 'independenceday', 'malawiat55', 'independenceday', 'indendenceday', 'malawiat55', 'independenceday', 'malawiat55', 'independenceday', 'malawiat55', 'malawiat55', 'independenceday', 'malawiat55', 'independenceday', 'independenceday', 'malawiat55', 'independnceday', 'malawiat55', 'independenceday', 'malawiat55', 'independeceday']\n",
      "Counter({'covid19': 408, 'malawi': 103, 'coronavirus': 40, 'malawiat55': 29, 'independenceday': 28, 'vision2020successor': 23, 'malawidecides2020': 20, 'fpe2020': 19, 'visionmw': 12, 'warmheartofafrica': 12, 'eswatini': 11, 'vision2020': 11, 'inaugurationmalawi2020': 10, 'marulafestival2020': 9, 'covid_19': 7, 'budgetspeech2020': 6, 'malawicabinet': 6, 'presidentialswearingin': 6, 'marulafestival': 5, 'london': 5, 'sussex': 5, 'princeharry': 5, 'stayhome': 4, 'stayathome': 4, 'usa': 4, 'zimbabwe': 4, 'royalvisitmalawi': 4, 'sadcsummit2019': 4, 'indendenceday': 4, 'taiwancanhelp': 3, '52yearsoffriendship': 3, 'staysafe': 3, 'cyberaware': 3, 'cybersmart': 3, 'onlinelearning': 3, 'uk': 3, 'lakemalawi': 3, 'un': 3, 'ict': 3, 'russia': 3, 'au': 3, 'tanzania': 3, 'unga74': 3, 'unga2019': 3, 'hiv': 2, 'worldblooddonorday': 2, 'easter': 2, 'goodfriday': 2, 'eswatiniculture': 2, 'visiteswatini': 2, 'jcresults2019': 2, 'incwala2019': 2, 'mecpresser': 2, 'education': 2, 'health': 2, 'population': 2, 'malawians': 2, 'scholarships': 2, 'agcomlaunch': 2, 'tourism': 2, 'peace': 2, 'christmas': 2, 'sadcmediaawards2019': 2, 'spain': 2, 'sdgs': 2, 'agriculture': 2, 'malawichina': 2, 'development': 2, 'missalbinism': 2, 'independeceday': 2, 'worldrefugeeday': 1, 'africaday': 1, 'taiwan520': 1, 'workersday': 1, 'greetlikethepm': 1, 'eswatininationalflag': 1, 'easterholidays': 1, 'godhealourland': 1, 'earthhour': 1, 'allhandsondeck': 1, 'taiwan': 1, 'socialdistancing': 1, 'dontbeaspreader': 1, 'coronavirusoutbreak': 1, 'resourcemobilisation': 1, 'internationalwomensday': 1, 'phezukomkhono': 1, 'culture': 1, 'ingwenyamacup': 1, 'soccer': 1, 'greenmamba': 1, 'mbabanehighlanders': 1, 'buganufestival': 1, 'bottomlinesabc': 1, 'speechfromthethrone2020': 1, 'form5results': 1, 'didyouknow': 1, 'ecot': 1, 'swaziland': 1, 'adventuretime': 1, 'incwala': 1, 'worldaidsday': 1, 'cleaneswatini': 1, 'malawiinauguration2020': 1, '56thindependence': 1, 'presidentspecialaddress': 1, 'sadc': 1, 'presidentialsweatingin': 1, 'malawihasdecided': 1, 'basiceducation': 1, 'digitalliteracy': 1, 'covidー19': 1, 'malaw': 1, 'covid': 1, 'cornoravirus': 1, 'rainfall': 1, 'parliament': 1, 'japanese': 1, 'rwanda': 1, 'maize': 1, 'ukafricainvestmentsummit': 1, 'drone': 1, 'lions': 1, 'israel': 1, 'agcom': 1, 'petrol': 1, 'diesel': 1, 'paraffin': 1, 'japan': 1, 'love': 1, 'beautiful': 1, 'congratulations': 1, 'children': 1, 'unfpamalawi': 1, 'kfw': 1, 'party': 1, 'ukafricasummit': 1, 'drc': 1, 'hotel': 1, 'inn': 1, 'lodge': 1, '2019prosretreat': 1, 'sadcmediaawards': 1, 'malawian': 1, '16daysofactivism': 1, 'hlpf2020': 1, 'climatechange': 1, 'climatechangeisreal': 1, 'lastmileruralconnectivity': 1, 'journalism': 1, 'educationforall': 1, 'china': 1, 'afcon2021': 1, 'rhinos': 1, 'remembranceday': 1, 'beijing': 1, 'sochi': 1, 'information': 1, 'communications': 1, 'technology': 1, 'african': 1, 'russiaafricasummit': 1, 'russiaafrica': 1, 'waterforall': 1, 'ebola': 1, 'mbc': 1, 'sussexroyaltour': 1, 'royalvisitafrica': 1, 'ripmathewtalbot': 1, 'ldc': 1, 'unga': 1, 'unga19': 1, 'energy': 1, 'botswana': 1, 'vatican': 1, 'zambia': 1, 'thewarmheartofafrica': 1, 'enukwenitelecentreopening': 1, 'communique': 1, 'electricityinterconnector': 1, 'mozambique': 1, 'irrigation': 1, 'water': 1, 'africa': 1, 'india': 1, 'endhumantrafficking': 1, 'toughluckmalawiqueens': 1, 'proudofyoureffort': 1, 'congratsqueens': 1, 'heforshebaton': 1, 'safmtalkingpoint': 1, 'sabcnews': 1, 'comesa': 1, 'zambian': 1, 'afcta': 1, 'unity': 1, 'freetrade': 1, 'independnceday': 1})\n",
      "              hashtags  number of count\n",
      "0              covid19              408\n",
      "1                  hiv                2\n",
      "2             eswatini               11\n",
      "3      worldrefugeeday                1\n",
      "4   worldblooddonorday                2\n",
      "5            africaday                1\n",
      "6            taiwan520                1\n",
      "7             stayhome                4\n",
      "8        taiwancanhelp                3\n",
      "9  52yearsoffriendship                3\n",
      "                   hashtags  number of count\n",
      "0                   covid19              408\n",
      "55                   malawi              103\n",
      "20              coronavirus               40\n",
      "194              malawiat55               29\n",
      "57          independenceday               28\n",
      "77      vision2020successor               23\n",
      "66        malawidecides2020               20\n",
      "67                  fpe2020               19\n",
      "78                 visionmw               12\n",
      "80        warmheartofafrica               12\n",
      "2                  eswatini               11\n",
      "79               vision2020               11\n",
      "58   inaugurationmalawi2020               10\n",
      "35       marulafestival2020                9\n",
      "27                 covid_19                7\n",
      "56            malawicabinet                6\n",
      "63   presidentialswearingin                6\n",
      "41         budgetspeech2020                6\n",
      "89                   london                5\n",
      "156             princeharry                5\n"
     ]
    }
   ],
   "source": [
    "hashtags = [item.lower() for item in hashtags]\n",
    "print(hashtags)\n",
    "from collections import Counter\n",
    "highest_number = Counter(hashtags)\n",
    "print(highest_number)\n",
    "\n",
    "#pd.set_option('display.max_rows', None)\n",
    "#pd.set_option('display.max_columns', None)\n",
    "#pd.set_option('display.width', None)\n",
    "#pd.set_option('display.max_colwidth', -1)\n",
    "\n",
    "#to convert highest_nmber dict to dataframe\n",
    "df = pd.DataFrame(highest_number.items(), columns=[\"hashtags\",\"number of count\"])\n",
    "print(df.head(10))\n",
    "df_sort = df.sort_values('number of count', ascending=False).head(20)\n",
    "print(df_sort)"
   ]
  },
  {
   "cell_type": "code",
   "execution_count": 70,
   "metadata": {},
   "outputs": [
    {
     "data": {
      "image/png": "[encoded data removed]",
      "text/plain": [
       "<Figure size 360x360 with 1 Axes>"
      ]
     },
     "metadata": {
      "needs_background": "light"
     },
     "output_type": "display_data"
    }
   ],
   "source": [
    "import matplotlib.pyplot as plt\n",
    "import seaborn as sns\n",
    "sns.catplot(x='hashtags',y='number of count', data=df_sort, kind='bar')\n",
    "plt.xticks(rotation=90)\n",
    "plt.show()"
   ]
  },
  {
   "cell_type": "markdown",
   "metadata": {
    "colab_type": "text",
    "id": "AMuXtMOQGojk"
   },
   "source": [
    "### Popularity reach\n",
    "### Reach Score\n",
    "### Relevance Score"
   ]
  },
  {
   "cell_type": "code",
   "execution_count": 63,
   "metadata": {
    "colab": {
     "base_uri": "https://localhost:8080/",
     "height": 245
    },
    "colab_type": "code",
    "executionInfo": {
     "elapsed": 1492,
     "status": "ok",
     "timestamp": 1595186534971,
     "user": {
      "displayName": "Rofiah Adeshina",
      "photoUrl": "",
      "userId": "16819728728819546989"
     },
     "user_tz": -60
    },
    "id": "-2X0qPUlGojn",
    "outputId": "c3a6651d-4048-47be-caee-3162f049999d"
   },
   "outputs": [
    {
     "name": "stdout",
     "output_type": "stream",
     "text": [
      "   No of retweets  Number of likes Gov influencers handles  Popularity_score\n",
      "0              10             64.0        @EswatiniGovern1              74.0\n",
      "1              24            915.0             @MalawiGovt             939.0\n",
      "2              34            268.0            @hagegeingob             302.0\n",
      "3              50             12.0              @FinanceSC              62.0\n",
      "4              50             64.0           @PresidencyZA             114.0\n"
     ]
    }
   ],
   "source": [
    "#popularity reach = retweets + likes\n",
    "popularity = pd.concat([gov_retweets,total_like,df_gov_handle], axis=1)\n",
    "#print(popularity)\n",
    "popularity[\"Popularity_score\"] = popularity[\"No of retweets\"]+popularity[\"Number of likes\"]\n",
    "print(popularity.head())\n",
    "\n",
    "\n",
    "\n"
   ]
  },
  {
   "cell_type": "code",
   "execution_count": 65,
   "metadata": {},
   "outputs": [
    {
     "data": {
      "text/html": [
       "<div>\n",
       "<style scoped>\n",
       "    .dataframe tbody tr th:only-of-type {\n",
       "        vertical-align: middle;\n",
       "    }\n",
       "\n",
       "    .dataframe tbody tr th {\n",
       "        vertical-align: top;\n",
       "    }\n",
       "\n",
       "    .dataframe thead th {\n",
       "        text-align: right;\n",
       "    }\n",
       "</style>\n",
       "<table border=\"1\" class=\"dataframe\">\n",
       "  <thead>\n",
       "    <tr style=\"text-align: right;\">\n",
       "      <th></th>\n",
       "      <th>No of retweets</th>\n",
       "      <th>Number of likes</th>\n",
       "      <th>Gov influencers handles</th>\n",
       "      <th>Popularity_score</th>\n",
       "    </tr>\n",
       "  </thead>\n",
       "  <tbody>\n",
       "    <tr>\n",
       "      <th>17</th>\n",
       "      <td>100</td>\n",
       "      <td>6264.0</td>\n",
       "      <td>@willynyamitwe</td>\n",
       "      <td>6364.0</td>\n",
       "    </tr>\n",
       "    <tr>\n",
       "      <th>28</th>\n",
       "      <td>112</td>\n",
       "      <td>6063.0</td>\n",
       "      <td>@USEmbalo</td>\n",
       "      <td>6175.0</td>\n",
       "    </tr>\n",
       "    <tr>\n",
       "      <th>29</th>\n",
       "      <td>113</td>\n",
       "      <td>1732.0</td>\n",
       "      <td>@PresidenceMali</td>\n",
       "      <td>1845.0</td>\n",
       "    </tr>\n",
       "    <tr>\n",
       "      <th>1</th>\n",
       "      <td>24</td>\n",
       "      <td>915.0</td>\n",
       "      <td>@MalawiGovt</td>\n",
       "      <td>939.0</td>\n",
       "    </tr>\n",
       "    <tr>\n",
       "      <th>8</th>\n",
       "      <td>78</td>\n",
       "      <td>739.0</td>\n",
       "      <td>@hawelti</td>\n",
       "      <td>817.0</td>\n",
       "    </tr>\n",
       "  </tbody>\n",
       "</table>\n",
       "</div>"
      ],
      "text/plain": [
       "    No of retweets  Number of likes Gov influencers handles  Popularity_score\n",
       "17             100           6264.0          @willynyamitwe            6364.0\n",
       "28             112           6063.0               @USEmbalo            6175.0\n",
       "29             113           1732.0         @PresidenceMali            1845.0\n",
       "1               24            915.0             @MalawiGovt             939.0\n",
       "8               78            739.0                @hawelti             817.0"
      ]
     },
     "execution_count": 65,
     "metadata": {},
     "output_type": "execute_result"
    }
   ],
   "source": [
    "popularity.sort_values(\"Popularity_score\", ascending=False).head()"
   ]
  },
  {
   "cell_type": "code",
   "execution_count": 66,
   "metadata": {
    "colab": {
     "base_uri": "https://localhost:8080/",
     "height": 212
    },
    "colab_type": "code",
    "executionInfo": {
     "elapsed": 1401,
     "status": "ok",
     "timestamp": 1595186468642,
     "user": {
      "displayName": "Rofiah Adeshina",
      "photoUrl": "",
      "userId": "16819728728819546989"
     },
     "user_tz": -60
    },
    "id": "ccyr9H0DGokI",
    "outputId": "7cee2484-dfc8-491f-f64d-b3706a0bd2dd"
   },
   "outputs": [
    {
     "name": "stdout",
     "output_type": "stream",
     "text": [
      "   Number of followers  Number of following Gov influencers handles  \\\n",
      "0              11447.0                   83        @EswatiniGovern1   \n",
      "1              39629.0                   26             @MalawiGovt   \n",
      "2             193431.0                   55            @hagegeingob   \n",
      "3                128.0                  224              @FinanceSC   \n",
      "4            1606819.0                   14           @PresidencyZA   \n",
      "\n",
      "   reach_score  \n",
      "0      11364.0  \n",
      "1      39603.0  \n",
      "2     193376.0  \n",
      "3        -96.0  \n",
      "4    1606805.0  \n"
     ]
    }
   ],
   "source": [
    "#Reach Score = followers - following\n",
    "reach = pd.concat([total_followers,gov_following,df_gov_handle], axis=1)\n",
    "reach['reach_score']= reach[\"Number of followers\"] - reach[\"Number of following\"]\n",
    "print(reach.head()) \n"
   ]
  },
  {
   "cell_type": "code",
   "execution_count": 67,
   "metadata": {},
   "outputs": [
    {
     "data": {
      "text/html": [
       "<div>\n",
       "<style scoped>\n",
       "    .dataframe tbody tr th:only-of-type {\n",
       "        vertical-align: middle;\n",
       "    }\n",
       "\n",
       "    .dataframe tbody tr th {\n",
       "        vertical-align: top;\n",
       "    }\n",
       "\n",
       "    .dataframe thead th {\n",
       "        text-align: right;\n",
       "    }\n",
       "</style>\n",
       "<table border=\"1\" class=\"dataframe\">\n",
       "  <thead>\n",
       "    <tr style=\"text-align: right;\">\n",
       "      <th></th>\n",
       "      <th>Number of followers</th>\n",
       "      <th>Number of following</th>\n",
       "      <th>Gov influencers handles</th>\n",
       "      <th>reach_score</th>\n",
       "    </tr>\n",
       "  </thead>\n",
       "  <tbody>\n",
       "    <tr>\n",
       "      <th>32</th>\n",
       "      <td>3285395.0</td>\n",
       "      <td>26</td>\n",
       "      <td>@MBuhari</td>\n",
       "      <td>3285369.0</td>\n",
       "    </tr>\n",
       "    <tr>\n",
       "      <th>10</th>\n",
       "      <td>1994578.0</td>\n",
       "      <td>181</td>\n",
       "      <td>@PaulKagame</td>\n",
       "      <td>1994397.0</td>\n",
       "    </tr>\n",
       "    <tr>\n",
       "      <th>15</th>\n",
       "      <td>1823802.0</td>\n",
       "      <td>28</td>\n",
       "      <td>@KagutaMuseveni</td>\n",
       "      <td>1823774.0</td>\n",
       "    </tr>\n",
       "    <tr>\n",
       "      <th>4</th>\n",
       "      <td>1606819.0</td>\n",
       "      <td>14</td>\n",
       "      <td>@PresidencyZA</td>\n",
       "      <td>1606805.0</td>\n",
       "    </tr>\n",
       "    <tr>\n",
       "      <th>26</th>\n",
       "      <td>1516665.0</td>\n",
       "      <td>354</td>\n",
       "      <td>@NAkufoAddo</td>\n",
       "      <td>1516311.0</td>\n",
       "    </tr>\n",
       "  </tbody>\n",
       "</table>\n",
       "</div>"
      ],
      "text/plain": [
       "    Number of followers  Number of following Gov influencers handles  \\\n",
       "32            3285395.0                   26                @MBuhari   \n",
       "10            1994578.0                  181             @PaulKagame   \n",
       "15            1823802.0                   28         @KagutaMuseveni   \n",
       "4             1606819.0                   14           @PresidencyZA   \n",
       "26            1516665.0                  354             @NAkufoAddo   \n",
       "\n",
       "    reach_score  \n",
       "32    3285369.0  \n",
       "10    1994397.0  \n",
       "15    1823774.0  \n",
       "4     1606805.0  \n",
       "26    1516311.0  "
      ]
     },
     "execution_count": 67,
     "metadata": {},
     "output_type": "execute_result"
    }
   ],
   "source": [
    "reach.sort_values(\"reach_score\", ascending=False).head()"
   ]
  },
  {
   "cell_type": "code",
   "execution_count": null,
   "metadata": {},
   "outputs": [],
   "source": []
  },
  {
   "cell_type": "code",
   "execution_count": null,
   "metadata": {
    "colab": {},
    "colab_type": "code",
    "executionInfo": {
     "elapsed": 25426,
     "status": "aborted",
     "timestamp": 1595184512324,
     "user": {
      "displayName": "Rofiah Adeshina",
      "photoUrl": "",
      "userId": "16819728728819546989"
     },
     "user_tz": -60
    },
    "id": "CZcjqFvPZzcG"
   },
   "outputs": [],
   "source": []
  },
  {
   "cell_type": "code",
   "execution_count": null,
   "metadata": {
    "colab": {},
    "colab_type": "code",
    "executionInfo": {
     "elapsed": 25420,
     "status": "aborted",
     "timestamp": 1595184512327,
     "user": {
      "displayName": "Rofiah Adeshina",
      "photoUrl": "",
      "userId": "16819728728819546989"
     },
     "user_tz": -60
    },
    "id": "-QKPJXRGGome"
   },
   "outputs": [],
   "source": []
  },
  {
   "cell_type": "markdown",
   "metadata": {
    "colab_type": "text",
    "id": "lBmhnfEwGomw"
   },
   "source": [
    "## Web scrapping using bash script\n",
    "If the web site has a quite simple HTML, you can easily use curl to perform the request and then extract the needed values using bash commands grep, cut , sed, ..\n",
    "\n",
    "This tutorial is adapted from [this](https://medium.com/@LiliSousa/web-scraping-with-bash-690e4ee7f98d) medium article"
   ]
  },
  {
   "cell_type": "code",
   "execution_count": null,
   "metadata": {
    "colab": {},
    "colab_type": "code",
    "executionInfo": {
     "elapsed": 25414,
     "status": "aborted",
     "timestamp": 1595184512330,
     "user": {
      "displayName": "Rofiah Adeshina",
      "photoUrl": "",
      "userId": "16819728728819546989"
     },
     "user_tz": -60
    },
    "id": "yL53kh9wGomy"
   },
   "outputs": [],
   "source": [
    "%%bash \n",
    "\n",
    "# curl the page and save content to tmp_file\n",
    "#url = \"https://www.atlanticcouncil.org/blogs/africasource/african-leaders-respond-to-coronavirus-on-twitter/#east-africa\"\n",
    "#curl -X GET $url -o tmp_file\n",
    "\n",
    "\n",
    "#!/bin/bash\n",
    "\n",
    "# write headers to CSV file\n",
    "echo \"Name, twitter_id\" >> extractData.csv\n",
    "n=\"1\"\n",
    "while [ $n -lt 2 ]\n",
    "do\n",
    "  \n",
    "  #get title\n",
    "  title=$(cat tmp_file | grep \"class=\\\"twitter-tweet\\\"\" | cut -d ';' -f1 )\n",
    "  echo $title\n",
    "  #get author\n",
    "  #twitter_id=$(cat tmp_file |grep -A1 \"class=\\\"css-901oao css-16my406 r-1qd0xha r-ad9z0x r-bcqeeo r-qvutc0\\\"\" | tail -1)\n",
    "\n",
    "  #echo \"$title, $twitter_id\" >> extractData.csv\n",
    "  #echo \"$title, $twitter_id\"\n",
    "    \n",
    "  n=$[$n+1]\n",
    "\n",
    "done"
   ]
  },
  {
   "cell_type": "code",
   "execution_count": null,
   "metadata": {
    "colab": {},
    "colab_type": "code",
    "executionInfo": {
     "elapsed": 25408,
     "status": "aborted",
     "timestamp": 1595184512333,
     "user": {
      "displayName": "Rofiah Adeshina",
      "photoUrl": "",
      "userId": "16819728728819546989"
     },
     "user_tz": -60
    },
    "id": "BcuIP_IXGom8"
   },
   "outputs": [],
   "source": []
  }
 ],
 "metadata": {
  "colab": {
   "collapsed_sections": [],
   "name": "Copy of Copy of scrapping_starter updated.ipynb",
   "provenance": [
    {
     "file_id": "1DiAGle7QmSRi2EHwN15NnsyUPklVnyGX",
     "timestamp": 1595186724360
    },
    {
     "file_id": "1-FjCJfNIAmr7Jck4jue0pKjBu4cGKwRf",
     "timestamp": 1595139295073
    }
   ]
  },
  "kernelspec": {
   "display_name": "Python 3",
   "language": "python",
   "name": "python3"
  },
  "language_info": {
   "codemirror_mode": {
    "name": "ipython",
    "version": 3
   },
   "file_extension": ".py",
   "mimetype": "text/x-python",
   "name": "python",
   "nbconvert_exporter": "python",
   "pygments_lexer": "ipython3",
   "version": "3.7.3"
  }
 },
 "nbformat": 4,
 "nbformat_minor": 4
}
