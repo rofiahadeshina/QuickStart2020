{
 "cells": [
  {
   "cell_type": "markdown",
   "metadata": {
    "colab_type": "text",
    "id": "E2OWGGBmGobX"
   },
   "source": [
    "## Web scrapping using python\n",
    "\n",
    "#### References\n",
    "1. [Practical Introduction to Web Scraping in Python](https://realpython.com/python-web-scraping-practical-introduction/)\n",
    "2. [Web Scraping using Python](https://www.datacamp.com/community/tutorials/web-scraping-using-python)"
   ]
  },
  {
   "cell_type": "code",
   "execution_count": 27,
   "metadata": {
    "colab": {},
    "colab_type": "code",
    "executionInfo": {
     "elapsed": 8334,
     "status": "ok",
     "timestamp": 1595184492727,
     "user": {
      "displayName": "Rofiah Adeshina",
      "photoUrl": "",
      "userId": "16819728728819546989"
     },
     "user_tz": -60
    },
    "id": "E94qQfZtGobd"
   },
   "outputs": [],
   "source": [
    "# $ python3 -m venv venv\n",
    "# $ . ./venv/bin/activate"
   ]
  },
  {
   "cell_type": "code",
   "execution_count": 28,
   "metadata": {
    "colab": {},
    "colab_type": "code",
    "executionInfo": {
     "elapsed": 8042,
     "status": "ok",
     "timestamp": 1595184492731,
     "user": {
      "displayName": "Rofiah Adeshina",
      "photoUrl": "",
      "userId": "16819728728819546989"
     },
     "user_tz": -60
    },
    "id": "mY-a7L90Gob1"
   },
   "outputs": [],
   "source": [
    "#!pip install --upgrade pip"
   ]
  },
  {
   "cell_type": "code",
   "execution_count": 29,
   "metadata": {
    "colab": {
     "base_uri": "https://localhost:8080/",
     "height": 163
    },
    "colab_type": "code",
    "executionInfo": {
     "elapsed": 24367,
     "status": "ok",
     "timestamp": 1595184510289,
     "user": {
      "displayName": "Rofiah Adeshina",
      "photoUrl": "",
      "userId": "16819728728819546989"
     },
     "user_tz": -60
    },
    "id": "V5IbSjYnGocI",
    "outputId": "06c0951c-dd36-4ed1-b6d4-92c661c1b845"
   },
   "outputs": [
    {
     "name": "stdout",
     "output_type": "stream",
     "text": [
      "Requirement already satisfied: requests in /usr/local/lib/python3.6/dist-packages (2.23.0)\n",
      "Requirement already satisfied: BeautifulSoup4 in /usr/local/lib/python3.6/dist-packages (4.6.3)\n",
      "Requirement already satisfied: fire in /usr/local/lib/python3.6/dist-packages (0.3.1)\n",
      "Requirement already satisfied: certifi>=2017.4.17 in /usr/local/lib/python3.6/dist-packages (from requests) (2020.6.20)\n",
      "Requirement already satisfied: urllib3!=1.25.0,!=1.25.1,<1.26,>=1.21.1 in /usr/local/lib/python3.6/dist-packages (from requests) (1.24.3)\n",
      "Requirement already satisfied: chardet<4,>=3.0.2 in /usr/local/lib/python3.6/dist-packages (from requests) (3.0.4)\n",
      "Requirement already satisfied: idna<3,>=2.5 in /usr/local/lib/python3.6/dist-packages (from requests) (2.10)\n",
      "Requirement already satisfied: termcolor in /usr/local/lib/python3.6/dist-packages (from fire) (1.1.0)\n",
      "Requirement already satisfied: six in /usr/local/lib/python3.6/dist-packages (from fire) (1.12.0)\n"
     ]
    }
   ],
   "source": [
    "#Better\n",
    "!pip install requests BeautifulSoup4 fire\n"
   ]
  },
  {
   "cell_type": "code",
   "execution_count": 30,
   "metadata": {
    "colab": {},
    "colab_type": "code",
    "executionInfo": {
     "elapsed": 24279,
     "status": "ok",
     "timestamp": 1595184510297,
     "user": {
      "displayName": "Rofiah Adeshina",
      "photoUrl": "",
      "userId": "16819728728819546989"
     },
     "user_tz": -60
    },
    "id": "YX2X8cCBGocb"
   },
   "outputs": [],
   "source": [
    "from requests import get\n",
    "from requests.exceptions import RequestException\n",
    "from contextlib import closing\n",
    "from bs4 import BeautifulSoup\n",
    "import pandas as pd\n",
    "import os, sys\n",
    "\n",
    "import fire"
   ]
  },
  {
   "cell_type": "code",
   "execution_count": 31,
   "metadata": {
    "colab": {},
    "colab_type": "code",
    "executionInfo": {
     "elapsed": 24288,
     "status": "ok",
     "timestamp": 1595184510332,
     "user": {
      "displayName": "Rofiah Adeshina",
      "photoUrl": "",
      "userId": "16819728728819546989"
     },
     "user_tz": -60
    },
    "id": "E7NxE2cDGocu"
   },
   "outputs": [],
   "source": [
    "#%%writefile ../pyscrap_url.py\n",
    "\n",
    "def simple_get(url):\n",
    "    \"\"\"\n",
    "    Attempts to get the content at `url` by making an HTTP GET request.\n",
    "    If the content-type of response is some kind of HTML/XML, return the\n",
    "    text content, otherwise return None.\n",
    "    \"\"\"\n",
    "    try:\n",
    "        with closing(get(url, stream=True)) as resp:\n",
    "            if is_good_response(resp):\n",
    "                return resp.content  #.encode(BeautifulSoup.original_encoding)\n",
    "            else:\n",
    "                return None\n",
    "\n",
    "    except RequestException as e:\n",
    "        log_error('Error during requests to {0} : {1}'.format(url, str(e)))\n",
    "        return None\n",
    "\n",
    "\n",
    "def is_good_response(resp):\n",
    "    \"\"\"\n",
    "    Returns True if the response seems to be HTML, False otherwise.\n",
    "    \"\"\"\n",
    "    content_type = resp.headers['Content-Type'].lower()\n",
    "    return (resp.status_code == 200 \n",
    "            and content_type is not None \n",
    "            and content_type.find('html') > -1)\n",
    "\n",
    "\n",
    "def log_error(e):\n",
    "    \"\"\"\n",
    "    It is always a good idea to log errors. \n",
    "    This function just prints them, but you can\n",
    "    make it do anything.\n",
    "    \"\"\"\n",
    "    print(e)\n",
    "    \n",
    "def get_elements(url, tag='',search={}, fname=None):\n",
    "    \"\"\"\n",
    "    Downloads a page specified by the url parameter\n",
    "    and returns a list of strings, one per tag element\n",
    "    \"\"\"\n",
    "    \n",
    "    if isinstance(url,str):\n",
    "        response = simple_get(url)\n",
    "    else:\n",
    "        #if already it is a loaded html page\n",
    "        response = url\n",
    "\n",
    "    if response is not None:\n",
    "        html = BeautifulSoup(response, 'html.parser')\n",
    "        \n",
    "        res = []\n",
    "        if tag:    \n",
    "            for li in html.select(tag):\n",
    "                for name in li.text.split('\\n'):\n",
    "                    if len(name) > 0:\n",
    "                        res.append(name.strip())\n",
    "                       \n",
    "                \n",
    "        if search:\n",
    "            soup = html            \n",
    "            \n",
    "            \n",
    "            r = ''\n",
    "            if 'find' in search.keys():\n",
    "                print('findaing',search['find'])\n",
    "                soup = soup.find(**search['find'])\n",
    "                r = soup\n",
    "\n",
    "                \n",
    "            if 'find_all' in search.keys():\n",
    "                print('findaing all of',search['find_all'])\n",
    "                r = soup.find_all(**search['find_all'])\n",
    "   \n",
    "            if r:\n",
    "                for x in list(r):\n",
    "                    if len(x) > 0:\n",
    "                        res.extend(x)\n",
    "            \n",
    "        return res\n",
    "\n",
    "    # Raise an exception if we failed to get any data from the url\n",
    "    raise Exception('Error retrieving contents at {}'.format(url))    \n",
    "    \n",
    "    \n",
    "if get_ipython().__class__.__name__ == '__main__':\n",
    "    fire(get_tag_elements)"
   ]
  },
  {
   "cell_type": "code",
   "execution_count": 32,
   "metadata": {
    "colab": {},
    "colab_type": "code",
    "executionInfo": {
     "elapsed": 26156,
     "status": "ok",
     "timestamp": 1595184512230,
     "user": {
      "displayName": "Rofiah Adeshina",
      "photoUrl": "",
      "userId": "16819728728819546989"
     },
     "user_tz": -60
    },
    "id": "GnXh6DcnGoc8"
   },
   "outputs": [],
   "source": [
    "res = get_elements('https://africafreak.com/100-most-influential-twitter-users-in-africa', tag='h2')"
   ]
  },
  {
   "cell_type": "code",
   "execution_count": 43,
   "metadata": {
    "colab": {},
    "colab_type": "code",
    "executionInfo": {
     "elapsed": 1149,
     "status": "ok",
     "timestamp": 1595184576463,
     "user": {
      "displayName": "Rofiah Adeshina",
      "photoUrl": "",
      "userId": "16819728728819546989"
     },
     "user_tz": -60
    },
    "id": "rrIUJ4kPGodc"
   },
   "outputs": [],
   "source": [
    "for i in res[100:]:\n",
    "    res.remove(i)\n",
    "    #print(res)\n",
    "names_infl = []\n",
    "handle_infl = []\n",
    "for r in res:\n",
    "    split_data = r.split('.',maxsplit=1)[1].rsplit('(',maxsplit=1)\n",
    "    name = split_data[0].split(',')[0].strip()\n",
    "    handle =  split_data[1].split(')',maxsplit=1)[0]\n",
    "    names_infl.append(name)\n",
    "    handle_infl.append(handle)\n",
    "    \n",
    "\n"
   ]
  },
  {
   "cell_type": "code",
   "execution_count": 44,
   "metadata": {
    "colab": {},
    "colab_type": "code",
    "executionInfo": {
     "elapsed": 1146,
     "status": "ok",
     "timestamp": 1595184584506,
     "user": {
      "displayName": "Rofiah Adeshina",
      "photoUrl": "",
      "userId": "16819728728819546989"
     },
     "user_tz": -60
    },
    "id": "BAeALfeL_gjU"
   },
   "outputs": [],
   "source": [
    "df_influencer_handle = pd.DataFrame(handle_infl, columns=[\"100 influencers handles\"])\n",
    "#df_influencer_handle.to_csv('C:/Users/HP/Desktop/CV, P.Statement and others/10 Academy/100_handles.csv', index=False, header=True)\n",
    "#print(df_influencer_handle)"
   ]
  },
  {
   "cell_type": "code",
   "execution_count": 46,
   "metadata": {
    "colab": {},
    "colab_type": "code",
    "executionInfo": {
     "elapsed": 1750,
     "status": "ok",
     "timestamp": 1595184620652,
     "user": {
      "displayName": "Rofiah Adeshina",
      "photoUrl": "",
      "userId": "16819728728819546989"
     },
     "user_tz": -60
    },
    "id": "V9mULslEGod5"
   },
   "outputs": [],
   "source": [
    "url= 'https://www.atlanticcouncil.org/blogs/africasource/african-leaders-respond-to-coronavirus-on-twitter/#east-africa'\n",
    "response = simple_get(url)"
   ]
  },
  {
   "cell_type": "code",
   "execution_count": 47,
   "metadata": {
    "colab": {},
    "colab_type": "code",
    "executionInfo": {
     "elapsed": 3429,
     "status": "ok",
     "timestamp": 1595184628336,
     "user": {
      "displayName": "Rofiah Adeshina",
      "photoUrl": "",
      "userId": "16819728728819546989"
     },
     "user_tz": -60
    },
    "id": "mKgUhKcgGoeM"
   },
   "outputs": [],
   "source": [
    "url= 'https://www.atlanticcouncil.org/blogs/africasource/african-leaders-respond-to-coronavirus-on-twitter/#east-africa'\n",
    "response = get(url).content\n",
    "re_gov = get_elements(response, tag='blockquote')\n",
    "names = []\n",
    "handles = []\n",
    "for r in re_gov:\n",
    "    split_data = r.split('— ',maxsplit=1)[1].rsplit('(',maxsplit=1)\n",
    "    name = split_data[0].split(',')[0].strip()\n",
    "    handle =  split_data[1].rsplit(')',maxsplit=1)[0]\n",
    "    names.append(name)\n",
    "    handles.append(handle)\n",
    "\n",
    "nam_handle = f'{name}:{handle}'\n",
    "\n",
    "df_gov_handle = pd.DataFrame(handles, columns=[\"Gov influencers handles\"])\n",
    "#df_gov_handle.to_csv('C:/Users/HP/Desktop/CV, P.Statement and others/10 Academy/gov_handles.csv', index=False, header=True)\n",
    "#print(df_gov_handle)"
   ]
  },
  {
   "cell_type": "code",
   "execution_count": 48,
   "metadata": {
    "colab": {},
    "colab_type": "code",
    "executionInfo": {
     "elapsed": 1026,
     "status": "ok",
     "timestamp": 1595184651134,
     "user": {
      "displayName": "Rofiah Adeshina",
      "photoUrl": "",
      "userId": "16819728728819546989"
     },
     "user_tz": -60
    },
    "id": "sRsiYQcmGofB"
   },
   "outputs": [],
   "source": [
    "fl_handles = handles + handle_infl\n",
    "#final_handle = pd.DataFrame(fl_handles, columns=[\"combined_handles\"])\n",
    "#final_handle.to_csv (r'C:\\Users\\HP\\Desktop\\CV, P.Statement and others\\10 Academy\\final_handle.csv', index = False, header=True)\n",
    "#print(final_handle)\n"
   ]
  },
  {
   "cell_type": "code",
   "execution_count": 49,
   "metadata": {
    "colab": {},
    "colab_type": "code",
    "executionInfo": {
     "elapsed": 1634,
     "status": "ok",
     "timestamp": 1595184656837,
     "user": {
      "displayName": "Rofiah Adeshina",
      "photoUrl": "",
      "userId": "16819728728819546989"
     },
     "user_tz": -60
    },
    "id": "fy-VXURDGofc"
   },
   "outputs": [],
   "source": [
    "import sys\n",
    "import os\n",
    "import json\n",
    "import pandas as pd\n",
    "import matplotlib.pyplot as plt\n",
    "import re\n",
    "import string\n",
    "\n",
    "import matplotlib.dates as mdates\n",
    "import seaborn as sns\n",
    "#sns.set()\n",
    "\n",
    "\n",
    "# to view all columns\n",
    "#pd.set_option(\"display.max.columns\", None)"
   ]
  },
  {
   "cell_type": "code",
   "execution_count": 51,
   "metadata": {
    "colab": {},
    "colab_type": "code",
    "executionInfo": {
     "elapsed": 1119,
     "status": "ok",
     "timestamp": 1595184853519,
     "user": {
      "displayName": "Rofiah Adeshina",
      "photoUrl": "",
      "userId": "16819728728819546989"
     },
     "user_tz": -60
    },
    "id": "ypAZQeHsGofz"
   },
   "outputs": [],
   "source": [
    "#!pip install tweepy\n",
    "import tweepy\n",
    "from tweepy.streaming import StreamListener\n",
    "from tweepy import OAuthHandler\n",
    "from tweepy import Stream"
   ]
  },
  {
   "cell_type": "code",
   "execution_count": 52,
   "metadata": {
    "colab": {},
    "colab_type": "code",
    "executionInfo": {
     "elapsed": 1171,
     "status": "ok",
     "timestamp": 1595184859241,
     "user": {
      "displayName": "Rofiah Adeshina",
      "photoUrl": "",
      "userId": "16819728728819546989"
     },
     "user_tz": -60
    },
    "id": "cDVA2ckbGogA"
   },
   "outputs": [],
   "source": [
    "consumer_key = \"secret_key\"\n",
    "consumer_secret = \"secret_key\"\n",
    "access_token = \"secret_key\"\n",
    "access_token_secret = \"secret_key\""
   ]
  },
  {
   "cell_type": "code",
   "execution_count": 53,
   "metadata": {
    "colab": {},
    "colab_type": "code",
    "executionInfo": {
     "elapsed": 1533,
     "status": "ok",
     "timestamp": 1595184863851,
     "user": {
      "displayName": "Rofiah Adeshina",
      "photoUrl": "",
      "userId": "16819728728819546989"
     },
     "user_tz": -60
    },
    "id": "gnq2TPLeGogQ"
   },
   "outputs": [],
   "source": [
    "auth = OAuthHandler(consumer_key, consumer_secret)\n",
    "auth.set_access_token(access_token, access_token_secret)\n",
    "api = tweepy.API(auth)"
   ]
  },
  {
   "cell_type": "code",
   "execution_count": 54,
   "metadata": {
    "colab": {},
    "colab_type": "code",
    "executionInfo": {
     "elapsed": 28329,
     "status": "ok",
     "timestamp": 1595184929566,
     "user": {
      "displayName": "Rofiah Adeshina",
      "photoUrl": "",
      "userId": "16819728728819546989"
     },
     "user_tz": -60
    },
    "id": "q1E6b1RLGogl"
   },
   "outputs": [],
   "source": [
    "#getting tweets\n",
    "tweets = []\n",
    "tweetCount=5\n",
    "for i in fl_handles:\n",
    "    try:\n",
    "        results=api.user_timeline(id=i, count=tweetCount)\n",
    "    except tweepy.TweepError as e:\n",
    "                continue  \n",
    "    for tweet in results:\n",
    "        tweets.append(tweet.text)\n",
    "#print(tweets)\n",
    "\n",
    "\n"
   ]
  },
  {
   "cell_type": "code",
   "execution_count": 55,
   "metadata": {
    "colab": {
     "base_uri": "https://localhost:8080/",
     "height": 151
    },
    "colab_type": "code",
    "executionInfo": {
     "elapsed": 23042,
     "status": "ok",
     "timestamp": 1595185014267,
     "user": {
      "displayName": "Rofiah Adeshina",
      "photoUrl": "",
      "userId": "16819728728819546989"
     },
     "user_tz": -60
    },
    "id": "D3-maCdTGohK",
    "outputId": "9de58e69-b5ac-4b7e-bbf9-8ec744d57afb"
   },
   "outputs": [
    {
     "name": "stdout",
     "output_type": "stream",
     "text": [
      "[11328, 39326, 192513, 126, 1599745, 7176, 546690, 2934, 66270, 1104272, 1984608, 424524, 2560, 371220, 4028, 1814142, 3272, 107410, 18662, 341079, 173650, 30174, 256402, 3283, 833187, 10776, 1508892, 738, 8482, 229001, 31814, 116331, 3272769, 1376009, 14937, 1132, 25704, 31288, 101296, 68076, 21964, 31293, 22798, 8, 50994, 28464, 439436, 52895, 46778, 11927, 24867, 49701, 28482, 117, 17443, 93967, 18239, 21364, 62318, 18498, 19996, 7489, 6, 215400, 232830, 98725, 106165, 70751, 17121, 249971, 48966, 105248, 58235, 80355, 487, 81639, 217290, 192561, 24702, 20448, 191425, 26435, 165783, 1002824, 48253, 50102, 18647, 240623, 105656, 88513, 84540, 1078900, 56242, 127369, 143193, 285562, 131, 215985, 220934, 59206, 29950, 51840, 151986, 114524, 673511, 56879, 541627, 49251, 69, 35231, 938216, 572314, 105685, 183464, 7, 1755677, 1042509, 1160270, 1416158, 200273, 1085310, 1164432, 1060365, 1443409, 3130248, 3578583, 18, 1974678, 10809317]\n",
      "   Number of followers\n",
      "0                11328\n",
      "1                39326\n",
      "2               192513\n",
      "3                  126\n",
      "4              1599745\n"
     ]
    }
   ],
   "source": [
    "# getting followers for 100 influencers\n",
    "# Calling the get_user function with our parameters\n",
    "followers = []\n",
    "for i in fl_handles:\n",
    "    try:\n",
    "        results = api.get_user(id=i)\n",
    "    except tweepy.TweepError as e:\n",
    "        continue \n",
    "    followers.append(results.followers_count)\n",
    "    #print(results.followers_count)\n",
    "print(followers)\n",
    "# followers dataframe\n",
    "total_followers = pd.DataFrame(followers,columns=[\"Number of followers\"])\n",
    "#total_followers.to_csv('C:/Users/HP/Desktop/CV, P.Statement and others/10 Academy/gov_follower.csv')\n",
    "print(total_followers.head())\n",
    "\n",
    "\n"
   ]
  },
  {
   "cell_type": "code",
   "execution_count": 57,
   "metadata": {
    "colab": {
     "base_uri": "https://localhost:8080/",
     "height": 115
    },
    "colab_type": "code",
    "executionInfo": {
     "elapsed": 23333,
     "status": "ok",
     "timestamp": 1595185063345,
     "user": {
      "displayName": "Rofiah Adeshina",
      "photoUrl": "",
      "userId": "16819728728819546989"
     },
     "user_tz": -60
    },
    "id": "KonoEx2wGohn",
    "outputId": "667a85f7-e9d4-4a0e-aecb-36604fe12b12"
   },
   "outputs": [
    {
     "name": "stdout",
     "output_type": "stream",
     "text": [
      "   Number of likes\n",
      "0               61\n",
      "1              915\n",
      "2              268\n",
      "3               12\n",
      "4               63\n"
     ]
    }
   ],
   "source": [
    "# getting no of likes for gov influencers\n",
    "likes = []\n",
    "for i in fl_handles:\n",
    "    try:\n",
    "        results = api.get_user(id=i)\n",
    "    except tweepy.TweepError as e:\n",
    "        continue\n",
    "    likes.append(results.favourites_count)\n",
    "    #print(results.followers_count)\n",
    "#print(likes)\n",
    "total_like = pd.DataFrame(likes,columns=[\"Number of likes\"])\n",
    "#total_like.to_csv('C:/Users/HP/Desktop/CV, P.Statement and others/10 Academy/gov_likes.csv')\n",
    "print(total_like.head())\n",
    "\n"
   ]
  },
  {
   "cell_type": "code",
   "execution_count": 59,
   "metadata": {
    "colab": {
     "base_uri": "https://localhost:8080/",
     "height": 115
    },
    "colab_type": "code",
    "executionInfo": {
     "elapsed": 23008,
     "status": "ok",
     "timestamp": 1595185279551,
     "user": {
      "displayName": "Rofiah Adeshina",
      "photoUrl": "",
      "userId": "16819728728819546989"
     },
     "user_tz": -60
    },
    "id": "WSnc8HF7GoiG",
    "outputId": "7570087d-4555-4d67-ab34-1cac7cfb2dce"
   },
   "outputs": [
    {
     "name": "stdout",
     "output_type": "stream",
     "text": [
      "   Number of following\n",
      "0                   82\n",
      "1                   26\n",
      "2                   55\n",
      "3                  224\n",
      "4                   14\n"
     ]
    }
   ],
   "source": [
    "# getting no of following for 100 influencers\n",
    "following = []\n",
    "for i in fl_handles:\n",
    "    try:\n",
    "        results = api.get_user(id=i)\n",
    "    except tweepy.TweepError as e:\n",
    "        continue\n",
    "    following.append(results.friends_count)\n",
    "\n",
    "    \n",
    "#print(following)\n",
    "gov_following = pd.DataFrame(following,columns=[\"Number of following\"])\n",
    "#gov_following.to_csv('C:/Users/HP/Desktop/CV, P.Statement and others/10 Academy/gov_followings.csv')\n",
    "print(gov_following.head())\n",
    "\n"
   ]
  },
  {
   "cell_type": "code",
   "execution_count": 60,
   "metadata": {
    "colab": {
     "base_uri": "https://localhost:8080/",
     "height": 115
    },
    "colab_type": "code",
    "executionInfo": {
     "elapsed": 113945,
     "status": "ok",
     "timestamp": 1595185411031,
     "user": {
      "displayName": "Rofiah Adeshina",
      "photoUrl": "",
      "userId": "16819728728819546989"
     },
     "user_tz": -60
    },
    "id": "GC_jnat2Goiq",
    "outputId": "f763f909-83f8-4aec-90f3-f87b0da014a3"
   },
   "outputs": [
    {
     "name": "stdout",
     "output_type": "stream",
     "text": [
      "   No of retweets\n",
      "0            3202\n",
      "1            2772\n",
      "2           93174\n",
      "3            6036\n",
      "4            1658\n"
     ]
    }
   ],
   "source": [
    "#getting retweets\n",
    "no_of_retweets = []\n",
    "for id in fl_handles:\n",
    "    try:\n",
    "        tweets = tweepy.Cursor(api.user_timeline, id=i).items()\n",
    "        for tweet in tweets:\n",
    "            no_of_retweets.append(tweet.retweet_count)\n",
    "    except tweepy.TweepError as e:\n",
    "        continue\n",
    "#print(no_of_retweets)\n",
    "\n",
    "#retweets dataframe\n",
    "gov_retweets = pd.DataFrame(no_of_retweets, columns=[\"No of retweets\"])\n",
    "#gov_retweets.to_csv (r'C:\\Users\\HP\\Desktop\\CV, P.Statement and others\\10 Academy\\gov_retweet.csv', index = False, header=True)\n",
    "print(gov_retweets.head())\n"
   ]
  },
  {
   "cell_type": "code",
   "execution_count": 61,
   "metadata": {
    "colab": {
     "base_uri": "https://localhost:8080/",
     "height": 151
    },
    "colab_type": "code",
    "executionInfo": {
     "elapsed": 22592,
     "status": "ok",
     "timestamp": 1595185508658,
     "user": {
      "displayName": "Rofiah Adeshina",
      "photoUrl": "",
      "userId": "16819728728819546989"
     },
     "user_tz": -60
    },
    "id": "bb2p_vEjGojO",
    "outputId": "01b8065b-3e9b-450d-899b-7bb74ea7ff3e"
   },
   "outputs": [
    {
     "name": "stdout",
     "output_type": "stream",
     "text": [
      "[1676, 4030, 1087, 125, 18881, 838, 628, 1065, 4720, 9052, 2862, 599, 209, 654, 836, 6645, 732, 40682, 753, 1650, 1738, 5649, 4496, 715, 7139, 1442, 7098, 21, 828, 11168, 30, 349, 4734, 2796, 83, 44, 3770, 16869, 142234, 27325, 19439, 6864, 1638, 1, 21549, 3892, 81209, 16890, 23988, 2166, 2523, 2814, 35271, 23, 4983, 13508, 88730, 42971, 26785, 15627, 9575, 15410, 0, 22996, 7579, 17748, 101356, 4986, 12766, 15755, 8771, 45455, 7187, 35783, 35, 18373, 33461, 14516, 8767, 3906, 48601, 32731, 15893, 265302, 16251, 11100, 8562, 91479, 30378, 23204, 137304, 35978, 10665, 8895, 38395, 53788, 117, 9294, 23704, 13353, 3118, 14757, 3243, 11275, 27253, 14684, 9266, 6476, 1, 21728, 50980, 23587, 27798, 15681, 6, 4555, 20000, 88551, 56044, 45134, 5688, 62843, 144320, 72335, 37220, 322930, 19, 31626, 11186]\n",
      "   No of statuses\n",
      "0            1676\n",
      "1            4030\n",
      "2            1087\n",
      "3             125\n",
      "4           18881\n"
     ]
    }
   ],
   "source": [
    "#getting no of tweets shared\n",
    "no_tweets_shared = []\n",
    "for i in fl_handles:\n",
    "    try:\n",
    "        results = api.get_user(id=i)\n",
    "    except tweepy.TweepError as e:\n",
    "        continue\n",
    "    no_tweets_shared.append(results.statuses_count)\n",
    "    \n",
    "print(no_tweets_shared)\n",
    "\n",
    "#tweet shared dataframe\n",
    "gov_statuses = pd.DataFrame(no_tweets_shared, columns=[\"No of statuses\"])\n",
    "#gov_statuses.to_csv (r'C:\\Users\\HP\\Desktop\\CV, P.Statement and others\\10 Academy\\gov_statuses.csv', index = False, header=True)\n",
    "print(gov_statuses.head())"
   ]
  },
  {
   "cell_type": "code",
   "execution_count": 62,
   "metadata": {
    "colab": {
     "base_uri": "https://localhost:8080/",
     "height": 115
    },
    "colab_type": "code",
    "executionInfo": {
     "elapsed": 118019,
     "status": "ok",
     "timestamp": 1595186387939,
     "user": {
      "displayName": "Rofiah Adeshina",
      "photoUrl": "",
      "userId": "16819728728819546989"
     },
     "user_tz": -60
    },
    "id": "M_5h_JyV_gqc",
    "outputId": "c5c81929-484f-4a81-a69c-e3ab06434df0"
   },
   "outputs": [
    {
     "name": "stdout",
     "output_type": "stream",
     "text": [
      "   gov mentions\n",
      "0           117\n",
      "1          1695\n",
      "2           251\n",
      "3            32\n",
      "4          1089\n"
     ]
    }
   ],
   "source": [
    "#mention for gov influencers\n",
    "count = []\n",
    "for x in range(0, len(fl_handles)):\n",
    "    name = fl_handles[x]\n",
    "    mentions_count = []\n",
    "    try:\n",
    "       for status in tweepy.Cursor(api.user_timeline, id=name).items():\n",
    "         entities = status.entities\n",
    "         if \"user_mentions\" in entities:\n",
    "            for ent in entities[\"user_mentions\"]:\n",
    "              if ent is not None:\n",
    "                if \"screen_name\" in ent:\n",
    "                  name = ent[\"screen_name\"]\n",
    "                  if name is not None:\n",
    "                    mentions_count.append(name)\n",
    "    except tweepy.TweepError as e:\n",
    "        continue\n",
    "    count.append(len(mentions_count))\n",
    "infl_mention = pd.DataFrame(count, columns=[\"gov mentions\"])\n",
    "#infl_mention.to_csv (r'C:\\Users\\HP\\Desktop\\CV, P.Statement and others\\10 Academy\\infl_mentions.csv', index = False, header=True)\n",
    "print(infl_mention.head())"
   ]
  },
  {
   "cell_type": "code",
   "execution_count": null,
   "metadata": {
    "colab": {},
    "colab_type": "code",
    "id": "lQiYphObh1hj"
   },
   "outputs": [],
   "source": [
    "def get_hashtags(fl_handles):\n",
    "    cols = ['id', 'name', 'screen_name', 'hashtags']\n",
    "    # dataframe that would be returned at the end\n",
    "    df = pd.DataFrame(columns=cols)\n",
    "    handle_data = []\n",
    "    if len(fl_handle) > 0: \n",
    "        for handle in fl_handles:\n",
    "            value_list = {}\n",
    "            print(\"Getting hashtags for \" + handle)\n",
    "            # this helps avoid Tweepy errors like suspended users or user not found errors\n",
    "            try:\n",
    "                item = api.get_user(handle)\n",
    "            except tweepy.TweepError as e:\n",
    "                continue\n",
    "            value_list['id'] = item.id_str\n",
    "            value_list['name'] = item.name\n",
    "            value_list['screen_name'] = item.screen_name\n",
    "            #get average daily tweets\n",
    "            no_tweets = item.statuses_count\n",
    "            account_created_date = item.created_at\n",
    "            delta = datetime.utcnow() - account_created_date\n",
    "            account_age_days = delta.days\n",
    "            hashtags = set()\n",
    "            hash_dic = {}\n",
    "            tweet_count = 0\n",
    "            end_date = datetime.utcnow() - timedelta(days=30)\n",
    "            for status in tweepy.Cursor(api.user_timeline, id=twitter_handle).items():\n",
    "                if hasattr(status, \"entities\"):\n",
    "                    entities = status.entities\n",
    "                # get hashtags\n",
    "                if \"hashtags\" in entities:\n",
    "                    for ent in entities[\"hashtags\"]:\n",
    "                        if ent is not None:\n",
    "                            if \"text\" in ent:\n",
    "                                hashtag = ent[\"text\"]\n",
    "                                if hashtag is not None:\n",
    "                                    if hashtag in hashtags:\n",
    "                                        hash_dic[hashtag]+=1\n",
    "                                    else:\n",
    "                                        hashtags.add(hashtag)\n",
    "                                        hash_dic[hashtag] = 1\n",
    "                value_list['hashtags'] = hash_dic\n",
    "            try:\n",
    "                #escape handles with no hashtags\n",
    "                df = df.append(pd.DataFrame(value_list))\n",
    "                # the code snippet below before the return is used to save to file due to constant connections loss\n",
    "                new_df = df.reset_index().rename(columns={'hashtags':'hashtags_count','index':'hashtags'})\n",
    "            except tweepy.TweepError as e:\n",
    "                continue\n",
    "    return df.reset_index().rename(columns={'hashtags':'hashtags_count','index':'hashtags'})"
   ]
  },
  {
   "cell_type": "markdown",
   "metadata": {
    "colab_type": "text",
    "id": "AMuXtMOQGojk"
   },
   "source": [
    "### Popularity reach\n",
    "### Reach Score\n",
    "### Relevance Score"
   ]
  },
  {
   "cell_type": "code",
   "execution_count": 65,
   "metadata": {
    "colab": {
     "base_uri": "https://localhost:8080/",
     "height": 245
    },
    "colab_type": "code",
    "executionInfo": {
     "elapsed": 1492,
     "status": "ok",
     "timestamp": 1595186534971,
     "user": {
      "displayName": "Rofiah Adeshina",
      "photoUrl": "",
      "userId": "16819728728819546989"
     },
     "user_tz": -60
    },
    "id": "-2X0qPUlGojn",
    "outputId": "c3a6651d-4048-47be-caee-3162f049999d"
   },
   "outputs": [
    {
     "name": "stdout",
     "output_type": "stream",
     "text": [
      "       No of retweets  Number of likes  Popularity_score\n",
      "0                3202             61.0            3263.0\n",
      "1                2772            915.0            3687.0\n",
      "2               93174            268.0           93442.0\n",
      "3                6036             12.0            6048.0\n",
      "4                1658             63.0            1721.0\n",
      "...               ...              ...               ...\n",
      "14939              73              NaN               NaN\n",
      "14940               3              NaN               NaN\n",
      "14941             670              NaN               NaN\n",
      "14942              70              NaN               NaN\n",
      "14943             112              NaN               NaN\n",
      "\n",
      "[14944 rows x 3 columns]\n"
     ]
    }
   ],
   "source": [
    "#popularity reach = retweets + likes\n",
    "popularity = pd.concat([gov_retweets,total_like], axis=1)\n",
    "#print(popularity)\n",
    "popularity[\"Popularity_score\"] = popularity[\"No of retweets\"]+popularity[\"Number of likes\"]\n",
    "print(popularity)\n",
    "\n",
    "\n",
    "\n"
   ]
  },
  {
   "cell_type": "code",
   "execution_count": 63,
   "metadata": {
    "colab": {
     "base_uri": "https://localhost:8080/",
     "height": 212
    },
    "colab_type": "code",
    "executionInfo": {
     "elapsed": 1401,
     "status": "ok",
     "timestamp": 1595186468642,
     "user": {
      "displayName": "Rofiah Adeshina",
      "photoUrl": "",
      "userId": "16819728728819546989"
     },
     "user_tz": -60
    },
    "id": "ccyr9H0DGokI",
    "outputId": "7cee2484-dfc8-491f-f64d-b3706a0bd2dd"
   },
   "outputs": [
    {
     "name": "stdout",
     "output_type": "stream",
     "text": [
      "   Number of followers  Number of following\n",
      "0                11328                   82\n",
      "1                39326                   26\n",
      "2               192513                   55\n",
      "3                  126                  224\n",
      "4              1599745                   14\n",
      "   Number of followers  Number of following  reach_score\n",
      "0                11328                   82        11246\n",
      "1                39326                   26        39300\n",
      "2               192513                   55       192458\n",
      "3                  126                  224          -98\n",
      "4              1599745                   14      1599731\n"
     ]
    }
   ],
   "source": [
    "#Reach Score = followers - following\n",
    "reach = pd.concat([total_followers,gov_following], axis=1)\n",
    "print(reach.head())\n",
    "reach['reach_score']= reach[\"Number of followers\"] - reach[\"Number of following\"]\n",
    "print(reach.head()) \n"
   ]
  },
  {
   "cell_type": "code",
   "execution_count": null,
   "metadata": {
    "colab": {},
    "colab_type": "code",
    "executionInfo": {
     "elapsed": 25426,
     "status": "aborted",
     "timestamp": 1595184512324,
     "user": {
      "displayName": "Rofiah Adeshina",
      "photoUrl": "",
      "userId": "16819728728819546989"
     },
     "user_tz": -60
    },
    "id": "CZcjqFvPZzcG"
   },
   "outputs": [],
   "source": []
  },
  {
   "cell_type": "code",
   "execution_count": null,
   "metadata": {
    "colab": {},
    "colab_type": "code",
    "executionInfo": {
     "elapsed": 25420,
     "status": "aborted",
     "timestamp": 1595184512327,
     "user": {
      "displayName": "Rofiah Adeshina",
      "photoUrl": "",
      "userId": "16819728728819546989"
     },
     "user_tz": -60
    },
    "id": "-QKPJXRGGome"
   },
   "outputs": [],
   "source": []
  },
  {
   "cell_type": "markdown",
   "metadata": {
    "colab_type": "text",
    "id": "lBmhnfEwGomw"
   },
   "source": [
    "## Web scrapping using bash script\n",
    "If the web site has a quite simple HTML, you can easily use curl to perform the request and then extract the needed values using bash commands grep, cut , sed, ..\n",
    "\n",
    "This tutorial is adapted from [this](https://medium.com/@LiliSousa/web-scraping-with-bash-690e4ee7f98d) medium article"
   ]
  },
  {
   "cell_type": "code",
   "execution_count": null,
   "metadata": {
    "colab": {},
    "colab_type": "code",
    "executionInfo": {
     "elapsed": 25414,
     "status": "aborted",
     "timestamp": 1595184512330,
     "user": {
      "displayName": "Rofiah Adeshina",
      "photoUrl": "",
      "userId": "16819728728819546989"
     },
     "user_tz": -60
    },
    "id": "yL53kh9wGomy"
   },
   "outputs": [],
   "source": [
    "%%bash \n",
    "\n",
    "# curl the page and save content to tmp_file\n",
    "#url = \"https://www.atlanticcouncil.org/blogs/africasource/african-leaders-respond-to-coronavirus-on-twitter/#east-africa\"\n",
    "#curl -X GET $url -o tmp_file\n",
    "\n",
    "\n",
    "#!/bin/bash\n",
    "\n",
    "# write headers to CSV file\n",
    "echo \"Name, twitter_id\" >> extractData.csv\n",
    "n=\"1\"\n",
    "while [ $n -lt 2 ]\n",
    "do\n",
    "  \n",
    "  #get title\n",
    "  title=$(cat tmp_file | grep \"class=\\\"twitter-tweet\\\"\" | cut -d ';' -f1 )\n",
    "  echo $title\n",
    "  #get author\n",
    "  #twitter_id=$(cat tmp_file |grep -A1 \"class=\\\"css-901oao css-16my406 r-1qd0xha r-ad9z0x r-bcqeeo r-qvutc0\\\"\" | tail -1)\n",
    "\n",
    "  #echo \"$title, $twitter_id\" >> extractData.csv\n",
    "  #echo \"$title, $twitter_id\"\n",
    "    \n",
    "  n=$[$n+1]\n",
    "\n",
    "done"
   ]
  },
  {
   "cell_type": "code",
   "execution_count": null,
   "metadata": {
    "colab": {},
    "colab_type": "code",
    "executionInfo": {
     "elapsed": 25408,
     "status": "aborted",
     "timestamp": 1595184512333,
     "user": {
      "displayName": "Rofiah Adeshina",
      "photoUrl": "",
      "userId": "16819728728819546989"
     },
     "user_tz": -60
    },
    "id": "BcuIP_IXGom8"
   },
   "outputs": [],
   "source": []
  }
 ],
 "metadata": {
  "colab": {
   "collapsed_sections": [],
   "name": "Copy of Copy of scrapping_starter updated.ipynb",
   "provenance": [
    {
     "file_id": "1DiAGle7QmSRi2EHwN15NnsyUPklVnyGX",
     "timestamp": 1595186724360
    },
    {
     "file_id": "1-FjCJfNIAmr7Jck4jue0pKjBu4cGKwRf",
     "timestamp": 1595139295073
    }
   ]
  },
  "kernelspec": {
   "display_name": "Python 3",
   "language": "python",
   "name": "python3"
  },
  "language_info": {
   "codemirror_mode": {
    "name": "ipython",
    "version": 3
   },
   "file_extension": ".py",
   "mimetype": "text/x-python",
   "name": "python",
   "nbconvert_exporter": "python",
   "pygments_lexer": "ipython3",
   "version": "3.7.3"
  }
 },
 "nbformat": 4,
 "nbformat_minor": 4
}
