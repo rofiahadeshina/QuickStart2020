{
 "cells": [
  {
   "cell_type": "markdown",
   "metadata": {},
   "source": [
    "## Web scrapping using python\n",
    "\n",
    "#### References\n",
    "1. [Practical Introduction to Web Scraping in Python](https://realpython.com/python-web-scraping-practical-introduction/)\n",
    "2. [Web Scraping using Python](https://www.datacamp.com/community/tutorials/web-scraping-using-python)"
   ]
  },
  {
   "cell_type": "code",
   "execution_count": null,
   "metadata": {},
   "outputs": [],
   "source": [
    "# $ python3 -m venv venv\n",
    "# $ . ./venv/bin/activate"
   ]
  },
  {
   "cell_type": "code",
   "execution_count": null,
   "metadata": {},
   "outputs": [],
   "source": [
    "!pip install --upgrade pip"
   ]
  },
  {
   "cell_type": "code",
   "execution_count": null,
   "metadata": {},
   "outputs": [],
   "source": [
    "#Better\n",
    "!pip install requests BeautifulSoup4 fire\n"
   ]
  },
  {
   "cell_type": "code",
   "execution_count": 2,
   "metadata": {},
   "outputs": [],
   "source": [
    "from requests import get\n",
    "from requests.exceptions import RequestException\n",
    "from contextlib import closing\n",
    "from bs4 import BeautifulSoup\n",
    "import pandas as pd\n",
    "import os, sys\n",
    "\n",
    "import fire"
   ]
  },
  {
   "cell_type": "code",
   "execution_count": 3,
   "metadata": {},
   "outputs": [],
   "source": [
    "#%%writefile ../pyscrap_url.py\n",
    "\n",
    "def simple_get(url):\n",
    "    \"\"\"\n",
    "    Attempts to get the content at `url` by making an HTTP GET request.\n",
    "    If the content-type of response is some kind of HTML/XML, return the\n",
    "    text content, otherwise return None.\n",
    "    \"\"\"\n",
    "    try:\n",
    "        with closing(get(url, stream=True)) as resp:\n",
    "            if is_good_response(resp):\n",
    "                return resp.content  #.encode(BeautifulSoup.original_encoding)\n",
    "            else:\n",
    "                return None\n",
    "\n",
    "    except RequestException as e:\n",
    "        log_error('Error during requests to {0} : {1}'.format(url, str(e)))\n",
    "        return None\n",
    "\n",
    "\n",
    "def is_good_response(resp):\n",
    "    \"\"\"\n",
    "    Returns True if the response seems to be HTML, False otherwise.\n",
    "    \"\"\"\n",
    "    content_type = resp.headers['Content-Type'].lower()\n",
    "    return (resp.status_code == 200 \n",
    "            and content_type is not None \n",
    "            and content_type.find('html') > -1)\n",
    "\n",
    "\n",
    "def log_error(e):\n",
    "    \"\"\"\n",
    "    It is always a good idea to log errors. \n",
    "    This function just prints them, but you can\n",
    "    make it do anything.\n",
    "    \"\"\"\n",
    "    print(e)\n",
    "    \n",
    "def get_elements(url, tag='',search={}, fname=None):\n",
    "    \"\"\"\n",
    "    Downloads a page specified by the url parameter\n",
    "    and returns a list of strings, one per tag element\n",
    "    \"\"\"\n",
    "    \n",
    "    if isinstance(url,str):\n",
    "        response = simple_get(url)\n",
    "    else:\n",
    "        #if already it is a loaded html page\n",
    "        response = url\n",
    "\n",
    "    if response is not None:\n",
    "        html = BeautifulSoup(response, 'html.parser')\n",
    "        \n",
    "        res = []\n",
    "        if tag:    \n",
    "            for li in html.select(tag):\n",
    "                for name in li.text.split('\\n'):\n",
    "                    if len(name) > 0:\n",
    "                        res.append(name.strip())\n",
    "                       \n",
    "                \n",
    "        if search:\n",
    "            soup = html            \n",
    "            \n",
    "            \n",
    "            r = ''\n",
    "            if 'find' in search.keys():\n",
    "                print('findaing',search['find'])\n",
    "                soup = soup.find(**search['find'])\n",
    "                r = soup\n",
    "\n",
    "                \n",
    "            if 'find_all' in search.keys():\n",
    "                print('findaing all of',search['find_all'])\n",
    "                r = soup.find_all(**search['find_all'])\n",
    "   \n",
    "            if r:\n",
    "                for x in list(r):\n",
    "                    if len(x) > 0:\n",
    "                        res.extend(x)\n",
    "            \n",
    "        return res\n",
    "\n",
    "    # Raise an exception if we failed to get any data from the url\n",
    "    raise Exception('Error retrieving contents at {}'.format(url))    \n",
    "    \n",
    "    \n",
    "if get_ipython().__class__.__name__ == '__main__':\n",
    "    fire(get_tag_elements)"
   ]
  },
  {
   "cell_type": "code",
   "execution_count": 4,
   "metadata": {},
   "outputs": [],
   "source": [
    "res = get_elements('https://africafreak.com/100-most-influential-twitter-users-in-africa', tag='h2')\n",
    "\n"
   ]
  },
  {
   "cell_type": "code",
   "execution_count": 5,
   "metadata": {},
   "outputs": [],
   "source": [
    "res = get_elements('https://africafreak.com/100-most-influential-twitter-users-in-africa', tag='h2')\n",
    "#res = [i.replace(\".\",\",\").replace(\"(\",\",\").split(\",\") for i in res]\n",
    "res = [i.split(\"(\") for i in res]\n",
    "#res\n",
    "    \n"
   ]
  },
  {
   "cell_type": "code",
   "execution_count": 6,
   "metadata": {},
   "outputs": [
    {
     "name": "stdout",
     "output_type": "stream",
     "text": [
      "                          0                  1\n",
      "99          1. Trevor Noah        @Trevornoah)\n",
      "98         2. Gareth Cliff       @GarethCliff)\n",
      "97        3. Jacob G. Zuma       @SAPresident)\n",
      "96               4. News24            @News24)\n",
      "95  5. Julius Sello Malema   @Julius_S_Malema)\n",
      "94          6. Helen Zille        @helenzille)\n",
      "93      7. mailandguardian   @mailandguardian)\n",
      "92                  8. 5FM               @5FM)\n",
      "91          9. loyiso gola        @loyisogola)\n",
      "90         10. Computicket       @Computicket)\n"
     ]
    }
   ],
   "source": [
    "df = pd.DataFrame(res)\n",
    "df_new = df.iloc[0:100]\n",
    "#print(df_new)\n",
    "reversed_df = df_new.iloc[::-1]\n",
    "final_reverse = reversed_df.head(10)\n",
    "print(final_reverse)"
   ]
  },
  {
   "cell_type": "code",
   "execution_count": 7,
   "metadata": {},
   "outputs": [],
   "source": [
    "url= 'https://www.atlanticcouncil.org/blogs/africasource/african-leaders-respond-to-coronavirus-on-twitter/#east-africa'\n",
    "response = simple_get(url)"
   ]
  },
  {
   "cell_type": "code",
   "execution_count": 9,
   "metadata": {},
   "outputs": [
    {
     "name": "stdout",
     "output_type": "stream",
     "text": [
      "Eswatini Government:@EswatiniGovern1\n",
      "Malawi Government:@MalawiGovt\n",
      "Hage G. Geingob:@hagegeingob\n",
      "Seychelles Ministry of Finance:@FinanceSC\n",
      "PresidencyZA:@PresidencyZA\n",
      "Ministry of Health Zambia:@mohzambia\n",
      "President of Zimbabwe:@edmnangagwa\n",
      "MinSantédj:@MinSantedj\n",
      "Yemane G. Meskel:@hawelti\n",
      "State House Kenya:@StateHouseKenya\n",
      "Paul Kagame:@PaulKagame\n",
      "Mohamed Farmaajo:@M_Farmaajo\n",
      "H.E Hussein Abdelbagi Akol:@SouthSudanGov\n",
      "Abdalla Hamdok:@SudanPMHamdok\n",
      "TanzaniaSpokesperson:@TZSpokesperson\n",
      "Yoweri K Museveni:@KagutaMuseveni\n",
      "MOFA/MRE -(Angola):@angola_Mirex\n",
      "Amb. Willy Nyamitwe:@willynyamitwe\n",
      "Chérif Mahamat Zene:@Cherif_MZ\n",
      "Présidence RDC 🇨🇩:@Presidence_RDC\n",
      "Ali Bongo Ondimba:@PresidentABO\n",
      "Présidence du Bénin:@PresidenceBenin\n",
      "Roch KABORE:@rochkaborepf\n",
      "Presidente Cabo Verde:@PresidenciaCV\n",
      "Alassane Ouattara:@AOuattara_PRCI\n",
      "State House of The Gambia:@Presidency_GMB\n",
      "Nana Akufo-Addo:@NAkufoAddo\n",
      "Pr. Alpha CONDÉ:@President_GN\n",
      "Umaro Sissoco Embalo:@USEmbalo\n",
      "Presidence Mali:@PresidenceMali\n",
      "Mohamed Cheikh El Ghazouani محمد الشيخ الغزواني:@CheikhGhazouani\n",
      "Issoufou Mahamadou:@IssoufouMhm\n",
      "Muhammadu Buhari:@MBuhari\n",
      "Macky Sall:@Macky_Sall\n",
      "President Julius Maada Bio:@PresidentBio\n",
      "Ministère de la Santé et de l'hygiène Publique:@MSPS_Togo\n"
     ]
    }
   ],
   "source": [
    "url= 'https://www.atlanticcouncil.org/blogs/africasource/african-leaders-respond-to-coronavirus-on-twitter/#east-africa'\n",
    "response = get(url).content\n",
    "res_gov = get_elements(response, tag='blockquote')\n",
    "for r in res_gov:\n",
    "    split_data = r.split('— ',maxsplit=1)[1].rsplit('(',maxsplit=1)\n",
    "    #print(split_data)\n",
    "    name = split_data[0].split(',')[0].strip()\n",
    "    handle =  split_data[1].rsplit(')',maxsplit=1)[0]\n",
    "    print(f'{name}:{handle}')\n",
    "#res[:2]"
   ]
  },
  {
   "cell_type": "markdown",
   "metadata": {},
   "source": [
    "## Web scrapping using bash script\n",
    "If the web site has a quite simple HTML, you can easily use curl to perform the request and then extract the needed values using bash commands grep, cut , sed, ..\n",
    "\n",
    "This tutorial is adapted from [this](https://medium.com/@LiliSousa/web-scraping-with-bash-690e4ee7f98d) medium article"
   ]
  },
  {
   "cell_type": "code",
   "execution_count": null,
   "metadata": {},
   "outputs": [],
   "source": [
    "%%bash \n",
    "\n",
    "# curl the page and save content to tmp_file\n",
    "#url = \"https://www.atlanticcouncil.org/blogs/africasource/african-leaders-respond-to-coronavirus-on-twitter/#east-africa\"\n",
    "#curl -X GET $url -o tmp_file\n",
    "\n",
    "\n",
    "#!/bin/bash\n",
    "\n",
    "# write headers to CSV file\n",
    "echo \"Name, twitter_id\" >> extractData.csv\n",
    "n=\"1\"\n",
    "while [ $n -lt 2 ]\n",
    "do\n",
    "  \n",
    "  #get title\n",
    "  title=$(cat tmp_file | grep \"class=\\\"twitter-tweet\\\"\" | cut -d ';' -f1 )\n",
    "  echo $title\n",
    "  #get author\n",
    "  #twitter_id=$(cat tmp_file |grep -A1 \"class=\\\"css-901oao css-16my406 r-1qd0xha r-ad9z0x r-bcqeeo r-qvutc0\\\"\" | tail -1)\n",
    "\n",
    "  #echo \"$title, $twitter_id\" >> extractData.csv\n",
    "  #echo \"$title, $twitter_id\"\n",
    "    \n",
    "  n=$[$n+1]\n",
    "\n",
    "done"
   ]
  },
  {
   "cell_type": "code",
   "execution_count": null,
   "metadata": {},
   "outputs": [],
   "source": []
  }
 ],
 "metadata": {
  "kernelspec": {
   "display_name": "Python 3",
   "language": "python",
   "name": "python3"
  },
  "language_info": {
   "codemirror_mode": {
    "name": "ipython",
    "version": 3
   },
   "file_extension": ".py",
   "mimetype": "text/x-python",
   "name": "python",
   "nbconvert_exporter": "python",
   "pygments_lexer": "ipython3",
   "version": "3.7.3"
  }
 },
 "nbformat": 4,
 "nbformat_minor": 4
}
